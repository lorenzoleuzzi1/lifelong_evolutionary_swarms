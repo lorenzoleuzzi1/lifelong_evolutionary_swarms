{
 "cells": [
  {
   "cell_type": "code",
   "execution_count": null,
   "metadata": {},
   "outputs": [],
   "source": [
    "import importlib\n",
    "import environment \n",
    "import neural_controller\n",
    "importlib.reload(environment)\n",
    "\n",
    "import numpy as np\n",
    "import time\n",
    "import random\n",
    "import openai"
   ]
  },
  {
   "cell_type": "code",
   "execution_count": null,
   "metadata": {},
   "outputs": [],
   "source": [
    "openai.api_key = 'your-api-key'"
   ]
  },
  {
   "cell_type": "code",
   "execution_count": null,
   "metadata": {},
   "outputs": [],
   "source": [
    "context = \"\""
   ]
  },
  {
   "cell_type": "code",
   "execution_count": null,
   "metadata": {},
   "outputs": [],
   "source": [
    "def get_robot_actions(robot_data):\n",
    "    query = format_gpt_query(robot_data)\n",
    "    response = openai.ChatCompletion.create(\n",
    "        model=\"gpt-3.5-turbo\",\n",
    "        messages=[{\"role\": \"system\", \"content\": \"Output actions for robots based on observations.\"},\n",
    "                  {\"role\": \"user\", \"content\": query}]\n",
    "    )\n",
    "    actions = parse_actions(response['choices'][0]['message']['content'])\n",
    "    return actions"
   ]
  },
  {
   "cell_type": "code",
   "execution_count": null,
   "metadata": {},
   "outputs": [],
   "source": [
    "import time\n",
    "\n",
    "while True:\n",
    "    # Simulated function to get data from robots\n",
    "    robot_data = get_robot_data()\n",
    "    actions = get_robot_actions(robot_data)\n",
    "    send_actions_to_robots(actions)\n",
    "    time.sleep(1)  # Adjust timing based on your requirements\n"
   ]
  }
 ],
 "metadata": {
  "language_info": {
   "name": "python"
  }
 },
 "nbformat": 4,
 "nbformat_minor": 2
}
