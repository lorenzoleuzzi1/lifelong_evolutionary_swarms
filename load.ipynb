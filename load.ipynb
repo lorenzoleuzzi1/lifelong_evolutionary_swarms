{
 "cells": [
  {
   "cell_type": "code",
   "execution_count": 26,
   "metadata": {},
   "outputs": [
    {
     "data": {
      "text/plain": [
       "<module 'utils' from '/Users/lorenzoleuzzi/Documents/GitHub/lifelong_evolutionary_swarms/utils.py'>"
      ]
     },
     "execution_count": 26,
     "metadata": {},
     "output_type": "execute_result"
    }
   ],
   "source": [
    "import experiment\n",
    "import neat\n",
    "import numpy as np\n",
    "import os\n",
    "import importlib\n",
    "import environment\n",
    "import utils\n",
    "importlib.reload(experiment)\n",
    "importlib.reload(environment)\n",
    "importlib.reload(utils)"
   ]
  },
  {
   "cell_type": "code",
   "execution_count": 27,
   "metadata": {},
   "outputs": [
    {
     "name": "stdout",
     "output_type": "stream",
     "text": [
      "Loading experiment from /Users/lorenzoleuzzi/Library/CloudStorage/OneDrive-UniversityofPisa/lifelong_evolutionary_swarms/results/results/retention_pop/neat_500_300_300_5_20_u/seed1/static3_drift34\n",
      "['episode.gif', 'evolution_plot.png', 'population.pkl', 'episode_retention_top.gif', 'env.pkl', 'neat_config.pkl', 'episode_retention_population.gif', 'experiment.json', 'logbook.json', 'best_genome.pkl']\n"
     ]
    }
   ],
   "source": [
    "path = os.path.abspath(\"/Users/lorenzoleuzzi/Library/CloudStorage/OneDrive-UniversityofPisa/lifelong_evolutionary_swarms/results/results/retention_pop/neat_500_300_300_5_20_u/seed1/static3_drift34\")\n",
    "e = experiment.LifelongEvoSwarmExperiment()\n",
    "e.load(path)\n",
    "controller = neat.nn.FeedForwardNetwork.create(e.best_individual, e.config_neat)\n",
    "env = e.env\n",
    "seed = e.seed"
   ]
  },
  {
   "cell_type": "code",
   "execution_count": 29,
   "metadata": {},
   "outputs": [],
   "source": [
    "# Create directory for saving the results\n",
    "directory = '/Users/lorenzoleuzzi/Documents/GitHub/lifelong_evolutionary_swarms/results/retention_pop/neat_500_300_300_5_20_u/seed1/static3_drift34'\n",
    "os.makedirs(directory, exist_ok=True)\n",
    "e.run_best(save=True) # Run the best individual on the environment and save the episode"
   ]
  },
  {
   "cell_type": "code",
   "execution_count": 18,
   "metadata": {},
   "outputs": [
    {
     "name": "stdout",
     "output_type": "stream",
     "text": [
      ". . . . . . . . . . . . . . . . . . . . .\n",
      ". . . . . . . . . . . . . . . . . . . . .\n",
      ". . . . . 0 . . . . 1 . . . . . . . . . .\n",
      ". . . . . . . . . . . . . . . 2 . . . . .\n",
      ". . . . . . . . . . . . . . . . . . . . .\n",
      ". . . . . . . . . . . . . . . . . . . . .\n",
      ". . . . . . . . . . . . . . . . . . . . .\n",
      ". . . . . . . . . . . . . . . . . . . . .\n",
      ". . . . . . . . . . . . . . . . . . . . .\n",
      ". . . . . . . . . . . . . . . . . . . . .\n",
      ". . . . . . . . . . . . . . . . . . . . .\n",
      ". . . . . . . . . . . . . . . . . . . . .\n",
      ". . . . . . . . . . . . . . . . . . . . .\n",
      ". . . . . . . . . . . . . . . . . . . . .\n",
      ". . . . . . . . . . . . . . . . . . . . .\n",
      ". . . . . . \u001b[94mO\u001b[0m . . . . . \u001b[91mO\u001b[0m . . . . . \u001b[92mO\u001b[0m . .\n",
      ". . \u001b[91mO\u001b[0m . . . . . \u001b[92mO\u001b[0m . . . . . . . . . . . .\n",
      ". . . . . . . . . . . . . . . . . . . . .\n",
      ". . . . . . . . . . . . \u001b[94mO\u001b[0m . . . . . . . .\n",
      ". . . . . . . . . . . . . . . . . . . . .\n",
      ". . . . . . . . . . . . . . . . . . . . .\n"
     ]
    },
    {
     "data": {
      "image/png": "[encoded data removed]",
      "text/plain": [
       "<PIL.Image.Image image mode=RGB size=420x420>"
      ]
     },
     "execution_count": 18,
     "metadata": {},
     "output_type": "execute_result"
    }
   ],
   "source": [
    "env.reset(seed=seed)\n",
    "env.render()"
   ]
  },
  {
   "cell_type": "code",
   "execution_count": null,
   "metadata": {},
   "outputs": [],
   "source": [
    "fitness = 0"
   ]
  },
  {
   "cell_type": "code",
   "execution_count": 9,
   "metadata": {},
   "outputs": [
    {
     "name": "stdout",
     "output_type": "stream",
     "text": [
      "3.0\n"
     ]
    },
    {
     "data": {
      "image/png": "[encoded data removed]",
      "text/plain": [
       "<PIL.Image.Image image mode=RGB size=420x420>"
      ]
     },
     "execution_count": 9,
     "metadata": {},
     "output_type": "execute_result"
    }
   ],
   "source": [
    "for i in range(1000):\n",
    "    nn_inputs = env.process_observation(obs)\n",
    "    # print(obs)\n",
    "    # print(nn_inputs)\n",
    "    nn_outputs = np.array([controller.activate(nn_input) for nn_input in nn_inputs])\n",
    "    # print(nn_outputs)\n",
    "    actions = (2 * nn_outputs - 1) * env.max_wheel_velocity # Scale output sigmoid in range of wheel velocity\n",
    "    # env.render()\n",
    "    # print(env.agents_location)\n",
    "    obs, reward, done, truncated, _ = env.step(actions)\n",
    "    fitness += reward\n",
    "    if done or truncated:\n",
    "        print(f\"Done: {done}, Truncated: {truncated}, Fitness: {fitness}\")\n",
    "        break\n",
    "print(fitness)\n",
    "env.render(False)"
   ]
  }
 ],
 "metadata": {
  "kernelspec": {
   "display_name": "Python 3",
   "language": "python",
   "name": "python3"
  },
  "language_info": {
   "codemirror_mode": {
    "name": "ipython",
    "version": 3
   },
   "file_extension": ".py",
   "mimetype": "text/x-python",
   "name": "python",
   "nbconvert_exporter": "python",
   "pygments_lexer": "ipython3",
   "version": "3.10.7"
  }
 },
 "nbformat": 4,
 "nbformat_minor": 2
}
