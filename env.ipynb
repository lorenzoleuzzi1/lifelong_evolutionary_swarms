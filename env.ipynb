{
 "cells": [
  {
   "cell_type": "markdown",
   "metadata": {},
   "source": [
    "# Environment Demo"
   ]
  },
  {
   "cell_type": "code",
   "execution_count": 17,
   "metadata": {},
   "outputs": [],
   "source": [
    "import numpy as np\n",
    "import pygame\n",
    "\n",
    "import gymnasium as gym\n",
    "from gymnasium import spaces\n",
    "from math import sqrt, atan2, degrees"
   ]
  },
  {
   "cell_type": "markdown",
   "metadata": {},
   "source": [
    "## Robot features\n",
    "\n",
    "- 2.5 cm diameter\n",
    "- compass\n",
    "- 360 vision sensor and object reconition in range 0.5m\n",
    "- comunication between others robots (0.5m range)\n",
    "- ability to pick up stuff (in they're in the same position of the object)\n",
    "- holonomic motion (every directions)"
   ]
  },
  {
   "cell_type": "code",
   "execution_count": 18,
   "metadata": {},
   "outputs": [],
   "source": [
    "ROBOT_SIZE = 2.5\n",
    "SENSOR_RANGE = 50"
   ]
  },
  {
   "cell_type": "markdown",
   "metadata": {},
   "source": [
    "Since we are in a 2d gridworld environment a robot can move only in a discrete space of directions. The robot can move in 8 directions (N, NE, E, SE, S, SW, W, NW). The robot can also pick up objects and put them down."
   ]
  },
  {
   "cell_type": "code",
   "execution_count": 19,
   "metadata": {},
   "outputs": [],
   "source": [
    "STAY = 0\n",
    "N = 1\n",
    "NE = 2\n",
    "E = 3\n",
    "SE = 4\n",
    "S = 5\n",
    "SW = 6\n",
    "W = 7\n",
    "NW = 8\n",
    "PICK_UP = 9\n",
    "PUT_DOWN = 10"
   ]
  },
  {
   "cell_type": "markdown",
   "metadata": {},
   "source": [
    "The robots have 16 sensors, so it's safe to assume that they could detect the closest objects in all 360 angle. The sensor also allows the robot to detect the distance to the object and the type of the object. So we can define the sensor as a tuple (angle, distance, object_type) and each robot would have a list of 16 of these tuples."
   ]
  },
  {
   "cell_type": "markdown",
   "metadata": {},
   "source": [
    "## Arena\n",
    "\n",
    "5m x 5m with robots and colored objects "
   ]
  },
  {
   "cell_type": "code",
   "execution_count": 20,
   "metadata": {},
   "outputs": [],
   "source": [
    "ARENA_SIZE = 500 / ROBOT_SIZE"
   ]
  },
  {
   "cell_type": "markdown",
   "metadata": {},
   "source": [
    "## Environment construction"
   ]
  },
  {
   "cell_type": "code",
   "execution_count": 89,
   "metadata": {},
   "outputs": [],
   "source": [
    "class GridWorldEnv(gym.Env):\n",
    "    metadata = {\"render_modes\": [\"human\", \"rgb_array\"], \"render_fps\": 4}\n",
    "    def __init__(\n",
    "            self, \n",
    "            render_mode=None, \n",
    "            size=100, \n",
    "            n_agents=3, \n",
    "            n_blocks=3, \n",
    "            n_sensors = 6, \n",
    "            sensor_range=5,\n",
    "            sensor_degree = 360,\n",
    "            seed=None\n",
    "            ):\n",
    "        \n",
    "        self.size = size  # The size of the square grid\n",
    "        self.window_size = 512  # The size of the PyGame window\n",
    "\n",
    "        self._n_agents = n_agents\n",
    "        self.n_blocks = n_blocks\n",
    "\n",
    "        self._n_sensors = n_sensors\n",
    "        self._sensors_range = sensor_range\n",
    "        self._sensors_degree = sensor_degree\n",
    "        self._sensors_angle = self._sensors_degree / self._n_sensors\n",
    "\n",
    "        self._agents_locations = np.zeros((self._n_agents, 2), dtype=int)\n",
    "        \n",
    "        self._sensors = np.zeros((self._n_agents, n_sensors, 3), dtype=int) # init sensors\n",
    "        \n",
    "        # All directions\n",
    "        self._action_to_direction = {\n",
    "            STAY : np.array([0, 0]),\n",
    "            N : np.array([0, -1]),\n",
    "            NE : np.array([1, -1]),\n",
    "            E : np.array([1, 0]),\n",
    "            SE : np.array([1, 1]),\n",
    "            S : np.array([0, 1]),\n",
    "            SW : np.array([-1, 1]),\n",
    "            W : np.array([-1, 0]),\n",
    "            NW : np.array([-1, -1]),\n",
    "        }\n",
    "        self._other_actions = [PICK_UP, PUT_DOWN]\n",
    "\n",
    "        n_total_actions = len(self._action_to_direction) + len(self._other_actions)\n",
    "        \n",
    "        self.action_space = spaces.Tuple([spaces.Discrete(n_total_actions) for _ in range(self._n_agents)])\n",
    "\n",
    "        self.observation_space = spaces.Dict(\n",
    "            {\n",
    "                \"sensors\": spaces.Box(0, 255, shape=(self._n_agents, n_sensors, 3), dtype=int),\n",
    "            }\n",
    "        )\n",
    "\n",
    "        assert render_mode is None or render_mode in self.metadata[\"render_modes\"]\n",
    "        self.render_mode = render_mode\n",
    "        self.window = None\n",
    "        self.clock = None\n",
    "\n",
    "    def _calculate_distance_direction(self, pointA, pointB, distance_type='euclidean'):\n",
    "        \"\"\"\n",
    "        Calculate the distance and direction in degrees from pointA to pointB in a grid world.\n",
    "\n",
    "        Parameters:\n",
    "        - pointA: Tuple[int, int] representing the coordinates of the first point (x1, y1).\n",
    "        - pointB: Tuple[int, int] representing the coordinates of the second point (x2, y2).\n",
    "        - distance_type: String indicating the type of distance to calculate ('manhattan' or 'euclidean').\n",
    "\n",
    "        Returns:\n",
    "        - distance: The calculated distance between the two points.\n",
    "        - direction_degrees: The direction from pointA to pointB in degrees from 0 to 360.\n",
    "        \"\"\"\n",
    "        x1, y1 = pointA\n",
    "        x2, y2 = pointB\n",
    "\n",
    "        # Calculate distance\n",
    "        if distance_type == 'manhattan':\n",
    "            distance = abs(x1 - x2) + abs(y1 - y2)\n",
    "        elif distance_type == 'euclidean':\n",
    "            distance = sqrt((x1 - x2) ** 2 + (y1 - y2) ** 2)\n",
    "        else:\n",
    "            raise ValueError(\"Invalid distance type. Use 'manhattan' or 'euclidean'.\")\n",
    "\n",
    "        # Calculate direction in degrees\n",
    "        angle_radians = atan2(y2 - y1, x2 - x1)\n",
    "        direction_degrees = degrees(angle_radians)\n",
    "        # TODO: south is 0 degrees, east is 90 degrees, north is 180 degrees, west is -90 degrees\n",
    "\n",
    "\n",
    "        return distance, direction_degrees\n",
    "    \n",
    "    def _get_obs(self):\n",
    "        # Mimic sensors reading\n",
    "        for i in range(self._n_agents):\n",
    "            for j in range(self._n_agents):\n",
    "                if i != j:\n",
    "\n",
    "                    distance, direction = self._calculate_distance_direction(self._agents_locations[i], \n",
    "                                                                            self._agents_locations[j])\n",
    "                    if distance <= self._sensors_range:\n",
    "                        sensor_index = int(direction / self._sensors_angle)\n",
    "                        self._sensors[i, sensor_index] = [direction, distance, j]\n",
    "                        print(f\"Agent {i} sees agent {j} at {direction} degrees and {distance} distance\")\n",
    "                    else:\n",
    "                        print(f\"Agent {i} doesn't see agent {j}\")\n",
    "                        self._sensors[i, :] = [0, 0, 0]\n",
    "                \n",
    "        \n",
    "        return {\"sensors\": self._sensors}\n",
    "                \n",
    "    def reset(self, seed=None, options=None):\n",
    "        # We need the following line to seed self.np_random\n",
    "        super().reset(seed=seed)\n",
    "\n",
    "        # Choose the agent's location uniformly at random\n",
    "        for i in range(self._n_agents):\n",
    "            self._agents_locations[i] = self.np_random.integers(0, self.size, size=2, dtype=int)\n",
    "\n",
    "        observation = self._get_obs()\n",
    "        # info = self._get_info()\n",
    "        info = None\n",
    "\n",
    "        if self.render_mode == \"human\":\n",
    "            self._render_frame()\n",
    "\n",
    "        return observation, info\n",
    "    \n",
    "    def step(self, action):\n",
    "        for i in range(self._n_agents):\n",
    "            \n",
    "            # Map the action (element of {0,1,2,3}) to the direction we walk in\n",
    "            direction = self._action_to_direction[action[i]]\n",
    "            \n",
    "            # We use `np.clip` to make sure we don't leave the grid\n",
    "            self._agents_locations[i] = np.clip(\n",
    "                self._agents_locations[i] + direction, 0, self.size - 1\n",
    "            )\n",
    "        # An episode is done iff the agent has reached the target\n",
    "        # terminated = np.array_equal(self._agent_location, self._target_location)\n",
    "        # reward = 1 if terminated else 0  # Binary sparse rewards\n",
    "        observation = self._get_obs()\n",
    "\n",
    "        if self.render_mode == \"human\":\n",
    "            self._render_frame()\n",
    "\n",
    "        return observation, None, None, False, None\n",
    "\n",
    "    def render(self):\n",
    "        if self.render_mode == \"rgb_array\":\n",
    "            return self._render_frame()\n",
    "\n",
    "    def _render_frame(self):\n",
    "        if self.window is None and self.render_mode == \"human\":\n",
    "            pygame.init()\n",
    "            pygame.display.init()\n",
    "            self.window = pygame.display.set_mode(\n",
    "                (self.window_size, self.window_size)\n",
    "            )\n",
    "        if self.clock is None and self.render_mode == \"human\":\n",
    "            self.clock = pygame.time.Clock()\n",
    "\n",
    "        canvas = pygame.Surface((self.window_size, self.window_size))\n",
    "        canvas.fill((255, 255, 255))\n",
    "        pix_square_size = (\n",
    "            self.window_size / self.size\n",
    "        )  # The size of a single grid square in pixels\n",
    "\n",
    "        # First we draw the target\n",
    "        pygame.draw.rect(\n",
    "            canvas,\n",
    "            (255, 0, 0),\n",
    "            pygame.Rect(\n",
    "                pix_square_size * self._target_location,\n",
    "                (pix_square_size, pix_square_size),\n",
    "            ),\n",
    "        )\n",
    "        # Now we draw the agent\n",
    "        pygame.draw.circle(\n",
    "            canvas,\n",
    "            (0, 0, 255),\n",
    "            (self._agent_location + 0.5) * pix_square_size,\n",
    "            pix_square_size / 3,\n",
    "        )\n",
    "\n",
    "        # Finally, add some gridlines\n",
    "        for x in range(self.size + 1):\n",
    "            pygame.draw.line(\n",
    "                canvas,\n",
    "                0,\n",
    "                (0, pix_square_size * x),\n",
    "                (self.window_size, pix_square_size * x),\n",
    "                width=3,\n",
    "            )\n",
    "            pygame.draw.line(\n",
    "                canvas,\n",
    "                0,\n",
    "                (pix_square_size * x, 0),\n",
    "                (pix_square_size * x, self.window_size),\n",
    "                width=3,\n",
    "            )\n",
    "\n",
    "        if self.render_mode == \"human\":\n",
    "            # The following line copies our drawings from `canvas` to the visible window\n",
    "            self.window.blit(canvas, canvas.get_rect())\n",
    "            pygame.event.pump()\n",
    "            pygame.display.update()\n",
    "\n",
    "            # We need to ensure that human-rendering occurs at the predefined framerate.\n",
    "            # The following line will automatically add a delay to keep the framerate stable.\n",
    "            self.clock.tick(self.metadata[\"render_fps\"])\n",
    "        else:  # rgb_array\n",
    "            return np.transpose(\n",
    "                np.array(pygame.surfarray.pixels3d(canvas)), axes=(1, 0, 2)\n",
    "            )\n",
    "        \n",
    "    def close(self):\n",
    "        if self.window is not None:\n",
    "            pygame.display.quit()\n",
    "            pygame.quit()"
   ]
  },
  {
   "cell_type": "code",
   "execution_count": 90,
   "metadata": {},
   "outputs": [],
   "source": [
    "env = GridWorldEnv(render_mode='rgb_array', size=5, n_agents=3, n_blocks=3)"
   ]
  },
  {
   "cell_type": "code",
   "execution_count": 91,
   "metadata": {},
   "outputs": [
    {
     "name": "stdout",
     "output_type": "stream",
     "text": [
      "Agent 0 sees agent 1 at -116.56505117707799 degrees and 4.47213595499958 distance\n",
      "Agent 0 sees agent 2 at -135.0 degrees and 2.8284271247461903 distance\n",
      "Agent 1 sees agent 0 at 63.43494882292201 degrees and 4.47213595499958 distance\n",
      "Agent 1 sees agent 2 at 90.0 degrees and 2.0 distance\n",
      "Agent 2 sees agent 0 at 45.0 degrees and 2.8284271247461903 distance\n",
      "Agent 2 sees agent 1 at -90.0 degrees and 2.0 distance\n"
     ]
    }
   ],
   "source": [
    "initial_state = env.reset()"
   ]
  },
  {
   "cell_type": "code",
   "execution_count": 92,
   "metadata": {},
   "outputs": [
    {
     "data": {
      "text/plain": [
       "array([[4, 4],\n",
       "       [2, 0],\n",
       "       [2, 2]])"
      ]
     },
     "execution_count": 92,
     "metadata": {},
     "output_type": "execute_result"
    }
   ],
   "source": [
    "env._agents_locations"
   ]
  },
  {
   "cell_type": "code",
   "execution_count": 80,
   "metadata": {},
   "outputs": [
    {
     "data": {
      "text/plain": [
       "({'sensors': array([[[ 26,   2,   2],\n",
       "          [  0,   0,   0],\n",
       "          [  0,   0,   0],\n",
       "          [206,   2,   1],\n",
       "          [  0,   0,   0],\n",
       "          [  0,   0,   0]],\n",
       "  \n",
       "         [[  0,   0,   0],\n",
       "          [ 90,   2,   2],\n",
       "          [153,   2,   0],\n",
       "          [  0,   0,   0],\n",
       "          [  0,   0,   0],\n",
       "          [  0,   0,   0]],\n",
       "  \n",
       "         [[  0,   0,   0],\n",
       "          [  0,   0,   0],\n",
       "          [  0,   0,   0],\n",
       "          [  0,   0,   0],\n",
       "          [270,   2,   1],\n",
       "          [333,   2,   0]]])},\n",
       " None)"
      ]
     },
     "execution_count": 80,
     "metadata": {},
     "output_type": "execute_result"
    }
   ],
   "source": [
    "initial_state"
   ]
  },
  {
   "cell_type": "code",
   "execution_count": null,
   "metadata": {},
   "outputs": [
    {
     "name": "stdout",
     "output_type": "stream",
     "text": [
      "({'locations': [array([ 0, 21]), array([49,  9]), array([49,  3])]}, None)\n",
      "(1, 1, 3)\n",
      "({'locations': [array([ 0, 22]), array([49, 10]), array([49,  2])]}, None, None, False, None)\n"
     ]
    }
   ],
   "source": [
    "initial_state = env.reset()\n",
    "print(initial_state)\n",
    "step = env.action_space.sample()\n",
    "print(step)\n",
    "next_state = env.step(step)\n",
    "print(next_state)"
   ]
  },
  {
   "cell_type": "code",
   "execution_count": 105,
   "metadata": {},
   "outputs": [],
   "source": [
    "\n",
    "\n",
    "def calculate_distance_direction_degrees(pointA, pointB, distance_type='euclidean'):\n",
    "    \"\"\"\n",
    "    Calculate the distance and direction in degrees from pointA to pointB in a grid world.\n",
    "\n",
    "    Parameters:\n",
    "    - pointA: Tuple[int, int] representing the coordinates of the first point (x1, y1).\n",
    "    - pointB: Tuple[int, int] representing the coordinates of the second point (x2, y2).\n",
    "    - distance_type: String indicating the type of distance to calculate ('manhattan' or 'euclidean').\n",
    "\n",
    "    Returns:\n",
    "    - distance: The calculated distance between the two points.\n",
    "    - direction_degrees: The direction from pointA to pointB in degrees from 0 to 360.\n",
    "    \"\"\"\n",
    "    x1, y1 = pointA\n",
    "    x2, y2 = pointB\n",
    "\n",
    "    # Calculate distance\n",
    "    if distance_type == 'manhattan':\n",
    "        distance = abs(x1 - x2) + abs(y1 - y2)\n",
    "    elif distance_type == 'euclidean':\n",
    "        distance = sqrt((x1 - x2) ** 2 + (y1 - y2) ** 2)\n",
    "    else:\n",
    "        raise ValueError(\"Invalid distance type. Use 'manhattan' or 'euclidean'.\")\n",
    "\n",
    "    # Calculate direction in degrees\n",
    "    angle_radians = atan2(y2 - y1, x2 - x1)\n",
    "    direction_degrees = degrees(angle_radians)\n",
    "    # direction_degrees = (90 - direction_degrees) % 360 \n",
    "    \n",
    "    return distance, direction_degrees"
   ]
  },
  {
   "cell_type": "code",
   "execution_count": 107,
   "metadata": {},
   "outputs": [
    {
     "name": "stdout",
     "output_type": "stream",
     "text": [
      "Manhattan distance: 3, Direction: 270.0 degrees\n",
      "Euclidean distance: 3.0, Direction: 270.0 degrees\n"
     ]
    }
   ],
   "source": [
    "# Example usage\n",
    "pointA = (3, 3)\n",
    "pointB = (0, 3)\n",
    "\n",
    "distance, direction_degrees = calculate_distance_direction_degrees(pointA, pointB, 'manhattan')\n",
    "print(f\"Manhattan distance: {distance}, Direction: {direction_degrees} degrees\")\n",
    "\n",
    "distance, direction_degrees = calculate_distance_direction_degrees(pointA, pointB, 'euclidean')\n",
    "print(f\"Euclidean distance: {distance}, Direction: {direction_degrees} degrees\")"
   ]
  }
 ],
 "metadata": {
  "kernelspec": {
   "display_name": "Python 3",
   "language": "python",
   "name": "python3"
  },
  "language_info": {
   "codemirror_mode": {
    "name": "ipython",
    "version": 3
   },
   "file_extension": ".py",
   "mimetype": "text/x-python",
   "name": "python",
   "nbconvert_exporter": "python",
   "pygments_lexer": "ipython3",
   "version": "3.10.7"
  }
 },
 "nbformat": 4,
 "nbformat_minor": 2
}
