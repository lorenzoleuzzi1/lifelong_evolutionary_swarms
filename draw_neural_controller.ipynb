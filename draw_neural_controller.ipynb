{
 "cells": [
  {
   "cell_type": "code",
   "execution_count": 21,
   "metadata": {},
   "outputs": [],
   "source": [
    "from utils import draw_net\n",
    "import pickle\n",
    "import os"
   ]
  },
  {
   "cell_type": "code",
   "execution_count": 28,
   "metadata": {},
   "outputs": [
    {
     "name": "stdout",
     "output_type": "stream",
     "text": [
      "seed13\n",
      "seed24\n",
      ".DS_Store\n",
      "experiment_plot_retention_top_.png\n",
      "experiment_plot_retention_top.png\n",
      "seed31\n",
      "seed17\n",
      "seed42\n",
      "experiment_metrics_retention_top.csv\n",
      "n_species.png\n"
     ]
    }
   ],
   "source": [
    "NAME = \"reg_best\"\n",
    "# Load and draw\n",
    "path = \"/Users/lorenzoleuzzi/Library/CloudStorage/OneDrive-UniversityofPisa/lifelong_evolutionary_swarms/results_gecco4/reg_gd_snz_best/diff_lambdas\"\n",
    "# list directiories \n",
    "for i in os.listdir(path):\n",
    "    # list drifts\n",
    "    print(i)\n",
    "    for j in os.listdir(f\"{path}/{i}\") if os.path.isdir(f\"{path}/{i}\") else []:\n",
    "        for l in os.listdir(f\"{path}/{i}/{j}\") if os.path.isdir(f\"{path}/{i}/{j}\") else []:\n",
    "            if l == \"best_genome.pkl\":\n",
    "                with open(f\"{path}/{i}/{j}/{l}\", \"rb\") as f:\n",
    "                    g = pickle.load(f)\n",
    "\n",
    "                with open(f\"{path}/{i}/{j}/neat_config.pkl\", \"rb\") as f:\n",
    "                    c = pickle.load(f) \n",
    "\n",
    "                draw_net(c, g, filename=f\"networks/{NAME}/{i}_{j}\", fmt=\"pdf\")"
   ]
  }
 ],
 "metadata": {
  "kernelspec": {
   "display_name": "Python 3",
   "language": "python",
   "name": "python3"
  },
  "language_info": {
   "codemirror_mode": {
    "name": "ipython",
    "version": 3
   },
   "file_extension": ".py",
   "mimetype": "text/x-python",
   "name": "python",
   "nbconvert_exporter": "python",
   "pygments_lexer": "ipython3",
   "version": "3.10.7"
  }
 },
 "nbformat": 4,
 "nbformat_minor": 2
}
