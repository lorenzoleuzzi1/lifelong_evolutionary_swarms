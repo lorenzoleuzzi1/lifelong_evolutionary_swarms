{
 "cells": [
  {
   "cell_type": "code",
   "execution_count": 33,
   "metadata": {},
   "outputs": [],
   "source": [
    "import importlib\n",
    "import environment \n",
    "importlib.reload(environment)\n",
    "\n",
    "import numpy as np\n",
    "from tensorflow.keras.models import Sequential\n",
    "from tensorflow.keras.layers import Dense\n",
    "from tensorflow.keras.optimizers import Adam\n",
    "from tensorflow.keras.losses import MeanSquaredError\n",
    "from collections import deque\n",
    "from tqdm import tqdm"
   ]
  },
  {
   "cell_type": "code",
   "execution_count": 7,
   "metadata": {},
   "outputs": [
    {
     "name": "stdout",
     "output_type": "stream",
     "text": [
      ". . . . . . . . . . . . . . . . . . . . . . . . .\n",
      ". . . . . . . . . . . . . . . . . . . . . . . . .\n",
      ". . . . . . . . . . . . . . . . . . . . . . . . .\n",
      ". . . . . . . . . . . . . . . . . . . . . . . . .\n",
      ". . . . . . . . . . . . . . . . . . . . . . . . .\n",
      ". . . . . . . . . . . . . . . . . . . . \u001b[91mO\u001b[0m . . . .\n",
      ". . . . . . \u001b[0m0\u001b[0m . . . . . . . . . . . . . . . . . .\n",
      ". . . . . . . . . . . . . . . . . . . . . . . . .\n",
      ". . . . . . . . . . . . . . . . . . . . . . . . .\n",
      ". . . . . . . . . . . . . . . . . . . . . . . . .\n",
      ". . . . . . . . . . . . . . . . . . . . . . . . .\n",
      ". . . . . . . . . . . . . . . . . . . . . . . . .\n",
      ". . . . . . \u001b[91mO\u001b[0m . . . . . \u001b[0m1\u001b[0m . . . . . . . . . . . .\n",
      ". . . . . . . . . . . . . . . . . . . . . . . . .\n",
      ". . . . . . . . . . . . . . . . . . . . . . . . .\n",
      ". . . . . . . . . . . . . . . . . . . . . . . . .\n",
      ". . . . . . . . . . . . . . . . . . . . . . . . .\n",
      ". . . . . . . \u001b[94mO\u001b[0m . . . . . . . . . . . . . . . . .\n",
      ". . . . . . . . . . . . . . . . . . \u001b[0m2\u001b[0m . . . . . .\n",
      ". . . . . . . . . . . . . . . . . . . . . . . . .\n",
      ". . . . . . . . . . . . . . . . . . . . . . . . .\n",
      ". . . . . . . . . . . . . . . . . . . . . . . . .\n",
      ". . . . . . . . . . . . . . . . . . . . . . . . .\n",
      ". . . . . . . . . . . . . . . . . . . . . . . . .\n",
      ". . . . . . . . . . . . . . . . . . . . . . . . .\n",
      "\n"
     ]
    },
    {
     "data": {
      "text/plain": [
       "[{'neighbors': array([[0., 0., 0.],\n",
       "         [0., 0., 0.],\n",
       "         [0., 0., 0.]]),\n",
       "  'carrying': -1},\n",
       " {'neighbors': array([[0., 0., 0.],\n",
       "         [0., 0., 0.],\n",
       "         [0., 0., 0.]]),\n",
       "  'carrying': -1},\n",
       " {'neighbors': array([[0., 0., 0.],\n",
       "         [0., 0., 0.],\n",
       "         [0., 0., 0.]]),\n",
       "  'carrying': -1}]"
      ]
     },
     "execution_count": 7,
     "metadata": {},
     "output_type": "execute_result"
    }
   ],
   "source": [
    "initial_setting = {\n",
    "    'agents': np.array([[5, 5], [10, 10], [15, 15]], dtype=float),\n",
    "    'blocks': np.array([[10, 5], [4, 16], [14, 6]], dtype=float),\n",
    "    'colors': np.array([environment.RED, environment.RED, environment.BLUE], dtype=int)\n",
    "}\n",
    "env = environment.Environment(objective = [(environment.RED, environment.TOP_EDGE), (environment.BLUE, environment.RIGHT_EDGE)],\n",
    "                   size = environment.SIMULATION_ARENA_SIZE, \n",
    "                   n_agents = 3, \n",
    "                   n_blocks = 3,\n",
    "                   n_neighbors = 3,\n",
    "                   sensor_range = environment.SIMULATION_SENSOR_RANGE,\n",
    "                   sensor_angle = 360,\n",
    "                   max_distance_covered_per_step = environment.SIMULATION_MAX_DISTANCE,\n",
    "                   sensitivity = 0.5,\n",
    "                   initial_setting = initial_setting)\n",
    "initial_state, _ = env.reset()\n",
    "env.print_env()\n",
    "initial_state"
   ]
  },
  {
   "cell_type": "markdown",
   "metadata": {},
   "source": [
    "Discretize action. pick up, put down, move S, SE, E, NE, N, NW, W, SW. 10 actions in total."
   ]
  },
  {
   "cell_type": "code",
   "execution_count": 21,
   "metadata": {},
   "outputs": [
    {
     "data": {
      "text/plain": [
       "(44, 10)"
      ]
     },
     "execution_count": 21,
     "metadata": {},
     "output_type": "execute_result"
    }
   ],
   "source": [
    "PICK_UP = 0\n",
    "DROP = 1\n",
    "S = 2\n",
    "SE = 3\n",
    "E = 4\n",
    "NE = 5\n",
    "N = 6\n",
    "NW = 7  \n",
    "W = 8\n",
    "SW = 9\n",
    "ACTIONS = [PICK_UP, DROP, S, SE, E, NE, N, NW, W, SW]\n",
    "\n",
    "def discretize_actions(actions):\n",
    "    # Translate discretize action to environment action\n",
    "    act_values = []\n",
    "    for a in actions:\n",
    "        if a == PICK_UP:\n",
    "            act_values.append({\n",
    "                \"action\": environment.PICK_UP,\n",
    "                \"move\": [0, 0]\n",
    "            })\n",
    "        elif a == DROP:\n",
    "            act_values.append({\n",
    "                \"action\": environment.PUT_DOWN,\n",
    "                \"move\": [0, 0]\n",
    "            })\n",
    "        elif a == S:\n",
    "            act_values.append({\n",
    "                \"action\": environment.MOVE,\n",
    "                \"move\": [1, 0]\n",
    "            })\n",
    "        elif a == SE:\n",
    "            act_values.append({\n",
    "                \"action\": environment.MOVE,\n",
    "                \"move\": [1, 45]\n",
    "            })\n",
    "        elif a == E:\n",
    "            act_values.append({\n",
    "                \"action\": environment.MOVE,\n",
    "                \"move\": [1, 90]\n",
    "            })\n",
    "        elif a == NE:\n",
    "            act_values.append({\n",
    "                \"action\": environment.MOVE,\n",
    "                \"move\": [1, 135]\n",
    "            })\n",
    "        elif a == N:\n",
    "            act_values.append({\n",
    "                \"action\": environment.MOVE,\n",
    "                \"move\": [1, 180]\n",
    "            })\n",
    "        elif a == NW:\n",
    "            act_values.append({\n",
    "                \"action\": environment.MOVE,\n",
    "                \"move\": [1, 225]\n",
    "            })\n",
    "        elif a == W:\n",
    "            act_values.append({\n",
    "                \"action\": environment.MOVE,\n",
    "                \"move\": [1, 270]\n",
    "            })\n",
    "        elif a == SW:\n",
    "            act_values.append({\n",
    "                \"action\": environment.MOVE,\n",
    "                \"move\": [1, 315]\n",
    "            }) \n",
    "    return act_values\n",
    "\n",
    "state_size = len(env.process_observation(initial_state)[0])\n",
    "action_size = len(ACTIONS)\n",
    "state_size, action_size"
   ]
  },
  {
   "cell_type": "code",
   "execution_count": 64,
   "metadata": {},
   "outputs": [],
   "source": [
    "class DQNAgent:\n",
    "    def __init__(self, state_size, action_size):\n",
    "        self.state_size = state_size\n",
    "        self.action_size = action_size\n",
    "        self.memory = deque(maxlen=2000)\n",
    "        self.gamma = 0.95  # Discount factor\n",
    "        self.epsilon = 1.0  # Exploration rate\n",
    "        self.epsilon_min = 0.01\n",
    "        self.epsilon_decay = 0.995\n",
    "        self.model = self._build_model()\n",
    "\n",
    "    def _build_model(self):\n",
    "        model = Sequential()\n",
    "        model.add(Dense(24, input_dim=self.state_size, activation='relu'))\n",
    "        model.add(Dense(24, activation='relu'))\n",
    "        model.add(Dense(self.action_size, activation='linear'))\n",
    "        model.compile(optimizer=Adam(), loss=MeanSquaredError())\n",
    "        return model\n",
    "\n",
    "    def remember(self, state, action, reward, next_state, done):\n",
    "        self.memory.append((state, action, reward, next_state, done))\n",
    "\n",
    "    def act(self, state):\n",
    "        \n",
    "        if np.random.rand() <= self.epsilon:\n",
    "            action = np.random.choice(self.action_size, len(state))\n",
    "        else:\n",
    "            action = np.argmax(self.model.predict(state, verbose=0), axis=1)\n",
    "        \n",
    "        return action\n",
    "\n",
    "    def replay(self, batch_size):\n",
    "        minibatch_indices = np.random.choice(len(self.memory), batch_size, replace=False)\n",
    "        minibatch = np.array(self.memory, dtype=object)[minibatch_indices]\n",
    "        \n",
    "        for state, action, reward, next_state, done in minibatch:\n",
    "            target = reward\n",
    "            \n",
    "            if not done:\n",
    "                target = reward + self.gamma * np.amax(self.model.predict(next_state, verbose = 0), axis=1)\n",
    "            \n",
    "            target_f = self.model.predict(state, verbose = 0)\n",
    "            \n",
    "            for i in range(len(action)):\n",
    "                target_f[i][action[i]] = target[i]\n",
    "            # target_f[action] = target\n",
    "            self.model.fit(state, target_f, epochs=1, verbose=0)\n",
    "        \n",
    "        if self.epsilon > self.epsilon_min:\n",
    "            self.epsilon *= self.epsilon_decay\n"
   ]
  },
  {
   "cell_type": "code",
   "execution_count": 65,
   "metadata": {},
   "outputs": [
    {
     "name": "stdout",
     "output_type": "stream",
     "text": [
      "Episode 0 of 500\n"
     ]
    },
    {
     "name": "stderr",
     "output_type": "stream",
     "text": [
      "  8%|▊         | 16/200 [00:00<00:05, 36.74it/s]\n"
     ]
    },
    {
     "ename": "ValueError",
     "evalue": "in user code:\n\n    File \"/Library/Frameworks/Python.framework/Versions/3.10/lib/python3.10/site-packages/keras/engine/training.py\", line 2137, in predict_function  *\n        return step_function(self, iterator)\n    File \"/Library/Frameworks/Python.framework/Versions/3.10/lib/python3.10/site-packages/keras/engine/training.py\", line 2123, in step_function  **\n        outputs = model.distribute_strategy.run(run_step, args=(data,))\n    File \"/Library/Frameworks/Python.framework/Versions/3.10/lib/python3.10/site-packages/keras/engine/training.py\", line 2111, in run_step  **\n        outputs = model.predict_step(data)\n    File \"/Library/Frameworks/Python.framework/Versions/3.10/lib/python3.10/site-packages/keras/engine/training.py\", line 2079, in predict_step\n        return self(x, training=False)\n    File \"/Library/Frameworks/Python.framework/Versions/3.10/lib/python3.10/site-packages/keras/utils/traceback_utils.py\", line 70, in error_handler\n        raise e.with_traceback(filtered_tb) from None\n    File \"/Library/Frameworks/Python.framework/Versions/3.10/lib/python3.10/site-packages/keras/engine/input_spec.py\", line 295, in assert_input_compatibility\n        raise ValueError(\n\n    ValueError: Input 0 of layer \"sequential_14\" is incompatible with the layer: expected shape=(None, 44), found shape=(None, 3, 44)\n",
     "output_type": "error",
     "traceback": [
      "\u001b[0;31m---------------------------------------------------------------------------\u001b[0m",
      "\u001b[0;31mValueError\u001b[0m                                Traceback (most recent call last)",
      "Cell \u001b[0;32mIn[65], line 36\u001b[0m\n\u001b[1;32m     34\u001b[0m \u001b[38;5;66;03m# Train the agent\u001b[39;00m\n\u001b[1;32m     35\u001b[0m \u001b[38;5;28;01mif\u001b[39;00m \u001b[38;5;28mlen\u001b[39m(agent\u001b[38;5;241m.\u001b[39mmemory) \u001b[38;5;241m>\u001b[39m batch_size:\n\u001b[0;32m---> 36\u001b[0m     \u001b[43magent\u001b[49m\u001b[38;5;241;43m.\u001b[39;49m\u001b[43mreplay\u001b[49m\u001b[43m(\u001b[49m\u001b[43mbatch_size\u001b[49m\u001b[43m)\u001b[49m\n",
      "Cell \u001b[0;32mIn[64], line 45\u001b[0m, in \u001b[0;36mDQNAgent.replay\u001b[0;34m(self, batch_size)\u001b[0m\n\u001b[1;32m     41\u001b[0m dones \u001b[38;5;241m=\u001b[39m np\u001b[38;5;241m.\u001b[39marray([x[\u001b[38;5;241m4\u001b[39m] \u001b[38;5;28;01mfor\u001b[39;00m x \u001b[38;5;129;01min\u001b[39;00m minibatch])\n\u001b[1;32m     43\u001b[0m \u001b[38;5;66;03m# Predict the values for the current states and next states in one go\u001b[39;00m\n\u001b[1;32m     44\u001b[0m \u001b[38;5;66;03m# Note: Assumes that the model's predict function can handle batch input\u001b[39;00m\n\u001b[0;32m---> 45\u001b[0m target_f \u001b[38;5;241m=\u001b[39m \u001b[38;5;28;43mself\u001b[39;49m\u001b[38;5;241;43m.\u001b[39;49m\u001b[43mmodel\u001b[49m\u001b[38;5;241;43m.\u001b[39;49m\u001b[43mpredict\u001b[49m\u001b[43m(\u001b[49m\u001b[43mstates\u001b[49m\u001b[43m,\u001b[49m\u001b[43m \u001b[49m\u001b[43mverbose\u001b[49m\u001b[38;5;241;43m=\u001b[39;49m\u001b[38;5;241;43m0\u001b[39;49m\u001b[43m)\u001b[49m\n\u001b[1;32m     46\u001b[0m next_state_values \u001b[38;5;241m=\u001b[39m \u001b[38;5;28mself\u001b[39m\u001b[38;5;241m.\u001b[39mmodel\u001b[38;5;241m.\u001b[39mpredict(next_states, verbose\u001b[38;5;241m=\u001b[39m\u001b[38;5;241m0\u001b[39m)\n\u001b[1;32m     48\u001b[0m \u001b[38;5;66;03m# Compute the target Q values for all actions at once\u001b[39;00m\n\u001b[1;32m     49\u001b[0m \u001b[38;5;66;03m# np.amax for getting the maximum reward achievable from the next state (Bellman equation)\u001b[39;00m\n",
      "File \u001b[0;32m/Library/Frameworks/Python.framework/Versions/3.10/lib/python3.10/site-packages/keras/utils/traceback_utils.py:70\u001b[0m, in \u001b[0;36mfilter_traceback.<locals>.error_handler\u001b[0;34m(*args, **kwargs)\u001b[0m\n\u001b[1;32m     67\u001b[0m     filtered_tb \u001b[38;5;241m=\u001b[39m _process_traceback_frames(e\u001b[38;5;241m.\u001b[39m__traceback__)\n\u001b[1;32m     68\u001b[0m     \u001b[38;5;66;03m# To get the full stack trace, call:\u001b[39;00m\n\u001b[1;32m     69\u001b[0m     \u001b[38;5;66;03m# `tf.debugging.disable_traceback_filtering()`\u001b[39;00m\n\u001b[0;32m---> 70\u001b[0m     \u001b[38;5;28;01mraise\u001b[39;00m e\u001b[38;5;241m.\u001b[39mwith_traceback(filtered_tb) \u001b[38;5;28;01mfrom\u001b[39;00m \u001b[38;5;28;01mNone\u001b[39;00m\n\u001b[1;32m     71\u001b[0m \u001b[38;5;28;01mfinally\u001b[39;00m:\n\u001b[1;32m     72\u001b[0m     \u001b[38;5;28;01mdel\u001b[39;00m filtered_tb\n",
      "File \u001b[0;32m/var/folders/61/wf0bbt912gb82tgxbnlz82bm0000gn/T/__autograph_generated_filene2fhbdt.py:15\u001b[0m, in \u001b[0;36mouter_factory.<locals>.inner_factory.<locals>.tf__predict_function\u001b[0;34m(iterator)\u001b[0m\n\u001b[1;32m     13\u001b[0m \u001b[38;5;28;01mtry\u001b[39;00m:\n\u001b[1;32m     14\u001b[0m     do_return \u001b[38;5;241m=\u001b[39m \u001b[38;5;28;01mTrue\u001b[39;00m\n\u001b[0;32m---> 15\u001b[0m     retval_ \u001b[38;5;241m=\u001b[39m ag__\u001b[38;5;241m.\u001b[39mconverted_call(ag__\u001b[38;5;241m.\u001b[39mld(step_function), (ag__\u001b[38;5;241m.\u001b[39mld(\u001b[38;5;28mself\u001b[39m), ag__\u001b[38;5;241m.\u001b[39mld(iterator)), \u001b[38;5;28;01mNone\u001b[39;00m, fscope)\n\u001b[1;32m     16\u001b[0m \u001b[38;5;28;01mexcept\u001b[39;00m:\n\u001b[1;32m     17\u001b[0m     do_return \u001b[38;5;241m=\u001b[39m \u001b[38;5;28;01mFalse\u001b[39;00m\n",
      "\u001b[0;31mValueError\u001b[0m: in user code:\n\n    File \"/Library/Frameworks/Python.framework/Versions/3.10/lib/python3.10/site-packages/keras/engine/training.py\", line 2137, in predict_function  *\n        return step_function(self, iterator)\n    File \"/Library/Frameworks/Python.framework/Versions/3.10/lib/python3.10/site-packages/keras/engine/training.py\", line 2123, in step_function  **\n        outputs = model.distribute_strategy.run(run_step, args=(data,))\n    File \"/Library/Frameworks/Python.framework/Versions/3.10/lib/python3.10/site-packages/keras/engine/training.py\", line 2111, in run_step  **\n        outputs = model.predict_step(data)\n    File \"/Library/Frameworks/Python.framework/Versions/3.10/lib/python3.10/site-packages/keras/engine/training.py\", line 2079, in predict_step\n        return self(x, training=False)\n    File \"/Library/Frameworks/Python.framework/Versions/3.10/lib/python3.10/site-packages/keras/utils/traceback_utils.py\", line 70, in error_handler\n        raise e.with_traceback(filtered_tb) from None\n    File \"/Library/Frameworks/Python.framework/Versions/3.10/lib/python3.10/site-packages/keras/engine/input_spec.py\", line 295, in assert_input_compatibility\n        raise ValueError(\n\n    ValueError: Input 0 of layer \"sequential_14\" is incompatible with the layer: expected shape=(None, 44), found shape=(None, 3, 44)\n"
     ]
    }
   ],
   "source": [
    "# Initialize the DQN agent\n",
    "agent = DQNAgent(state_size, action_size)\n",
    "\n",
    "# Training loop\n",
    "batch_size = 16\n",
    "num_episodes = 500\n",
    "for episode in range(num_episodes):\n",
    "    print(f\"Episode {episode} of {num_episodes}\")\n",
    "    obs, _ = env.reset()\n",
    "    \n",
    "    state = env.process_observation(obs)\n",
    "    state = np.reshape(state, [env.n_agents, state_size])\n",
    "    \n",
    "    for t in tqdm(range(200)):\n",
    "        # Choose an action\n",
    "        action = agent.act(state)\n",
    "        \n",
    "        action_env = discretize_actions(action)\n",
    "        # Perform the action\n",
    "        next_obs, reward, done, _, _ = env.step(action_env)\n",
    "\n",
    "        next_state = env.process_observation(next_obs)\n",
    "        next_state = np.reshape(next_state, [env.n_agents, state_size])\n",
    "\n",
    "        # Remember the experience\n",
    "        agent.remember(state, action, reward, next_state, done)\n",
    "        # Update the state\n",
    "        state = next_state\n",
    "\n",
    "        # Check if episode is finished\n",
    "        if done:\n",
    "            break\n",
    "\n",
    "        # Train the agent\n",
    "        if len(agent.memory) > batch_size:\n",
    "            agent.replay(batch_size)"
   ]
  },
  {
   "cell_type": "code",
   "execution_count": null,
   "metadata": {},
   "outputs": [],
   "source": [
    "# Save model\n",
    "agent.model.save('dqn_model.h5')"
   ]
  },
  {
   "cell_type": "markdown",
   "metadata": {},
   "source": [
    "Too slow"
   ]
  }
 ],
 "metadata": {
  "kernelspec": {
   "display_name": "Python 3",
   "language": "python",
   "name": "python3"
  },
  "language_info": {
   "codemirror_mode": {
    "name": "ipython",
    "version": 3
   },
   "file_extension": ".py",
   "mimetype": "text/x-python",
   "name": "python",
   "nbconvert_exporter": "python",
   "pygments_lexer": "ipython3",
   "version": "3.10.7"
  }
 },
 "nbformat": 4,
 "nbformat_minor": 2
}
