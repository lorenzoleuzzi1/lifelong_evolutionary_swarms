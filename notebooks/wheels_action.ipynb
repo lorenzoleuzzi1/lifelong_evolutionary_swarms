{
 "cells": [
  {
   "cell_type": "code",
   "execution_count": 14,
   "metadata": {},
   "outputs": [
    {
     "name": "stdout",
     "output_type": "stream",
     "text": [
      "UP: [ 0.8660254  0.        -0.8660254]\n",
      "RIGHT: [ 0.5 -1.  -0.5]\n",
      "UP-RIGHT: [ 1.3660254 -1.        -1.3660254]\n",
      "DOWN-RIGHT: [-0.3660254 -1.         0.3660254]\n",
      "DOWN: [-0.8660254  0.         0.8660254]\n",
      "DOWN-LEFT: [-1.3660254  1.         1.3660254]\n",
      "LEFT: [-0.5  1.   0.5]\n",
      "UP-LEFT: [ 0.3660254  1.        -0.3660254]\n",
      "Rotate 90 degrees: [1.57079633 1.57079633 1.57079633]\n",
      "Rotate 180 degrees: [3.14159265 3.14159265 3.14159265]\n",
      "custom: [1.20477092 0.57079633 1.93682173]\n"
     ]
    }
   ],
   "source": [
    "import numpy as np\n",
    "\n",
    "# Define the transformation matrix\n",
    "A = np.array([\n",
    "    [-np.sqrt(3)/2, 0.5, 1],\n",
    "    [0, -1, 1],\n",
    "    [np.sqrt(3)/2, -0.5, 1]\n",
    "])\n",
    "\n",
    "# Actions defined by (vx, vy, Rω)\n",
    "actions = {\n",
    "    \"UP\": [-1, 0, 0],\n",
    "    \"RIGHT\": [0, 1, 0],\n",
    "    \"UP-RIGHT\": [-1, 1, 0],\n",
    "    \"DOWN-RIGHT\": [1, 1, 0],\n",
    "    \"DOWN\": [1, 0, 0],\n",
    "    \"DOWN-LEFT\": [1, -1, 0],\n",
    "    \"LEFT\": [0, -1, 0],\n",
    "    \"UP-LEFT\": [-1, -1, 0],\n",
    "    \"Rotate 90 degrees\": [0, 0, np.pi/2],\n",
    "    \"Rotate 180 degrees\": [0, 0, np.pi],\n",
    "    \"custom\": [1, 1, np.pi/2]\n",
    "}\n",
    "\n",
    "# Compute and display wheel velocities for each action\n",
    "wheel_velocities = {}\n",
    "for action, (vx, vy, R_omega) in actions.items():\n",
    "    v = np.array([vx, vy, R_omega])\n",
    "    wheel_speeds = np.dot(A, v)\n",
    "    wheel_velocities[action] = wheel_speeds\n",
    "\n",
    "# Display the results\n",
    "for action, speeds in wheel_velocities.items():\n",
    "    print(f\"{action}: {speeds}\")\n"
   ]
  },
  {
   "cell_type": "code",
   "execution_count": 25,
   "metadata": {},
   "outputs": [
    {
     "name": "stdout",
     "output_type": "stream",
     "text": [
      "Angle: 0 rad: 0.0\n",
      "sin: 0.0, cos: 1.0\n",
      "Angle: 30 rad: 0.5235987755982988\n",
      "sin: 0.49999999999999994, cos: 0.8660254037844387\n",
      "Angle: 60 rad: 1.0471975511965976\n",
      "sin: 0.8660254037844386, cos: 0.5000000000000001\n",
      "Angle: 90 rad: 1.5707963267948966\n",
      "sin: 1.0, cos: 6.123233995736766e-17\n",
      "Angle: 120 rad: 2.0943951023931953\n",
      "sin: 0.8660254037844388, cos: -0.4999999999999998\n",
      "Angle: 150 rad: 2.6179938779914944\n",
      "sin: 0.49999999999999994, cos: -0.8660254037844387\n",
      "Angle: 180 rad: 3.141592653589793\n",
      "sin: 1.2246467991473532e-16, cos: -1.0\n",
      "Angle: 210 rad: 3.6651914291880923\n",
      "sin: -0.5000000000000001, cos: -0.8660254037844386\n",
      "Angle: 240 rad: 4.1887902047863905\n",
      "sin: -0.8660254037844384, cos: -0.5000000000000004\n",
      "Angle: 270 rad: 4.71238898038469\n",
      "sin: -1.0, cos: -1.8369701987210297e-16\n",
      "Angle: 300 rad: 5.235987755982989\n",
      "sin: -0.8660254037844386, cos: 0.5\n",
      "Angle: 330 rad: 5.759586531581287\n",
      "sin: -0.5000000000000004, cos: 0.8660254037844384\n",
      "Angle: 360 rad: 6.283185307179586\n",
      "sin: -2.4492935982947064e-16, cos: 1.0\n"
     ]
    }
   ],
   "source": [
    "angles = [0, 30, 60, 90, 120, 150, 180, 210, 240, 270, 300, 330, 360]\n",
    "for angle in angles:\n",
    "    print(f\"Angle: {angle} rad: {angle * np.pi / 180}\")\n",
    "    print(f\"sin: {np.sin(angle * np.pi / 180)}, cos: {np.cos(angle * np.pi / 180)}\")"
   ]
  },
  {
   "cell_type": "code",
   "execution_count": 38,
   "metadata": {},
   "outputs": [
    {
     "data": {
      "text/plain": [
       "(-1.0, -1.8369701987210297e-16, 0.01745240643728351, 0.9998476951563913)"
      ]
     },
     "execution_count": 38,
     "metadata": {},
     "output_type": "execute_result"
    }
   ],
   "source": [
    "np.sin(np.radians(270)), np.cos(np.radians(270)), np.sin(np.radians(1)), np.cos(np.radians(1))"
   ]
  }
 ],
 "metadata": {
  "kernelspec": {
   "display_name": "Python 3",
   "language": "python",
   "name": "python3"
  },
  "language_info": {
   "codemirror_mode": {
    "name": "ipython",
    "version": 3
   },
   "file_extension": ".py",
   "mimetype": "text/x-python",
   "name": "python",
   "nbconvert_exporter": "python",
   "pygments_lexer": "ipython3",
   "version": "3.10.7"
  }
 },
 "nbformat": 4,
 "nbformat_minor": 2
}
