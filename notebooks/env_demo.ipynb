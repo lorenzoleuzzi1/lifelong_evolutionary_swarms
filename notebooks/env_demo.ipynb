{
 "cells": [
  {
   "cell_type": "markdown",
   "metadata": {},
   "source": [
    "# Environment Demo"
   ]
  },
  {
   "cell_type": "code",
   "execution_count": 1,
   "metadata": {},
   "outputs": [
    {
     "data": {
      "text/plain": [
       "<module 'utils' from '/Users/lorenzoleuzzi/Documents/GitHub/lifelong_evolutionary_swarms/utils.py'>"
      ]
     },
     "execution_count": 1,
     "metadata": {},
     "output_type": "execute_result"
    }
   ],
   "source": [
    "import sys\n",
    "import os\n",
    "import importlib\n",
    "import numpy as np\n",
    "import time\n",
    "\n",
    "# Add the parent directory to the Python path\n",
    "sys.path.append(os.path.abspath('../'))\n",
    "import environment \n",
    "importlib.reload(environment)\n",
    "import utils\n",
    "importlib.reload(utils)"
   ]
  },
  {
   "cell_type": "markdown",
   "metadata": {},
   "source": [
    "## Robot features\n",
    "\n",
    "- 25 cm diameter\n",
    "- compass\n",
    "- 360 vision sensor and object reconition in range 100cm\n",
    "- comunication between others robots\n",
    "- ability to pick up stuff (in they're in the same position of the object)\n",
    "- holonomic motion (every directions)\n",
    "- maximum velocity: 200 cm/s\n",
    "- maximum acceleration: 400 cm/s²\n",
    "- maximum distance covered in a single move: 1/2 acceleration * tstep, 8cm with tstep = 200 ms "
   ]
  },
  {
   "cell_type": "markdown",
   "metadata": {},
   "source": [
    "Simulation measurements: everything is divide by the agent size which is reperesented as point in the arena"
   ]
  },
  {
   "cell_type": "code",
   "execution_count": 2,
   "metadata": {},
   "outputs": [
    {
     "data": {
      "text/plain": [
       "'1.0, 4.0, 0.1, 2.0'"
      ]
     },
     "execution_count": 2,
     "metadata": {},
     "output_type": "execute_result"
    }
   ],
   "source": [
    "f\"{environment.SIMULATION_ROBOT_SIZE}, {environment.SIMULATION_SENSOR_RANGE}, {environment.TIME_STEP}, {environment.SIMULATION_MAX_WHEEL_VELOCITY}\""
   ]
  },
  {
   "cell_type": "markdown",
   "metadata": {},
   "source": [
    "We are in a continuous 2D environment (no physics), a robot possesses the capability to navigate in any direction, covering any distance up to a defined maximum per step. Additionally, the robot can pick up and deposit an object objects when is underneath or when it reached an edge, resepctively."
   ]
  },
  {
   "cell_type": "markdown",
   "metadata": {},
   "source": [
    "The robots are equipped with sensory equipment capable of identifying nearby entities. A \"neighbor\" is characterized by a tuple comprising the type of object, the distance to it, and its relative direction. Accordingly, each robot maintains a list of such tuples for a predefined fixed number of neighboring entities."
   ]
  },
  {
   "cell_type": "markdown",
   "metadata": {},
   "source": [
    "## Arena\n",
    "\n",
    "5m x 5m with robots and colored objects "
   ]
  },
  {
   "cell_type": "code",
   "execution_count": 3,
   "metadata": {},
   "outputs": [
    {
     "data": {
      "text/plain": [
       "20.0"
      ]
     },
     "execution_count": 3,
     "metadata": {},
     "output_type": "execute_result"
    }
   ],
   "source": [
    "environment.SIMULATION_ARENA_SIZE "
   ]
  },
  {
   "cell_type": "markdown",
   "metadata": {},
   "source": [
    "## Objective\n",
    "A target color. The robots must pick up the objects of that color and deposit them in right position. The deposit area is in an edge of the arena (top edge)."
   ]
  },
  {
   "cell_type": "code",
   "execution_count": 4,
   "metadata": {},
   "outputs": [
    {
     "data": {
      "text/plain": [
       "3"
      ]
     },
     "execution_count": 4,
     "metadata": {},
     "output_type": "execute_result"
    }
   ],
   "source": [
    "environment.RED"
   ]
  },
  {
   "cell_type": "code",
   "execution_count": 5,
   "metadata": {},
   "outputs": [
    {
     "data": {
      "text/plain": [
       "(1, 2)"
      ]
     },
     "execution_count": 5,
     "metadata": {},
     "output_type": "execute_result"
    }
   ],
   "source": [
    "environment.REWARD_PICK, environment.REWARD_DROP"
   ]
  },
  {
   "cell_type": "markdown",
   "metadata": {},
   "source": [
    "## Environment initialization"
   ]
  },
  {
   "cell_type": "code",
   "execution_count": 13,
   "metadata": {},
   "outputs": [
    {
     "name": "stdout",
     "output_type": "stream",
     "text": [
      ". 0 . . . . . . . . . . . 2 . . . . . .\n",
      ". . . . . . . . . . . . . 1 . . . . . .\n",
      ". . . . . . . . . . . . . . . . . . . .\n",
      ". . . . . . . . . . . . . . . . . . . .\n",
      ". . . . . . . . . . . . . . . . . . . .\n",
      ". . . . . \u001b[92mO\u001b[0m . . . \u001b[93mO\u001b[0m . . . . . . . \u001b[94mO\u001b[0m . .\n",
      ". \u001b[94mO\u001b[0m . . . . . . . . . . . \u001b[94mO\u001b[0m . . . . . .\n",
      ". . . . . \u001b[94mO\u001b[0m . . . . . . \u001b[94mO\u001b[0m . . . \u001b[95mO\u001b[0m . . .\n",
      ". . . . . . . . . . \u001b[93mO\u001b[0m . . . . . \u001b[93mO\u001b[0m . . .\n",
      ". . . . . . . . . . . . \u001b[92mO\u001b[0m . . . . . . .\n",
      ". . . . . . . . . . . . \u001b[94mO\u001b[0m . . . \u001b[94mO\u001b[0m . . .\n",
      ". . . . \u001b[91mO\u001b[0m . . . . . . . . . \u001b[92mO\u001b[0m . . . . .\n",
      ". . \u001b[91mO\u001b[0m . \u001b[91mO\u001b[0m . . . . . \u001b[94mO\u001b[0m . . . \u001b[94mO\u001b[0m . . . . .\n",
      ". . . . . . . . . . . . . . \u001b[95mO\u001b[0m . . . . .\n",
      ". . . . . . \u001b[94mO\u001b[0m . . . \u001b[92mO\u001b[0m . \u001b[94mO\u001b[0m . . . \u001b[91mO\u001b[0m . . .\n",
      ". . . . . . . . . \u001b[93mO\u001b[0m . . . . . . . . . .\n",
      ". . . . . . . . . . . . . . . . . . . .\n",
      ". . . . . . . \u001b[94mO\u001b[0m . \u001b[94mO\u001b[0m . \u001b[94mO\u001b[0m . . . \u001b[94mO\u001b[0m . \u001b[92mO\u001b[0m . .\n",
      ". . . . . . . . . . . . . . . . . . . .\n",
      ". . . . . . . . . . . . . . . . . . . .\n"
     ]
    },
    {
     "data": {
      "text/plain": [
       "[{'neighbors': array([[ 1.,  0.,  0.],\n",
       "         [ 1.,  1., 90.],\n",
       "         [ 0.,  0.,  0.]]),\n",
       "  'heading': 180.0,\n",
       "  'carrying': -1},\n",
       " {'neighbors': array([[1., 1., 0.],\n",
       "         [2., 1., 0.],\n",
       "         [0., 0., 0.]]),\n",
       "  'heading': 180.0,\n",
       "  'carrying': -1},\n",
       " {'neighbors': array([[  1.,   0.,   0.],\n",
       "         [  2.,   1., 180.],\n",
       "         [  0.,   0.,   0.]]),\n",
       "  'heading': 180.0,\n",
       "  'carrying': -1}]"
      ]
     },
     "execution_count": 13,
     "metadata": {},
     "output_type": "execute_result"
    }
   ],
   "source": [
    "env = environment.SwarmForagingEnv(target_color= environment.BLUE, n_agents = 3, n_blocks = 30, distribution=\"uniform\")\n",
    "initial_state, _ = env.reset(seed = 1) \n",
    "env.render()\n",
    "initial_state"
   ]
  },
  {
   "cell_type": "code",
   "execution_count": 4,
   "metadata": {},
   "outputs": [
    {
     "data": {
      "text/plain": [
       "array([[ 0.0000000e+00,  1.0000000e+00,  0.0000000e+00,  0.0000000e+00,\n",
       "         0.0000000e+00,  0.0000000e+00,  0.0000000e+00,  0.0000000e+00,\n",
       "         0.0000000e+00,  1.0000000e+00,  0.0000000e+00,  0.0000000e+00,\n",
       "         0.0000000e+00,  0.0000000e+00,  0.0000000e+00,  0.0000000e+00,\n",
       "         1.0000000e+00,  0.0000000e+00,  0.0000000e+00,  0.0000000e+00,\n",
       "         0.0000000e+00,  0.0000000e+00,  0.0000000e+00,  0.0000000e+00,\n",
       "         0.0000000e+00,  2.5000000e-01,  0.0000000e+00,  0.0000000e+00,\n",
       "         1.0000000e+00,  0.0000000e+00,  1.0000000e+00,  6.1232340e-17,\n",
       "         1.0000000e+00,  1.2246468e-16, -1.0000000e+00,  1.0000000e+00,\n",
       "         0.0000000e+00,  0.0000000e+00,  0.0000000e+00,  0.0000000e+00,\n",
       "         0.0000000e+00,  0.0000000e+00,  1.0000000e+00,  0.0000000e+00,\n",
       "         0.0000000e+00,  0.0000000e+00],\n",
       "       [ 0.0000000e+00,  1.0000000e+00,  0.0000000e+00,  0.0000000e+00,\n",
       "         0.0000000e+00,  0.0000000e+00,  0.0000000e+00,  0.0000000e+00,\n",
       "         0.0000000e+00,  0.0000000e+00,  1.0000000e+00,  0.0000000e+00,\n",
       "         0.0000000e+00,  0.0000000e+00,  0.0000000e+00,  0.0000000e+00,\n",
       "         1.0000000e+00,  0.0000000e+00,  0.0000000e+00,  0.0000000e+00,\n",
       "         0.0000000e+00,  0.0000000e+00,  0.0000000e+00,  0.0000000e+00,\n",
       "         2.5000000e-01,  2.5000000e-01,  0.0000000e+00,  0.0000000e+00,\n",
       "         0.0000000e+00,  0.0000000e+00,  1.0000000e+00,  1.0000000e+00,\n",
       "         1.0000000e+00,  1.2246468e-16, -1.0000000e+00,  1.0000000e+00,\n",
       "         0.0000000e+00,  0.0000000e+00,  0.0000000e+00,  0.0000000e+00,\n",
       "         0.0000000e+00,  0.0000000e+00,  1.0000000e+00,  0.0000000e+00,\n",
       "         0.0000000e+00,  0.0000000e+00],\n",
       "       [ 0.0000000e+00,  1.0000000e+00,  0.0000000e+00,  0.0000000e+00,\n",
       "         0.0000000e+00,  0.0000000e+00,  0.0000000e+00,  0.0000000e+00,\n",
       "         0.0000000e+00,  0.0000000e+00,  1.0000000e+00,  0.0000000e+00,\n",
       "         0.0000000e+00,  0.0000000e+00,  0.0000000e+00,  0.0000000e+00,\n",
       "         1.0000000e+00,  0.0000000e+00,  0.0000000e+00,  0.0000000e+00,\n",
       "         0.0000000e+00,  0.0000000e+00,  0.0000000e+00,  0.0000000e+00,\n",
       "         0.0000000e+00,  2.5000000e-01,  0.0000000e+00,  0.0000000e+00,\n",
       "         1.2246468e-16,  0.0000000e+00,  1.0000000e+00, -1.0000000e+00,\n",
       "         1.0000000e+00,  1.2246468e-16, -1.0000000e+00,  1.0000000e+00,\n",
       "         0.0000000e+00,  0.0000000e+00,  0.0000000e+00,  0.0000000e+00,\n",
       "         0.0000000e+00,  0.0000000e+00,  1.0000000e+00,  0.0000000e+00,\n",
       "         0.0000000e+00,  0.0000000e+00]])"
      ]
     },
     "execution_count": 4,
     "metadata": {},
     "output_type": "execute_result"
    }
   ],
   "source": [
    "env.process_observation(initial_state)"
   ]
  },
  {
   "cell_type": "code",
   "execution_count": 79,
   "metadata": {},
   "outputs": [
    {
     "data": {
      "image/png": "[encoded data removed]",
      "text/plain": [
       "<PIL.Image.Image image mode=RGB size=400x400>"
      ]
     },
     "execution_count": 79,
     "metadata": {},
     "output_type": "execute_result"
    }
   ],
   "source": [
    "env.render(False)"
   ]
  },
  {
   "cell_type": "code",
   "execution_count": 15,
   "metadata": {},
   "outputs": [
    {
     "data": {
      "text/plain": [
       "(array([ 1.48870411, -0.74078643, -1.34366745]),\n",
       " array([-0.40716756,  0.09974027, -1.82387127]),\n",
       " array([ 1.24791367,  1.69690379, -0.16896223]))"
      ]
     },
     "execution_count": 15,
     "metadata": {},
     "output_type": "execute_result"
    }
   ],
   "source": [
    "env.action_space.sample()"
   ]
  },
  {
   "cell_type": "markdown",
   "metadata": {},
   "source": [
    "## Testing"
   ]
  },
  {
   "cell_type": "code",
   "execution_count": 154,
   "metadata": {},
   "outputs": [],
   "source": [
    "cumulative_reward = 0"
   ]
  },
  {
   "cell_type": "code",
   "execution_count": 474,
   "metadata": {},
   "outputs": [
    {
     "name": "stdout",
     "output_type": "stream",
     "text": [
      ". . 0 . . 1 . . . . . . . . . . . . . .\n",
      ". . . . . . . . . . . . . . . . . 2 . .\n",
      ". . . . . . . . . . . . . . . . . . . .\n",
      ". . . . . . . . . . . . . . . . . . . .\n",
      ". . . . . . . . . . . . . . . . . . . .\n",
      ". . . . . . . . . . . . . . . . . . . .\n",
      ". . . . . . . . . . . . . . . . . . . .\n",
      ". . . . . . . . . . . . . . . . . . . .\n",
      ". . . . . . . . . . . . . . . . . . . .\n",
      ". . . . . . . . . . . . . . . . . . . .\n",
      ". . . . . . . . . . . . . . . . . . . .\n",
      ". . . \u001b[92mO\u001b[0m . . . . . . . . . . . . . . . .\n",
      ". . . . . . . . . . . . . . . . . . . .\n",
      ". . . . . . . . . . . . . . . . . . . .\n",
      ". . . . . . . . . . . . . . . . . . . .\n",
      ". . . . . . . . . . . . . . . . . \u001b[94mO\u001b[0m . .\n",
      ". . . . . . . . . . . . . \u001b[91mO\u001b[0m . . . . . .\n",
      ". . . . . . . . . . . . . . . . . . . .\n",
      ". . . . . . . . . . . . . . . . . . . .\n",
      ". . . . . . . . . . . . . . . . . . . .\n"
     ]
    },
    {
     "data": {
      "text/plain": [
       "(2.0, 36.0, -1, 3)"
      ]
     },
     "execution_count": 474,
     "metadata": {},
     "output_type": "execute_result"
    }
   ],
   "source": [
    "action = env.action_space.sample()\n",
    "action = (environment.MOVE_UP * np.array([5]), environment.MOVE_UP * np.array([5]), environment.MOVE_UP* np.array([5]))\n",
    "next_state, reward, done, _, _ = env.step(action)\n",
    "env.render()\n",
    "cumulative_reward += reward\n",
    "reward, cumulative_reward, env._agents_carrying[2], env.target_color"
   ]
  },
  {
   "cell_type": "markdown",
   "metadata": {},
   "source": [
    "## Random solver"
   ]
  },
  {
   "cell_type": "code",
   "execution_count": 16,
   "metadata": {},
   "outputs": [
    {
     "ename": "KeyboardInterrupt",
     "evalue": "",
     "output_type": "error",
     "traceback": [
      "\u001b[0;31m---------------------------------------------------------------------------\u001b[0m",
      "\u001b[0;31mKeyboardInterrupt\u001b[0m                         Traceback (most recent call last)",
      "Cell \u001b[0;32mIn[16], line 5\u001b[0m\n\u001b[1;32m      3\u001b[0m \u001b[38;5;28;01mwhile\u001b[39;00m \u001b[38;5;28;01mTrue\u001b[39;00m:\n\u001b[1;32m      4\u001b[0m     action \u001b[38;5;241m=\u001b[39m env\u001b[38;5;241m.\u001b[39maction_space\u001b[38;5;241m.\u001b[39msample()\n\u001b[0;32m----> 5\u001b[0m     next_state, reward, done, _, info \u001b[38;5;241m=\u001b[39m \u001b[43menv\u001b[49m\u001b[38;5;241;43m.\u001b[39;49m\u001b[43mstep\u001b[49m\u001b[43m(\u001b[49m\u001b[43maction\u001b[49m\u001b[43m)\u001b[49m\n\u001b[1;32m      6\u001b[0m     steps \u001b[38;5;241m+\u001b[39m\u001b[38;5;241m=\u001b[39m \u001b[38;5;241m1\u001b[39m\n\u001b[1;32m      7\u001b[0m     total_reward \u001b[38;5;241m+\u001b[39m\u001b[38;5;241m=\u001b[39m reward\n",
      "File \u001b[0;32m~/Documents/GitHub/lifelong_evolutionary_swarms/environment.py:355\u001b[0m, in \u001b[0;36mSwarmForagingEnv.step\u001b[0;34m(self, action)\u001b[0m\n\u001b[1;32m    353\u001b[0m         agents_in_same_position\u001b[38;5;241m.\u001b[39mappend(i)\n\u001b[1;32m    354\u001b[0m         agents_in_same_position\u001b[38;5;241m.\u001b[39mextend(colliding)\n\u001b[0;32m--> 355\u001b[0m \u001b[38;5;28;01mif\u001b[39;00m \u001b[38;5;28;43mlen\u001b[39;49m\u001b[43m(\u001b[49m\u001b[43magents_in_same_position\u001b[49m\u001b[43m)\u001b[49m \u001b[38;5;241m>\u001b[39m \u001b[38;5;241m0\u001b[39m:\n\u001b[1;32m    356\u001b[0m     \u001b[38;5;66;03m# self._rewards[agents_in_same_position] += REWARD_COLLISION # Penalize collsion\u001b[39;00m\n\u001b[1;32m    357\u001b[0m     agents_in_same_position \u001b[38;5;241m=\u001b[39m \u001b[38;5;28mlist\u001b[39m(\u001b[38;5;28mset\u001b[39m(agents_in_same_position))\n\u001b[1;32m    358\u001b[0m     \u001b[38;5;66;03m# If the new position is occupied, keep the old position TODO: check it and maybe change it\u001b[39;00m\n",
      "\u001b[0;31mKeyboardInterrupt\u001b[0m: "
     ]
    }
   ],
   "source": [
    "steps = 0\n",
    "total_reward = 0\n",
    "while True:\n",
    "    action = env.action_space.sample()\n",
    "    next_state, reward, done, _, info = env.step(action)\n",
    "    steps += 1\n",
    "    total_reward += reward\n",
    "    if done:\n",
    "        break\n",
    "\n",
    "f\"Done in {steps} steps with reward {total_reward}, info: {info}\""
   ]
  },
  {
   "cell_type": "markdown",
   "metadata": {},
   "source": [
    "## Profiling"
   ]
  },
  {
   "cell_type": "markdown",
   "metadata": {},
   "source": [
    "about 2000 steps per second"
   ]
  },
  {
   "cell_type": "code",
   "execution_count": 48,
   "metadata": {},
   "outputs": [
    {
     "data": {
      "text/plain": [
       "1.5148377418518066"
      ]
     },
     "execution_count": 48,
     "metadata": {},
     "output_type": "execute_result"
    }
   ],
   "source": [
    "def profile():\n",
    "    total_time = 0\n",
    "    for i in range(2000):\n",
    "        action = env.action_space.sample()\n",
    "        start = time.time()\n",
    "        next_state, reward, done, _, _ = env.step(action)\n",
    "        end = time.time()\n",
    "        total_time += end - start\n",
    "    return total_time\n",
    "profile()"
   ]
  },
  {
   "cell_type": "code",
   "execution_count": 19,
   "metadata": {},
   "outputs": [
    {
     "name": "stdout",
     "output_type": "stream",
     "text": [
      "         608506 function calls (598506 primitive calls) in 1.596 seconds\n",
      "\n",
      "   Ordered by: cumulative time\n",
      "\n",
      "   ncalls  tottime  percall  cumtime  percall filename:lineno(function)\n",
      "        1    0.000    0.000    1.596    1.596 {built-in method builtins.exec}\n",
      "        1    0.000    0.000    1.596    1.596 <string>:1(<module>)\n",
      "        1    0.017    0.017    1.596    1.596 1416959497.py:1(profile)\n",
      "     2000    0.190    0.000    1.081    0.001 environment.py:323(step)\n",
      "61631/51631    0.106    0.000    0.541    0.000 {built-in method numpy.core._multiarray_umath.implement_array_function}\n",
      "     2000    0.008    0.000    0.493    0.000 tuple.py:87(sample)\n",
      "     8000    0.012    0.000    0.485    0.000 tuple.py:112(<genexpr>)\n",
      "     6000    0.149    0.000    0.473    0.000 box.py:184(sample)\n",
      "     2000    0.224    0.000    0.282    0.000 environment.py:238(_detect)\n",
      "     6000    0.107    0.000    0.255    0.000 {method 'uniform' of 'numpy.random._generator.Generator' objects}\n",
      "    10000    0.025    0.000    0.182    0.000 <__array_function__ internals>:177(norm)\n",
      "     4000    0.004    0.000    0.150    0.000 <__array_function__ internals>:177(clip)\n",
      "     7619    0.010    0.000    0.148    0.000 fromnumeric.py:51(_wrapfunc)\n",
      "    10000    0.072    0.000    0.144    0.000 linalg.py:2357(norm)\n",
      "     4000    0.006    0.000    0.141    0.000 fromnumeric.py:2085(clip)\n",
      "     4000    0.004    0.000    0.128    0.000 {method 'clip' of 'numpy.ndarray' objects}\n",
      "     4000    0.014    0.000    0.123    0.000 _methods.py:126(_clip)\n",
      "    22009    0.105    0.000    0.105    0.000 {method 'reduce' of 'numpy.ufunc' objects}\n",
      "     2000    0.036    0.000    0.104    0.000 environment.py:229(_update_distance_matrix)\n",
      "     2000    0.089    0.000    0.089    0.000 environment.py:214(_update_directions_matrix)\n",
      "    12009    0.028    0.000    0.087    0.000 fromnumeric.py:69(_wrapreduction)\n",
      "     8000    0.040    0.000    0.078    0.000 _methods.py:92(_clip_dep_is_scalar_nan)\n",
      "     6000    0.008    0.000    0.075    0.000 <__array_function__ internals>:177(all)\n",
      "     6006    0.007    0.000    0.072    0.000 <__array_function__ internals>:177(any)\n",
      "     6000    0.010    0.000    0.059    0.000 fromnumeric.py:2406(all)\n",
      "     2000    0.003    0.000    0.055    0.000 <__array_function__ internals>:177(stack)\n",
      "    18000    0.019    0.000    0.048    0.000 <__array_function__ internals>:177(where)\n",
      "     6006    0.008    0.000    0.045    0.000 fromnumeric.py:2307(any)\n",
      "     2000    0.015    0.000    0.044    0.000 shape_base.py:357(stack)\n",
      "     8000    0.007    0.000    0.038    0.000 <__array_function__ internals>:177(ndim)\n",
      "     3619    0.004    0.000    0.028    0.000 <__array_function__ internals>:177(argmin)\n",
      "     8000    0.017    0.000    0.024    0.000 fromnumeric.py:3121(ndim)\n",
      "     6000    0.024    0.000    0.024    0.000 {method 'normal' of 'numpy.random._generator.Generator' objects}\n",
      "     4000    0.023    0.000    0.023    0.000 _methods.py:107(_clip_dep_invoke_with_casting)\n",
      "    12000    0.022    0.000    0.022    0.000 {method 'exponential' of 'numpy.random._generator.Generator' objects}\n",
      "     3619    0.007    0.000    0.020    0.000 fromnumeric.py:1223(argmin)\n",
      "     2000    0.002    0.000    0.020    0.000 <__array_function__ internals>:177(dot)\n",
      "     6000    0.013    0.000    0.018    0.000 {built-in method builtins.sorted}\n",
      "     2000    0.004    0.000    0.018    0.000 <__array_function__ internals>:177(concatenate)\n",
      "     2000    0.011    0.000    0.012    0.000 environment.py:284(_get_obs)\n",
      "     2000    0.010    0.000    0.010    0.000 {built-in method builtins.sum}\n",
      "    18000    0.010    0.000    0.010    0.000 {built-in method numpy.asarray}\n",
      "     8000    0.007    0.000    0.009    0.000 _methods.py:102(_clip_dep_is_byte_swapped)\n",
      "     6000    0.009    0.000    0.009    0.000 {method 'astype' of 'numpy.ndarray' objects}\n",
      "    12009    0.008    0.000    0.008    0.000 fromnumeric.py:70(<dictcomp>)\n",
      "    24000    0.008    0.000    0.008    0.000 space.py:66(np_random)\n",
      "     3619    0.007    0.000    0.007    0.000 {method 'argmin' of 'numpy.ndarray' objects}\n",
      "    34000    0.006    0.000    0.006    0.000 {built-in method builtins.len}\n",
      "    35194    0.006    0.000    0.006    0.000 {method 'append' of 'list' objects}\n",
      "    18000    0.005    0.000    0.005    0.000 {built-in method builtins.isinstance}\n",
      "     6000    0.005    0.000    0.005    0.000 {built-in method numpy.empty}\n",
      "    25479    0.005    0.000    0.005    0.000 environment.py:274(<lambda>)\n",
      "     2000    0.002    0.000    0.005    0.000 shape_base.py:348(_stack_dispatcher)\n",
      "    18000    0.005    0.000    0.005    0.000 multiarray.py:341(where)\n",
      "     4000    0.004    0.000    0.004    0.000 {built-in method time.time}\n",
      "     2385    0.004    0.000    0.004    0.000 environment.py:204(_is_close_to_edge)\n",
      "    10000    0.004    0.000    0.004    0.000 {method 'conj' of 'numpy.ndarray' objects}\n",
      "     2000    0.002    0.000    0.003    0.000 shape_base.py:420(<listcomp>)\n",
      "     2000    0.003    0.000    0.003    0.000 {method 'copy' of 'numpy.ndarray' objects}\n",
      "     2000    0.003    0.000    0.003    0.000 shape_base.py:424(<setcomp>)\n",
      "     2000    0.003    0.000    0.003    0.000 shape_base.py:432(<listcomp>)\n",
      "     7622    0.003    0.000    0.003    0.000 {built-in method builtins.getattr}\n",
      "    10009    0.003    0.000    0.003    0.000 {built-in method builtins.issubclass}\n",
      "     2000    0.001    0.000    0.003    0.000 shape_base.py:207(_arrays_for_stack_dispatcher)\n",
      "    10000    0.003    0.000    0.003    0.000 linalg.py:2353(_norm_dispatcher)\n",
      "    12009    0.003    0.000    0.003    0.000 {method 'items' of 'dict' objects}\n",
      "     2000    0.002    0.000    0.002    0.000 {built-in method numpy.zeros}\n",
      "     6000    0.002    0.000    0.002    0.000 fromnumeric.py:2401(_all_dispatcher)\n",
      "     8000    0.002    0.000    0.002    0.000 fromnumeric.py:3117(_ndim_dispatcher)\n",
      "     6000    0.002    0.000    0.002    0.000 box.py:149(shape)\n",
      "     6006    0.002    0.000    0.002    0.000 fromnumeric.py:2302(_any_dispatcher)\n",
      "     2000    0.001    0.000    0.001    0.000 {built-in method builtins.hasattr}\n",
      "     2000    0.001    0.000    0.001    0.000 {built-in method numpy.core._multiarray_umath.normalize_axis_index}\n",
      "     3619    0.001    0.000    0.001    0.000 fromnumeric.py:1219(_argmin_dispatcher)\n",
      "     4000    0.001    0.000    0.001    0.000 fromnumeric.py:2081(_clip_dispatcher)\n",
      "     2000    0.001    0.000    0.001    0.000 environment.py:281(_get_info)\n",
      "     4000    0.001    0.000    0.001    0.000 {built-in method numpy.asanyarray}\n",
      "     2000    0.001    0.000    0.001    0.000 multiarray.py:148(concatenate)\n",
      "     2000    0.001    0.000    0.001    0.000 multiarray.py:736(dot)\n",
      "        3    0.000    0.000    0.000    0.000 environment.py:148(_reposition_block)\n",
      "        3    0.000    0.000    0.000    0.000 {method 'randint' of 'numpy.random.mtrand.RandomState' objects}\n",
      "        3    0.000    0.000    0.000    0.000 <__array_function__ internals>:177(prod)\n",
      "        3    0.000    0.000    0.000    0.000 fromnumeric.py:2927(prod)\n",
      "        3    0.000    0.000    0.000    0.000 numerictypes.py:356(issubdtype)\n",
      "        3    0.000    0.000    0.000    0.000 environment.py:211(_is_correct_drop)\n",
      "        6    0.000    0.000    0.000    0.000 numerictypes.py:282(issubclass_)\n",
      "        3    0.000    0.000    0.000    0.000 <__array_function__ internals>:177(empty_like)\n",
      "        1    0.000    0.000    0.000    0.000 {method 'disable' of '_lsprof.Profiler' objects}\n",
      "        3    0.000    0.000    0.000    0.000 fromnumeric.py:2922(_prod_dispatcher)\n",
      "        3    0.000    0.000    0.000    0.000 multiarray.py:80(empty_like)\n",
      "\n",
      "\n"
     ]
    }
   ],
   "source": [
    "import cProfile\n",
    "cProfile.run('profile()', sort='cumtime')"
   ]
  }
 ],
 "metadata": {
  "kernelspec": {
   "display_name": "Python 3",
   "language": "python",
   "name": "python3"
  },
  "language_info": {
   "codemirror_mode": {
    "name": "ipython",
    "version": 3
   },
   "file_extension": ".py",
   "mimetype": "text/x-python",
   "name": "python",
   "nbconvert_exporter": "python",
   "pygments_lexer": "ipython3",
   "version": "3.10.7"
  }
 },
 "nbformat": 4,
 "nbformat_minor": 2
}
