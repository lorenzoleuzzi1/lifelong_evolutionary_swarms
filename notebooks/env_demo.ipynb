{
 "cells": [
  {
   "cell_type": "markdown",
   "metadata": {},
   "source": [
    "# Environment Demo"
   ]
  },
  {
   "cell_type": "code",
   "execution_count": 150,
   "metadata": {},
   "outputs": [
    {
     "data": {
      "text/plain": [
       "<module 'utils' from '/Users/lorenzoleuzzi/Documents/GitHub/lifelong_evolutionary_swarms/utils.py'>"
      ]
     },
     "execution_count": 150,
     "metadata": {},
     "output_type": "execute_result"
    }
   ],
   "source": [
    "import sys\n",
    "import os\n",
    "import importlib\n",
    "import numpy as np\n",
    "import time\n",
    "\n",
    "# Add the parent directory to the Python path\n",
    "sys.path.append(os.path.abspath('../'))\n",
    "import environment \n",
    "importlib.reload(environment)\n",
    "import utils\n",
    "importlib.reload(utils)"
   ]
  },
  {
   "cell_type": "markdown",
   "metadata": {},
   "source": [
    "## Robot features\n",
    "\n",
    "- 25 cm diameter\n",
    "- compass\n",
    "- 360 vision sensor and object reconition in range 100cm\n",
    "- comunication between others robots\n",
    "- ability to pick up stuff (in they're in the same position of the object)\n",
    "- holonomic motion (every directions)\n",
    "- maximum velocity: 200 cm/s\n",
    "- maximum acceleration: 400 cm/s²\n",
    "- maximum distance covered in a single move: 1/2 acceleration * tstep, 8cm with tstep = 200 ms "
   ]
  },
  {
   "cell_type": "markdown",
   "metadata": {},
   "source": [
    "Simulation measurements: everything is divide by the agent size which is reperesented as point in the arena"
   ]
  },
  {
   "cell_type": "code",
   "execution_count": 130,
   "metadata": {},
   "outputs": [
    {
     "data": {
      "text/plain": [
       "'1.0, 4.0, 0.1, 2.0'"
      ]
     },
     "execution_count": 130,
     "metadata": {},
     "output_type": "execute_result"
    }
   ],
   "source": [
    "f\"{environment.SIMULATION_ROBOT_SIZE}, {environment.SIMULATION_SENSOR_RANGE}, {environment.TIME_STEP}, {environment.SIMULATION_MAX_WHEEL_VELOCITY}\""
   ]
  },
  {
   "cell_type": "markdown",
   "metadata": {},
   "source": [
    "We are in a continuous 2D environment (no physics), a robot possesses the capability to navigate in any direction, covering any distance up to a defined maximum per step. Additionally, the robot can pick up and deposit an object objects when is underneath or when it reached an edge, resepctively."
   ]
  },
  {
   "cell_type": "markdown",
   "metadata": {},
   "source": [
    "The robots are equipped with sensory equipment capable of identifying nearby entities. A \"neighbor\" is characterized by a tuple comprising the type of object, the distance to it, and its relative direction. Accordingly, each robot maintains a list of such tuples for a predefined fixed number of neighboring entities."
   ]
  },
  {
   "cell_type": "markdown",
   "metadata": {},
   "source": [
    "## Arena\n",
    "\n",
    "5m x 5m with robots and colored objects "
   ]
  },
  {
   "cell_type": "code",
   "execution_count": 131,
   "metadata": {},
   "outputs": [
    {
     "data": {
      "text/plain": [
       "20.0"
      ]
     },
     "execution_count": 131,
     "metadata": {},
     "output_type": "execute_result"
    }
   ],
   "source": [
    "environment.SIMULATION_ARENA_SIZE "
   ]
  },
  {
   "cell_type": "markdown",
   "metadata": {},
   "source": [
    "## Objective\n",
    "List of (color_id, edge). The robots must pick up the objects and deposit them in right position. The deposit area is in an edge of the arena."
   ]
  },
  {
   "cell_type": "code",
   "execution_count": 132,
   "metadata": {},
   "outputs": [
    {
     "data": {
      "text/plain": [
       "[(3, 0), (5, 180)]"
      ]
     },
     "execution_count": 132,
     "metadata": {},
     "output_type": "execute_result"
    }
   ],
   "source": [
    "# Example\n",
    "[(environment.RED, environment.UP), (environment.GREEN, environment.DOWN)]"
   ]
  },
  {
   "cell_type": "code",
   "execution_count": 40,
   "metadata": {},
   "outputs": [
    {
     "data": {
      "text/plain": [
       "(1, 2)"
      ]
     },
     "execution_count": 40,
     "metadata": {},
     "output_type": "execute_result"
    }
   ],
   "source": [
    "environment.REWARD_PICK, environment.REWARD_DROP"
   ]
  },
  {
   "cell_type": "markdown",
   "metadata": {},
   "source": [
    "## Environment initialization"
   ]
  },
  {
   "cell_type": "code",
   "execution_count": 133,
   "metadata": {},
   "outputs": [
    {
     "name": "stdout",
     "output_type": "stream",
     "text": [
      ". . . . . . 0 1 2 . . . . . . . . . . .\n",
      ". . . . . . . . . . . . . . . . . . . .\n",
      ". . . . . . . . . . . . . . . . . . . .\n",
      ". . . . . . . . . . . . . . . . . . . .\n",
      ". . . . . . . . . . . . . . . . . . . .\n",
      ". . . . . . . . . . . . . . . . . . . .\n",
      ". . . . . . . . . . . . . . . . . . . .\n",
      ". . . . . . . . . . . . . . . . . . . .\n",
      ". . . . . . . . . . . . . . . . . . . .\n",
      ". . . . . . . \u001b[91mO\u001b[0m . . . . . . . . . . . .\n",
      ". . . . . \u001b[94mO\u001b[0m . . . \u001b[92mO\u001b[0m . . . . . . \u001b[91mO\u001b[0m . . .\n",
      ". . . . . . . . . . . . . . . . . . . .\n",
      ". . . . . . . \u001b[91mO\u001b[0m . . . . . . . . . . . .\n",
      ". . . . . . . . . . . . . . . . . . . .\n",
      ". . . . . . . . . . . . . . . . . . . .\n",
      ". . . . . . . . . . . . . . . . . . . .\n",
      ". . . . . . . . . . . . . . . . . . . .\n",
      ". . . . . . . . . . . . . . . . . . . .\n",
      ". . . . . . . . . . . . . . . . . . . .\n",
      ". . . . . . . . . . . . . . . . . . . .\n"
     ]
    },
    {
     "data": {
      "text/plain": [
       "[{'neighbors': array([[  1.,   0.,   0.],\n",
       "         [  2.,   1., 270.],\n",
       "         [  2.,   2., 270.],\n",
       "         [  0.,   0.,   0.]]),\n",
       "  'heading': 180.0,\n",
       "  'carrying': -1},\n",
       " {'neighbors': array([[  1.,   0.,   0.],\n",
       "         [  2.,   1.,  90.],\n",
       "         [  2.,   1., 270.],\n",
       "         [  0.,   0.,   0.]]),\n",
       "  'heading': 180.0,\n",
       "  'carrying': -1},\n",
       " {'neighbors': array([[ 1.,  0.,  0.],\n",
       "         [ 2.,  1., 90.],\n",
       "         [ 2.,  2., 90.],\n",
       "         [ 0.,  0.,  0.]]),\n",
       "  'heading': 180.0,\n",
       "  'carrying': -1}]"
      ]
     },
     "execution_count": 133,
     "metadata": {},
     "output_type": "execute_result"
    }
   ],
   "source": [
    "initial_setting = {\n",
    "   'agents': np.array([[0, 6], [0, 7], [0, 8]], dtype=float),\n",
    "   'headings': np.array([environment.DOWN, environment.DOWN, environment.DOWN], dtype=float),\n",
    "   'blocks': np.array([[10, 16], [12, 7], [10, 5], [10, 9], [9, 7]], dtype=float),\n",
    "   'colors': np.array([environment.RED, environment.RED, environment.BLUE, environment.GREEN, environment.RED], dtype=int)\n",
    "}\n",
    "\n",
    "env = environment.SwarmForagingEnv(objective = [(environment.RED, environment.UP)],\n",
    "                   size = environment.SIMULATION_ARENA_SIZE, \n",
    "                   n_agents = 3, \n",
    "                   n_blocks = 5,\n",
    "                   n_neighbors = 4,\n",
    "                   sensor_range = environment.SIMULATION_SENSOR_RANGE,\n",
    "                   sensor_angle = 360,\n",
    "                   max_wheel_velocity = environment.SIMULATION_MAX_WHEEL_VELOCITY,\n",
    "                   sensitivity = 0.5,\n",
    "                   initial_setting = initial_setting)\n",
    "initial_state, _ = env.reset() # Initial state\n",
    "env.render()\n",
    "initial_state"
   ]
  },
  {
   "cell_type": "markdown",
   "metadata": {},
   "source": [
    "## Testing"
   ]
  },
  {
   "cell_type": "code",
   "execution_count": 55,
   "metadata": {},
   "outputs": [],
   "source": [
    "cumulative_reward = 0"
   ]
  },
  {
   "cell_type": "code",
   "execution_count": 72,
   "metadata": {},
   "outputs": [
    {
     "name": "stdout",
     "output_type": "stream",
     "text": [
      ". . . . . . 0 . 2 . . . . . . . . . . .\n",
      ". . . . . . . . . . . . . . . . . . . .\n",
      ". . . . . . . . . . . . . . . . . . . .\n",
      ". . . . . . . . . . . . . . . . . . . .\n",
      ". . . . . . . . . . . . . . . . . . . .\n",
      ". . . . . . . . . . . . . . . . . . . .\n",
      ". . . . . . . . . . . . . . . . . . . .\n",
      ". . . . . . . . . . . . . . . . . . . .\n",
      ". . . . . . . \u001b[91m1\u001b[0m . . . . . . . . . . . .\n",
      ". . . . . . . . . . . . . . . . . . . .\n",
      ". . . . . \u001b[94mO\u001b[0m . . . \u001b[92mO\u001b[0m . . . . . . \u001b[91mO\u001b[0m . . .\n",
      ". . . . . . . . . . . . . . . . . . . .\n",
      ". . . . . . . \u001b[91mO\u001b[0m . . . . . . . . . . . .\n",
      ". . . . . . . . . . . . . . . . . . . .\n",
      ". . . . . . . . . . . . . . . . . . . .\n",
      ". . . . . . . . . . . . . . . . . . . .\n",
      ". . . . . . . . . . . . . . . . . . . .\n",
      ". . . . . . . . . . . . . . . . . . . .\n",
      ". . . . . . . . . . . . . . . . . . . .\n",
      ". . . . . . . . . . . . . . . . . . . .\n"
     ]
    },
    {
     "data": {
      "text/plain": [
       "(0.0556, 1.0556)"
      ]
     },
     "execution_count": 72,
     "metadata": {},
     "output_type": "execute_result"
    }
   ],
   "source": [
    "action = env.action_space.sample()\n",
    "action = (environment.MOVE_UP, environment.MOVE_UP * np.array([5]), environment.ROTATE_POSITIVE)\n",
    "# action = ([2.2355506, -3.99576594, 3.99998646], [2.2355506, -3.99576594, 3.99998646], [2.2355506, -3.99576594, 3.99998646])\n",
    "next_state, reward, done, _, _ = env.step(action)\n",
    "env.render()\n",
    "cumulative_reward += reward\n",
    "reward, cumulative_reward"
   ]
  },
  {
   "cell_type": "markdown",
   "metadata": {},
   "source": [
    "## Random solver"
   ]
  },
  {
   "cell_type": "code",
   "execution_count": 217,
   "metadata": {},
   "outputs": [
    {
     "data": {
      "text/plain": [
       "\"Done in 184865 steps with reward -9718.344300000048, info: {'completed': [(4, 3, 0), (0, 3, 2), (1, 3, 0)]}\""
      ]
     },
     "execution_count": 217,
     "metadata": {},
     "output_type": "execute_result"
    }
   ],
   "source": [
    "steps = 0\n",
    "total_reward = 0\n",
    "while True:\n",
    "    action = env.action_space.sample()\n",
    "    next_state, reward, done, _, info = env.step(action)\n",
    "    steps += 1\n",
    "    total_reward += reward\n",
    "    if done:\n",
    "        break\n",
    "\n",
    "f\"Done in {steps} steps with reward {total_reward}, info: {info}\""
   ]
  },
  {
   "cell_type": "markdown",
   "metadata": {},
   "source": [
    "## Profiling"
   ]
  },
  {
   "cell_type": "markdown",
   "metadata": {},
   "source": [
    "about 2000 steps per second"
   ]
  },
  {
   "cell_type": "code",
   "execution_count": 229,
   "metadata": {},
   "outputs": [
    {
     "data": {
      "text/plain": [
       "0.9050180912017822"
      ]
     },
     "execution_count": 229,
     "metadata": {},
     "output_type": "execute_result"
    }
   ],
   "source": [
    "def profile():\n",
    "    total_time = 0\n",
    "    for i in range(2000):\n",
    "        action = env.action_space.sample()\n",
    "        start = time.time()\n",
    "        next_state, reward, done, _, _ = env.step(action)\n",
    "        end = time.time()\n",
    "        total_time += end - start\n",
    "    return total_time\n",
    "profile()"
   ]
  },
  {
   "cell_type": "code",
   "execution_count": 220,
   "metadata": {},
   "outputs": [
    {
     "name": "stdout",
     "output_type": "stream",
     "text": [
      "         886071 function calls (876071 primitive calls) in 1.860 seconds\n",
      "\n",
      "   Ordered by: cumulative time\n",
      "\n",
      "   ncalls  tottime  percall  cumtime  percall filename:lineno(function)\n",
      "        1    0.000    0.000    1.860    1.860 {built-in method builtins.exec}\n",
      "        1    0.000    0.000    1.860    1.860 <string>:1(<module>)\n",
      "        1    0.017    0.017    1.860    1.860 1416959497.py:1(profile)\n",
      "     2000    0.246    0.000    1.342    0.001 environment.py:371(step)\n",
      "86824/76824    0.126    0.000    0.716    0.000 {built-in method numpy.core._multiarray_umath.implement_array_function}\n",
      "     2000    0.008    0.000    0.497    0.000 tuple.py:87(sample)\n",
      "     8000    0.012    0.000    0.488    0.000 tuple.py:112(<genexpr>)\n",
      "     6000    0.148    0.000    0.477    0.000 box.py:184(sample)\n",
      "    38868    0.035    0.000    0.396    0.000 <__array_function__ internals>:177(norm)\n",
      "    38868    0.173    0.000    0.323    0.000 linalg.py:2357(norm)\n",
      "    28868    0.057    0.000    0.285    0.000 environment.py:321(_is_close)\n",
      "     6000    0.109    0.000    0.264    0.000 {method 'uniform' of 'numpy.random._generator.Generator' objects}\n",
      "     5978    0.193    0.000    0.242    0.000 environment.py:203(_detect)\n",
      "     4000    0.004    0.000    0.142    0.000 <__array_function__ internals>:177(clip)\n",
      "     4000    0.006    0.000    0.134    0.000 fromnumeric.py:2085(clip)\n",
      "     4000    0.005    0.000    0.128    0.000 fromnumeric.py:51(_wrapfunc)\n",
      "     4000    0.004    0.000    0.120    0.000 {method 'clip' of 'numpy.ndarray' objects}\n",
      "     4000    0.014    0.000    0.116    0.000 _methods.py:126(_clip)\n",
      "    22000    0.105    0.000    0.105    0.000 {method 'reduce' of 'numpy.ufunc' objects}\n",
      "     2000    0.029    0.000    0.097    0.000 environment.py:194(_update_distance_matrix)\n",
      "    12000    0.031    0.000    0.093    0.000 fromnumeric.py:69(_wrapreduction)\n",
      "     6000    0.008    0.000    0.081    0.000 <__array_function__ internals>:177(all)\n",
      "     2000    0.079    0.000    0.079    0.000 environment.py:179(_update_directions_matrix)\n",
      "     8000    0.039    0.000    0.074    0.000 _methods.py:92(_clip_dep_is_scalar_nan)\n",
      "     6000    0.008    0.000    0.073    0.000 <__array_function__ internals>:177(any)\n",
      "     6000    0.010    0.000    0.066    0.000 fromnumeric.py:2406(all)\n",
      "     2000    0.003    0.000    0.052    0.000 <__array_function__ internals>:177(stack)\n",
      "    17956    0.017    0.000    0.045    0.000 <__array_function__ internals>:177(where)\n",
      "    28868    0.045    0.000    0.045    0.000 {method 'dot' of 'numpy.ndarray' objects}\n",
      "     6000    0.008    0.000    0.045    0.000 fromnumeric.py:2307(any)\n",
      "     2000    0.014    0.000    0.040    0.000 shape_base.py:357(stack)\n",
      "     8000    0.006    0.000    0.035    0.000 <__array_function__ internals>:177(ndim)\n",
      "     2000    0.028    0.000    0.028    0.000 {built-in method builtins.round}\n",
      "     2000    0.003    0.000    0.025    0.000 <__array_function__ internals>:177(dot)\n",
      "     6000    0.023    0.000    0.023    0.000 {method 'normal' of 'numpy.random._generator.Generator' objects}\n",
      "     8000    0.016    0.000    0.023    0.000 fromnumeric.py:3121(ndim)\n",
      "     4000    0.020    0.000    0.020    0.000 _methods.py:107(_clip_dep_invoke_with_casting)\n",
      "    12000    0.020    0.000    0.020    0.000 {method 'exponential' of 'numpy.random._generator.Generator' objects}\n",
      "     2000    0.003    0.000    0.016    0.000 <__array_function__ internals>:177(concatenate)\n",
      "    28868    0.011    0.000    0.014    0.000 linalg.py:117(isComplexType)\n",
      "    46868    0.014    0.000    0.014    0.000 {built-in method numpy.asarray}\n",
      "    28868    0.014    0.000    0.014    0.000 {method 'ravel' of 'numpy.ndarray' objects}\n",
      "     6000    0.011    0.000    0.011    0.000 environment.py:248(_get_obs)\n",
      "     5978    0.009    0.000    0.011    0.000 {built-in method builtins.sorted}\n",
      "    67736    0.010    0.000    0.010    0.000 {built-in method builtins.issubclass}\n",
      "     2000    0.010    0.000    0.010    0.000 {built-in method builtins.sum}\n",
      "    33934    0.009    0.000    0.009    0.000 {built-in method builtins.len}\n",
      "     8000    0.006    0.000    0.008    0.000 _methods.py:102(_clip_dep_is_byte_swapped)\n",
      "    38868    0.008    0.000    0.008    0.000 linalg.py:2353(_norm_dispatcher)\n",
      "    24000    0.008    0.000    0.008    0.000 space.py:66(np_random)\n",
      "    12000    0.008    0.000    0.008    0.000 fromnumeric.py:70(<dictcomp>)\n",
      "     6000    0.008    0.000    0.008    0.000 {method 'astype' of 'numpy.ndarray' objects}\n",
      "     2000    0.002    0.000    0.005    0.000 shape_base.py:348(_stack_dispatcher)\n",
      "    30846    0.005    0.000    0.005    0.000 {method 'append' of 'list' objects}\n",
      "    18000    0.005    0.000    0.005    0.000 {built-in method builtins.isinstance}\n",
      "     6000    0.005    0.000    0.005    0.000 {built-in method numpy.empty}\n",
      "    17956    0.005    0.000    0.005    0.000 multiarray.py:341(where)\n",
      "     4000    0.004    0.000    0.004    0.000 {built-in method time.time}\n",
      "    10000    0.004    0.000    0.004    0.000 {method 'conj' of 'numpy.ndarray' objects}\n",
      "     2000    0.001    0.000    0.003    0.000 shape_base.py:207(_arrays_for_stack_dispatcher)\n",
      "     2000    0.002    0.000    0.003    0.000 shape_base.py:420(<listcomp>)\n",
      "     2000    0.003    0.000    0.003    0.000 shape_base.py:424(<setcomp>)\n",
      "     2000    0.003    0.000    0.003    0.000 shape_base.py:432(<listcomp>)\n",
      "     2000    0.003    0.000    0.003    0.000 {method 'copy' of 'numpy.ndarray' objects}\n",
      "    12000    0.003    0.000    0.003    0.000 {method 'items' of 'dict' objects}\n",
      "     9147    0.002    0.000    0.002    0.000 environment.py:241(<lambda>)\n",
      "     2000    0.002    0.000    0.002    0.000 {built-in method builtins.hasattr}\n",
      "     6000    0.002    0.000    0.002    0.000 fromnumeric.py:2401(_all_dispatcher)\n",
      "     2000    0.002    0.000    0.002    0.000 {built-in method numpy.zeros}\n",
      "     8000    0.002    0.000    0.002    0.000 fromnumeric.py:3117(_ndim_dispatcher)\n",
      "     4000    0.002    0.000    0.002    0.000 {built-in method builtins.getattr}\n",
      "     6000    0.001    0.000    0.001    0.000 fromnumeric.py:2302(_any_dispatcher)\n",
      "     6000    0.001    0.000    0.001    0.000 box.py:149(shape)\n",
      "     2000    0.001    0.000    0.001    0.000 {built-in method numpy.core._multiarray_umath.normalize_axis_index}\n",
      "     4000    0.001    0.000    0.001    0.000 fromnumeric.py:2081(_clip_dispatcher)\n",
      "     4000    0.001    0.000    0.001    0.000 {built-in method numpy.asanyarray}\n",
      "     2000    0.001    0.000    0.001    0.000 multiarray.py:148(concatenate)\n",
      "      498    0.001    0.000    0.001    0.000 environment.py:362(_get_bootstrap_reward_pick)\n",
      "     2000    0.000    0.000    0.000    0.000 multiarray.py:736(dot)\n",
      "      222    0.000    0.000    0.000    0.000 environment.py:324(_is_agent_close_to_edge)\n",
      "       26    0.000    0.000    0.000    0.000 {method 'extend' of 'list' objects}\n",
      "       22    0.000    0.000    0.000    0.000 environment.py:328(_is_correct_edge)\n",
      "        1    0.000    0.000    0.000    0.000 {method 'disable' of '_lsprof.Profiler' objects}\n",
      "\n",
      "\n"
     ]
    }
   ],
   "source": [
    "import cProfile\n",
    "cProfile.run('profile()', sort='cumtime')"
   ]
  }
 ],
 "metadata": {
  "kernelspec": {
   "display_name": "Python 3",
   "language": "python",
   "name": "python3"
  },
  "language_info": {
   "codemirror_mode": {
    "name": "ipython",
    "version": 3
   },
   "file_extension": ".py",
   "mimetype": "text/x-python",
   "name": "python",
   "nbconvert_exporter": "python",
   "pygments_lexer": "ipython3",
   "version": "3.10.7"
  }
 },
 "nbformat": 4,
 "nbformat_minor": 2
}
