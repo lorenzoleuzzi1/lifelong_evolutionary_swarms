{
 "cells": [
  {
   "cell_type": "markdown",
   "metadata": {},
   "source": [
    "# Environment Demo"
   ]
  },
  {
   "cell_type": "code",
   "execution_count": 47,
   "metadata": {},
   "outputs": [],
   "source": [
    "import importlib\n",
    "import environment \n",
    "importlib.reload(environment)\n",
    "\n",
    "import numpy as np\n",
    "import time"
   ]
  },
  {
   "cell_type": "markdown",
   "metadata": {},
   "source": [
    "## Robot features\n",
    "\n",
    "- 25 cm diameter\n",
    "- compass\n",
    "- 360 vision sensor and object reconition in range (50cm-100cm)\n",
    "- comunication between others robots\n",
    "- ability to pick up stuff (in they're in the same position of the object)\n",
    "- holonomic motion (every directions)\n",
    "- maximum velocity: 200 cm/s\n",
    "- maximum acceleration: 400 cm/s²"
   ]
  },
  {
   "cell_type": "code",
   "execution_count": 68,
   "metadata": {},
   "outputs": [
    {
     "data": {
      "text/plain": [
       "'1.0, 2.0, 2.0'"
      ]
     },
     "execution_count": 68,
     "metadata": {},
     "output_type": "execute_result"
    }
   ],
   "source": [
    "f\"{environment.SIMULATION_ROBOT_SIZE}, {environment.SIMULATION_SENSOR_RANGE}, {environment.SIMULATION_MAX_DISTANCE}\""
   ]
  },
  {
   "cell_type": "markdown",
   "metadata": {},
   "source": [
    "We are in a continuous 2D environment (no physics), a robot possesses the capability to navigate in any direction, covering any distance up to a defined maximum per step. Additionally, the robot can pick up and deposit an object objects when is underneath or when it reached an edge, resepctively."
   ]
  },
  {
   "cell_type": "markdown",
   "metadata": {},
   "source": [
    "The robots are equipped with sensory equipment capable of identifying nearby entities. A \"neighbor\" is characterized by a tuple comprising the type of object, the distance to it, and its relative direction. Accordingly, each robot maintains a list of such tuples for a predefined fixed number of neighboring entities."
   ]
  },
  {
   "cell_type": "markdown",
   "metadata": {},
   "source": [
    "## Arena\n",
    "\n",
    "5m x 5m with robots and colored objects "
   ]
  },
  {
   "cell_type": "code",
   "execution_count": 69,
   "metadata": {},
   "outputs": [
    {
     "data": {
      "text/plain": [
       "20.0"
      ]
     },
     "execution_count": 69,
     "metadata": {},
     "output_type": "execute_result"
    }
   ],
   "source": [
    "environment.SIMULATION_ARENA_SIZE "
   ]
  },
  {
   "cell_type": "markdown",
   "metadata": {},
   "source": [
    "## Objective\n",
    "List of (color_id, edge). The robots must pick up the objects and deposit them in right position. The deposit area is in an edge of the arena."
   ]
  },
  {
   "cell_type": "code",
   "execution_count": 70,
   "metadata": {},
   "outputs": [
    {
     "data": {
      "text/plain": [
       "[(3, 180), (5, 0)]"
      ]
     },
     "execution_count": 70,
     "metadata": {},
     "output_type": "execute_result"
    }
   ],
   "source": [
    "# Example\n",
    "[(environment.RED, environment.NORTH_EDGE), (environment.GREEN, environment.SOUTH_EDGE)]"
   ]
  },
  {
   "cell_type": "code",
   "execution_count": 71,
   "metadata": {},
   "outputs": [
    {
     "name": "stdout",
     "output_type": "stream",
     "text": [
      "Rewards:\n",
      "movement: + or - the distance covered for a good or bad move\n",
      "correct pick up: 5 \n",
      "wrong pick up: -5 \n",
      "correct drop down: 10 \n",
      "wrong drop down:-10 \n",
      "\n"
     ]
    }
   ],
   "source": [
    "print(f\"\"\"Rewards:\n",
    "movement: + or - the distance covered for a good or bad move\n",
    "correct pick up: {environment.REWARD_CORRECT_PICK} \n",
    "wrong pick up: {environment.REWARD_WRONG_PICK} \n",
    "correct drop down: {environment.REWARD_CORRECT_DROP} \n",
    "wrong drop down:{environment.REWARD_WRONG_DROP} \n",
    "\"\"\")"
   ]
  },
  {
   "cell_type": "markdown",
   "metadata": {},
   "source": [
    "## Environment initialization"
   ]
  },
  {
   "cell_type": "code",
   "execution_count": 48,
   "metadata": {},
   "outputs": [
    {
     "name": "stdout",
     "output_type": "stream",
     "text": [
      ". . . . . . 0 . . . . . . 1 . . . . . 2 . . . . .\n",
      ". . . . . . . . . . . . . . . . . . . . . . . . .\n",
      ". . . . . . . . . . . . . . . . . . . . . . . . .\n",
      ". . . . . . . . . . . . . . . . . . . . . . . . .\n",
      ". . . . . . . . . . . . . . . . . . . . . . . . .\n",
      ". . . . . . . . . . . . . . . . . . . . . . . . .\n",
      ". . . . . . . . . . . . . . . . . . . \u001b[91mO\u001b[0m . . . . .\n",
      ". . . . . . . . . . . . . . . . . . . . . . . . .\n",
      ". . . . . . . . . . . . . . . . . . . . . . . . .\n",
      ". . . . . . . . . . . . . . . . . . . . . . . . .\n",
      ". . . . . . . . . . . . . . . . . . . . . . . . .\n",
      ". . . . . . . . . . . . . . . . . . . . . . . . .\n",
      ". . . . . . . . . . . . . . . . . . . . . . . . .\n",
      ". . . . . . . . . . . . . . . . . . . . . . . . .\n",
      ". . . . . . . . . . . . . . . \u001b[91mO\u001b[0m . . . . . . . . .\n",
      ". . . . . . . . . . . . . . . . . . . . . . . . .\n",
      ". . . . . . \u001b[91mO\u001b[0m . . . . . . . . . . . . . . . . . .\n",
      ". . . . . . . . . . . . . . . . . . . . . . . . .\n",
      ". . . . . . . . . . . . . . . . . . . . . . . . .\n",
      ". . . . . . . . . . . . . . . . . . . . . . . . .\n",
      ". . . . . \u001b[94mO\u001b[0m . . . . . . . . . . . . . . . . . . .\n",
      ". . . . . . . . . . . . . . . . . . . . . . . . .\n",
      ". . . . . . . . . . . . . . . . . . . . . . . . .\n",
      ". . . . . . . . . . . . . . . . . . . . . . . . .\n",
      ". . . . . . . . . . . . . . . . . . . . . . . . .\n",
      "\n"
     ]
    },
    {
     "data": {
      "text/plain": [
       "[{'neighbors': array([[  1.,   0., 180.],\n",
       "         [  0.,   0.,   0.],\n",
       "         [  0.,   0.,   0.]]),\n",
       "  'carrying': -1},\n",
       " {'neighbors': array([[  1.,   0., 180.],\n",
       "         [  0.,   0.,   0.],\n",
       "         [  0.,   0.,   0.]]),\n",
       "  'carrying': -1},\n",
       " {'neighbors': array([[  1.,   0., 180.],\n",
       "         [  0.,   0.,   0.],\n",
       "         [  0.,   0.,   0.]]),\n",
       "  'carrying': -1}]"
      ]
     },
     "execution_count": 48,
     "metadata": {},
     "output_type": "execute_result"
    }
   ],
   "source": [
    "initial_setting = {\n",
    "    'agents': np.array([[0, 5], [0, 10], [0, 15]], dtype=float),\n",
    "    'blocks': np.array([[5, 15], [13, 5], [16, 4], [11, 12]], dtype=float),\n",
    "    'colors': np.array([environment.RED, environment.RED, environment.BLUE, environment.RED], dtype=int)\n",
    "}\n",
    "env = environment.Environment(objective=[(environment.RED, environment.NORTH_EDGE)],\n",
    "                   size=environment.SIMULATION_ARENA_SIZE, \n",
    "                   n_agents=3, \n",
    "                   n_blocks=4,\n",
    "                   n_neighbors=3,\n",
    "                   sensor_range=environment.SIMULATION_SENSOR_RANGE,\n",
    "                   sensor_angle=360,\n",
    "                   max_distance_covered_per_step=environment.SIMULATION_MAX_DISTANCE,\n",
    "                   sensitivity=0.5,\n",
    "                   initial_setting=initial_setting)\n",
    "initial_state, _ = env.reset() # Initial state\n",
    "env.print_env()\n",
    "initial_state"
   ]
  },
  {
   "cell_type": "markdown",
   "metadata": {},
   "source": [
    "## Testing"
   ]
  },
  {
   "cell_type": "code",
   "execution_count": 65,
   "metadata": {},
   "outputs": [
    {
     "name": "stdout",
     "output_type": "stream",
     "text": [
      ". . . . . . . . . . . . . . . . . . . . . . . . .\n",
      ". . . . . . . . . . . . . . 1 . . . . . . . . 2 .\n",
      ". . . . . . . . . . . . . . . . . . . . . . . . .\n",
      ". . . . . . . . . . . . . . . . . . . . . . . . .\n",
      ". . . . . . . . 0 . . . . . . . . . . . . . . . .\n",
      ". . . . . . . . . . . . . . . . . . . . . . . . .\n",
      ". . . . . . . . . . . . . . . . . . . \u001b[91mO\u001b[0m . . . . .\n",
      ". . . . . . . . . . . . . . . . . . . . . . . . .\n",
      ". . . . . . . . . . . . . . . . . . . . . . . . .\n",
      ". . . . . . . . . . . . . . . . . . . . . . . . .\n",
      ". . . . . . . . . . . . . . . . . . . . . . . . .\n",
      ". . . . . . . . . . . . . . . . . . . . . . . . .\n",
      ". . . . . . . . . . . . . . . . . . . . . . . . .\n",
      ". . . . . . . . . . . . . . . . . . . . . . . . .\n",
      ". . . . . . . . . . . . . . . \u001b[91mO\u001b[0m . . . . . . . . .\n",
      ". . . . . . . . . . . . . . . . . . . . . . . . .\n",
      ". . . . . . \u001b[91mO\u001b[0m . . . . . . . . . . . . . . . . . .\n",
      ". . . . . . . . . . . . . . . . . . . . . . . . .\n",
      ". . . . . . . . . . . . . . . . . . . . . . . . .\n",
      ". . . . . . . . . . . . . . . . . . . . . . . . .\n",
      ". . . . . \u001b[94mO\u001b[0m . . . . . . . . . . . . . . . . . . .\n",
      ". . . . . . . . . . . . . . . . . . . . . . . . .\n",
      ". . . . . . . . . . . . . . . . . . . . . . . . .\n",
      ". . . . . . . . . . . . . . . . . . . . . . . . .\n",
      ". . . . . . . . . . . . . . . . . . . . . . . . .\n",
      "\n"
     ]
    },
    {
     "data": {
      "text/plain": [
       "0.0"
      ]
     },
     "execution_count": 65,
     "metadata": {},
     "output_type": "execute_result"
    }
   ],
   "source": [
    "action = env.action_space.sample()\n",
    "# action = ([1, 180], [0, 0], [0.9, 90])\n",
    "next_state, reward, done, _, _ = env.step(action)\n",
    "env.print_env()\n",
    "reward"
   ]
  },
  {
   "cell_type": "code",
   "execution_count": 66,
   "metadata": {},
   "outputs": [
    {
     "data": {
      "text/plain": [
       "array([[ 3.28,  6.55],\n",
       "       [ 0.87, 11.08],\n",
       "       [ 0.79, 17.92]])"
      ]
     },
     "execution_count": 66,
     "metadata": {},
     "output_type": "execute_result"
    }
   ],
   "source": [
    "env.agents_location"
   ]
  },
  {
   "cell_type": "markdown",
   "metadata": {},
   "source": [
    "## Random solver"
   ]
  },
  {
   "cell_type": "code",
   "execution_count": 58,
   "metadata": {},
   "outputs": [
    {
     "data": {
      "text/plain": [
       "\"Done in 6233 steps with reward 323.5618995171115, info: {'completed': [(1, 3, 0), (0, 3, 2), (3, 3, 1)]}\""
      ]
     },
     "execution_count": 58,
     "metadata": {},
     "output_type": "execute_result"
    }
   ],
   "source": [
    "steps = 0\n",
    "total_reward = 0\n",
    "while True:\n",
    "    action = env.action_space.sample()\n",
    "    next_state, reward, done, _, info = env.step(action)\n",
    "    steps += 1\n",
    "    total_reward += reward\n",
    "    if done:\n",
    "        break\n",
    "\n",
    "f\"Done in {steps} steps with reward {total_reward}, info: {info}\""
   ]
  },
  {
   "cell_type": "markdown",
   "metadata": {},
   "source": [
    "## Profiling"
   ]
  },
  {
   "cell_type": "markdown",
   "metadata": {},
   "source": [
    "about 3000 steps per second"
   ]
  },
  {
   "cell_type": "code",
   "execution_count": 67,
   "metadata": {},
   "outputs": [
    {
     "data": {
      "text/plain": [
       "1.7965059280395508"
      ]
     },
     "execution_count": 67,
     "metadata": {},
     "output_type": "execute_result"
    }
   ],
   "source": [
    "total_time = 0\n",
    "for i in range(3000):\n",
    "    action = env.action_space.sample()\n",
    "    start = time.time()\n",
    "    next_state, reward, done, _, _ = env.step(action)\n",
    "    end = time.time()\n",
    "    total_time += end - start\n",
    "total_time"
   ]
  }
 ],
 "metadata": {
  "kernelspec": {
   "display_name": "Python 3",
   "language": "python",
   "name": "python3"
  },
  "language_info": {
   "codemirror_mode": {
    "name": "ipython",
    "version": 3
   },
   "file_extension": ".py",
   "mimetype": "text/x-python",
   "name": "python",
   "nbconvert_exporter": "python",
   "pygments_lexer": "ipython3",
   "version": "3.10.7"
  }
 },
 "nbformat": 4,
 "nbformat_minor": 2
}
