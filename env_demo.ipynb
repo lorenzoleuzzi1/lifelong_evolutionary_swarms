{
 "cells": [
  {
   "cell_type": "markdown",
   "metadata": {},
   "source": [
    "# Environment Demo"
   ]
  },
  {
   "cell_type": "code",
   "execution_count": 1,
   "metadata": {},
   "outputs": [
    {
     "data": {
      "text/plain": [
       "(<module 'utils' from '/Users/lorenzoleuzzi/Documents/GitHub/lifelong_evolutionary_swarms/utils.py'>,\n",
       " <module 'environment' from '/Users/lorenzoleuzzi/Documents/GitHub/lifelong_evolutionary_swarms/environment.py'>)"
      ]
     },
     "execution_count": 1,
     "metadata": {},
     "output_type": "execute_result"
    }
   ],
   "source": [
    "import sys\n",
    "import os\n",
    "import importlib\n",
    "import numpy as np\n",
    "import time\n",
    "\n",
    "# Add the parent directory to the Python path\n",
    "sys.path.append(os.path.abspath('../'))\n",
    "import environment \n",
    "import utils\n",
    "importlib.reload(utils), importlib.reload(environment)"
   ]
  },
  {
   "cell_type": "markdown",
   "metadata": {},
   "source": [
    "## Robot features\n",
    "\n",
    "- 25 cm diameter\n",
    "- compass\n",
    "- 360 vision sensor and object reconition in range 100cm\n",
    "- comunication between others robots\n",
    "- ability to pick up stuff (in they're in the same position of the object)\n",
    "- holonomic motion (every directions)\n",
    "- maximum velocity: 200 cm/s\n",
    "- maximum acceleration: 400 cm/s²\n",
    "- maximum distance covered in a single move: 1/2 acceleration * tstep, 8cm with tstep = 200 ms "
   ]
  },
  {
   "cell_type": "markdown",
   "metadata": {},
   "source": [
    "Simulation measurements: everything is divide by the agent size which is reperesented as point in the arena"
   ]
  },
  {
   "cell_type": "code",
   "execution_count": 2,
   "metadata": {},
   "outputs": [
    {
     "data": {
      "text/plain": [
       "'1.0, 4.0, 0.1, 2.0'"
      ]
     },
     "execution_count": 2,
     "metadata": {},
     "output_type": "execute_result"
    }
   ],
   "source": [
    "f\"{environment.SIMULATION_ROBOT_SIZE}, {environment.SIMULATION_SENSOR_RANGE}, {environment.TIME_STEP}, {environment.SIMULATION_MAX_WHEEL_VELOCITY}\""
   ]
  },
  {
   "cell_type": "markdown",
   "metadata": {},
   "source": [
    "We are in a continuous 2D environment (no physics), a robot possesses the capability to navigate in any direction, covering any distance up to a defined maximum per step. Additionally, the robot can pick up and deposit an object objects when is underneath or when it reached an edge, resepctively."
   ]
  },
  {
   "cell_type": "markdown",
   "metadata": {},
   "source": [
    "The robots are equipped with sensory equipment capable of identifying nearby entities. A \"neighbor\" is characterized by a tuple comprising the type of object, the distance to it, and its relative direction. Accordingly, each robot maintains a list of such tuples for a predefined fixed number of neighboring entities."
   ]
  },
  {
   "cell_type": "markdown",
   "metadata": {},
   "source": [
    "## Arena\n",
    "\n",
    "5m x 5m with robots and colored objects "
   ]
  },
  {
   "cell_type": "code",
   "execution_count": 3,
   "metadata": {},
   "outputs": [
    {
     "data": {
      "text/plain": [
       "20.0"
      ]
     },
     "execution_count": 3,
     "metadata": {},
     "output_type": "execute_result"
    }
   ],
   "source": [
    "environment.SIMULATION_ARENA_SIZE "
   ]
  },
  {
   "cell_type": "markdown",
   "metadata": {},
   "source": [
    "## Target\n",
    "A target color. The robots must pick up the objects of that color and deposit them in right position. The deposit area is in an edge of the arena (top edge)."
   ]
  },
  {
   "cell_type": "code",
   "execution_count": 4,
   "metadata": {},
   "outputs": [
    {
     "data": {
      "text/plain": [
       "3"
      ]
     },
     "execution_count": 4,
     "metadata": {},
     "output_type": "execute_result"
    }
   ],
   "source": [
    "environment.RED"
   ]
  },
  {
   "cell_type": "code",
   "execution_count": 5,
   "metadata": {},
   "outputs": [
    {
     "data": {
      "text/plain": [
       "(1, 2)"
      ]
     },
     "execution_count": 5,
     "metadata": {},
     "output_type": "execute_result"
    }
   ],
   "source": [
    "environment.REWARD_PICK, environment.REWARD_DROP"
   ]
  },
  {
   "cell_type": "markdown",
   "metadata": {},
   "source": [
    "## Environment initialization"
   ]
  },
  {
   "cell_type": "code",
   "execution_count": 3,
   "metadata": {},
   "outputs": [
    {
     "data": {
      "image/png": "[encoded data removed]",
      "text/plain": [
       "<PIL.Image.Image image mode=RGB size=420x420>"
      ]
     },
     "execution_count": 3,
     "metadata": {},
     "output_type": "execute_result"
    }
   ],
   "source": [
    "env = environment.SwarmForagingEnv(target_color= environment.GREEN, n_agents = 3, n_blocks = 6, distribution=\"uniform\", blocks_in_line=True, n_colors=3)\n",
    "# env.rate_target_block = 0.4\n",
    "initial_obs, _ = env.reset() \n",
    "env.render(False)"
   ]
  },
  {
   "cell_type": "code",
   "execution_count": 4,
   "metadata": {},
   "outputs": [
    {
     "data": {
      "text/plain": [
       "([{'neighbors': array([[1.        , 2.01671648, 0.        ],\n",
       "          [0.        , 0.        , 0.        ],\n",
       "          [0.        , 0.        , 0.        ]]),\n",
       "   'heading': 189.32503354535174,\n",
       "   'carrying': -1},\n",
       "  {'neighbors': array([[1.        , 1.21906764, 0.        ],\n",
       "          [0.        , 0.        , 0.        ],\n",
       "          [0.        , 0.        , 0.        ]]),\n",
       "   'heading': 187.88141496900664,\n",
       "   'carrying': -1},\n",
       "  {'neighbors': array([[  1.        ,   2.44479533,   0.        ],\n",
       "          [  1.        ,   3.26548397, 270.        ],\n",
       "          [  0.        ,   0.        ,   0.        ]]),\n",
       "   'heading': 186.04752852098613,\n",
       "   'carrying': -1}],\n",
       " array([[ 0.00000000e+00,  1.00000000e+00,  0.00000000e+00,\n",
       "          0.00000000e+00,  0.00000000e+00,  0.00000000e+00,\n",
       "          1.00000000e+00,  0.00000000e+00,  0.00000000e+00,\n",
       "          0.00000000e+00,  0.00000000e+00,  0.00000000e+00,\n",
       "          1.00000000e+00,  0.00000000e+00,  0.00000000e+00,\n",
       "          0.00000000e+00,  0.00000000e+00,  0.00000000e+00,\n",
       "          5.04179119e-01,  0.00000000e+00,  0.00000000e+00,\n",
       "          0.00000000e+00,  0.00000000e+00,  0.00000000e+00,\n",
       "          1.00000000e+00,  0.00000000e+00,  0.00000000e+00,\n",
       "         -1.62034980e-01, -9.86785015e-01,  1.00000000e+00,\n",
       "          0.00000000e+00,  0.00000000e+00,  0.00000000e+00,\n",
       "          0.00000000e+00,  0.00000000e+00,  1.00000000e+00],\n",
       "        [ 0.00000000e+00,  1.00000000e+00,  0.00000000e+00,\n",
       "          0.00000000e+00,  0.00000000e+00,  0.00000000e+00,\n",
       "          1.00000000e+00,  0.00000000e+00,  0.00000000e+00,\n",
       "          0.00000000e+00,  0.00000000e+00,  0.00000000e+00,\n",
       "          1.00000000e+00,  0.00000000e+00,  0.00000000e+00,\n",
       "          0.00000000e+00,  0.00000000e+00,  0.00000000e+00,\n",
       "          3.04766911e-01,  0.00000000e+00,  0.00000000e+00,\n",
       "          0.00000000e+00,  0.00000000e+00,  0.00000000e+00,\n",
       "          1.00000000e+00,  0.00000000e+00,  0.00000000e+00,\n",
       "         -1.37123247e-01, -9.90553994e-01,  1.00000000e+00,\n",
       "          0.00000000e+00,  0.00000000e+00,  0.00000000e+00,\n",
       "          0.00000000e+00,  0.00000000e+00,  1.00000000e+00],\n",
       "        [ 0.00000000e+00,  1.00000000e+00,  0.00000000e+00,\n",
       "          0.00000000e+00,  0.00000000e+00,  0.00000000e+00,\n",
       "          0.00000000e+00,  1.00000000e+00,  0.00000000e+00,\n",
       "          0.00000000e+00,  0.00000000e+00,  0.00000000e+00,\n",
       "          1.00000000e+00,  0.00000000e+00,  0.00000000e+00,\n",
       "          0.00000000e+00,  0.00000000e+00,  0.00000000e+00,\n",
       "          6.11198831e-01,  8.16370994e-01,  0.00000000e+00,\n",
       "          0.00000000e+00, -1.00000000e+00,  0.00000000e+00,\n",
       "          1.00000000e+00, -1.83697020e-16,  0.00000000e+00,\n",
       "         -1.05353412e-01, -9.94434844e-01,  1.00000000e+00,\n",
       "          0.00000000e+00,  0.00000000e+00,  0.00000000e+00,\n",
       "          0.00000000e+00,  0.00000000e+00,  1.00000000e+00]]))"
      ]
     },
     "execution_count": 4,
     "metadata": {},
     "output_type": "execute_result"
    }
   ],
   "source": [
    "initial_obs, env.process_observation(initial_obs)"
   ]
  },
  {
   "cell_type": "code",
   "execution_count": 15,
   "metadata": {},
   "outputs": [
    {
     "data": {
      "text/plain": [
       "(array([ 1.48870411, -0.74078643, -1.34366745]),\n",
       " array([-0.40716756,  0.09974027, -1.82387127]),\n",
       " array([ 1.24791367,  1.69690379, -0.16896223]))"
      ]
     },
     "execution_count": 15,
     "metadata": {},
     "output_type": "execute_result"
    }
   ],
   "source": [
    "env.action_space.sample()"
   ]
  },
  {
   "cell_type": "code",
   "execution_count": 32,
   "metadata": {},
   "outputs": [
    {
     "name": "stdout",
     "output_type": "stream",
     "text": [
      ". . . . . . . . . . . . . . . . . . . .\n",
      ". . . . . . . . . . . . . . . . . . . .\n",
      ". . . . . 0 . . . . 1 . . . . 2 . . . .\n",
      ". . . . . . . . . . . . . . . . . . . .\n",
      ". . . . . . . . . . . . . . . . . . . .\n",
      ". . . . . . . . . . . . . . . . . . . .\n",
      ". . . . . . . . . . . . . . . . . . . .\n",
      ". . . . \u001b[91mO\u001b[0m . . . . . . . \u001b[94mO\u001b[0m . . . . . . .\n",
      ". . . . . . . \u001b[94mO\u001b[0m . . . . . . . \u001b[92mO\u001b[0m . . . .\n",
      ". . . . . . . . . . . . . . . . . . . .\n",
      ". . . . . . . . . . . . . . . . . . . .\n",
      ". . \u001b[91mO\u001b[0m . . . . . . . . . . . . . . . . .\n",
      ". . . . . . . . . . . . . . . . . . . .\n",
      ". . . . \u001b[93mO\u001b[0m . . . . . . . . \u001b[95mO\u001b[0m . . . . . .\n",
      ". . . . . . . . . . . . . . . . . . . .\n",
      ". . . . . . . . . \u001b[91mO\u001b[0m . . . . . . . . . .\n",
      ". . . . . . . . . . . . . . . . . . . .\n",
      ". . . . . . . . . . . . . . . . \u001b[92mO\u001b[0m . . .\n",
      ". . . . . . . . \u001b[93mO\u001b[0m . . . . . . . . . . .\n",
      ". . . . . . . . . . . . . . . . . . . .\n"
     ]
    },
    {
     "data": {
      "image/png": "[encoded data removed]",
      "text/plain": [
       "<PIL.Image.Image image mode=RGB size=400x400>"
      ]
     },
     "execution_count": 32,
     "metadata": {},
     "output_type": "execute_result"
    }
   ],
   "source": [
    "initial_state = {}\n",
    "initial_state['blocks'] = np.array([\n",
    "    [10.6, 2.4],\n",
    "    [8.1, 14.9],  \n",
    "    [14.6, 9.0],  \n",
    "    [6.6, 11.6],  \n",
    "    [8.1, 6.9],  \n",
    "    [16.9, 16.2], \n",
    "    [6.9, 4.5],\n",
    "    [13.2, 4.2],\n",
    "    [13.2, 12.8],\n",
    "    [17.5, 7.5]  \n",
    "])\n",
    "initial_state['colors'] = np.array([3, 5, 3, 4, 4, 5, 3, 6, 7, 6])\n",
    "initial_state['agents'] =  np.array([\n",
    "    [1.5, 5.0],  # Agent 0\n",
    "    [1.5, 10.0],  # Agent 1\n",
    "    [1.5, 15.0]   # Agent 2\n",
    "])\n",
    "initial_state['headings'] = np.array([180, 180, 180])\n",
    "env.reset(initial_state = initial_state)\n",
    "env.render()"
   ]
  },
  {
   "cell_type": "markdown",
   "metadata": {},
   "source": [
    "## Testing"
   ]
  },
  {
   "cell_type": "code",
   "execution_count": 6,
   "metadata": {},
   "outputs": [],
   "source": [
    "cumulative_reward = 0"
   ]
  },
  {
   "cell_type": "code",
   "execution_count": 44,
   "metadata": {},
   "outputs": [
    {
     "data": {
      "image/png": "[encoded data removed]",
      "text/plain": [
       "<PIL.Image.Image image mode=RGB size=420x420>"
      ]
     },
     "execution_count": 44,
     "metadata": {},
     "output_type": "execute_result"
    }
   ],
   "source": [
    "action = env.action_space.sample()\n",
    "action = [environment.MOVE_RIGHT * np.array([5]), environment.MOVE_RIGHT * np.array([5]), environment.MOVE_RIGHT* np.array([5])]\n",
    "next_state, reward, done, _, _ = env.step(action)\n",
    "env.render(False)"
   ]
  },
  {
   "cell_type": "markdown",
   "metadata": {},
   "source": [
    "## Profiling"
   ]
  },
  {
   "cell_type": "markdown",
   "metadata": {},
   "source": [
    "about 2000 steps per second"
   ]
  },
  {
   "cell_type": "code",
   "execution_count": 19,
   "metadata": {},
   "outputs": [
    {
     "data": {
      "text/plain": [
       "1.1703405380249023"
      ]
     },
     "execution_count": 19,
     "metadata": {},
     "output_type": "execute_result"
    }
   ],
   "source": [
    "def profile():\n",
    "    total_time = 0\n",
    "    for i in range(2000):\n",
    "        action = env.action_space.sample()\n",
    "        start = time.time()\n",
    "        next_state, reward, done, _, _ = env.step(action)\n",
    "        end = time.time()\n",
    "        total_time += end - start\n",
    "    return total_time\n",
    "profile()"
   ]
  },
  {
   "cell_type": "code",
   "execution_count": 20,
   "metadata": {},
   "outputs": [
    {
     "name": "stdout",
     "output_type": "stream",
     "text": [
      "         508928 function calls (498928 primitive calls) in 3.044 seconds\n",
      "\n",
      "   Ordered by: cumulative time\n",
      "\n",
      "   ncalls  tottime  percall  cumtime  percall filename:lineno(function)\n",
      "        1    0.000    0.000    3.044    3.044 {built-in method builtins.exec}\n",
      "        1    0.000    0.000    3.044    3.044 <string>:1(<module>)\n",
      "        1    0.031    0.031    3.044    3.044 1416959497.py:1(profile)\n",
      "     2000    0.263    0.000    1.856    0.001 environment.py:410(step)\n",
      "     2000    0.016    0.000    1.148    0.001 tuple.py:87(sample)\n",
      "     8000    0.024    0.000    1.132    0.000 tuple.py:112(<genexpr>)\n",
      "     6000    0.387    0.000    1.108    0.000 box.py:184(sample)\n",
      "51527/41527    0.210    0.000    0.985    0.000 {built-in method numpy.core._multiarray_umath.implement_array_function}\n",
      "     2000    0.460    0.000    0.560    0.000 environment.py:320(_detect)\n",
      "     6000    0.232    0.000    0.559    0.000 {method 'uniform' of 'numpy.random._generator.Generator' objects}\n",
      "     4000    0.009    0.000    0.323    0.000 <__array_function__ internals>:177(clip)\n",
      "     9527    0.024    0.000    0.319    0.000 fromnumeric.py:51(_wrapfunc)\n",
      "     4000    0.014    0.000    0.299    0.000 fromnumeric.py:2085(clip)\n",
      "     4000    0.010    0.000    0.269    0.000 {method 'clip' of 'numpy.ndarray' objects}\n",
      "     4000    0.029    0.000    0.260    0.000 _methods.py:126(_clip)\n",
      "     2000    0.068    0.000    0.226    0.000 environment.py:311(_update_distance_matrix)\n",
      "    12000    0.065    0.000    0.199    0.000 fromnumeric.py:69(_wrapreduction)\n",
      "     2000    0.198    0.000    0.198    0.000 environment.py:296(_update_directions_matrix)\n",
      "    16000    0.168    0.000    0.168    0.000 {method 'reduce' of 'numpy.ufunc' objects}\n",
      "     8000    0.084    0.000    0.166    0.000 _methods.py:92(_clip_dep_is_scalar_nan)\n",
      "     6000    0.014    0.000    0.164    0.000 <__array_function__ internals>:177(any)\n",
      "     6000    0.016    0.000    0.162    0.000 <__array_function__ internals>:177(all)\n",
      "     4000    0.011    0.000    0.158    0.000 <__array_function__ internals>:177(norm)\n",
      "     4000    0.068    0.000    0.135    0.000 linalg.py:2357(norm)\n",
      "     6000    0.020    0.000    0.130    0.000 fromnumeric.py:2406(all)\n",
      "     2000    0.006    0.000    0.120    0.000 <__array_function__ internals>:177(stack)\n",
      "     6000    0.016    0.000    0.104    0.000 fromnumeric.py:2307(any)\n",
      "     2000    0.034    0.000    0.098    0.000 shape_base.py:357(stack)\n",
      "     8000    0.017    0.000    0.082    0.000 <__array_function__ internals>:177(ndim)\n",
      "     5527    0.011    0.000    0.074    0.000 <__array_function__ internals>:177(argmin)\n",
      "     6000    0.069    0.000    0.069    0.000 {method 'normal' of 'numpy.random._generator.Generator' objects}\n",
      "    12000    0.024    0.000    0.065    0.000 <__array_function__ internals>:177(where)\n",
      "     5527    0.019    0.000    0.052    0.000 fromnumeric.py:1223(argmin)\n",
      "     8000    0.037    0.000    0.052    0.000 fromnumeric.py:3121(ndim)\n",
      "     4000    0.047    0.000    0.047    0.000 _methods.py:107(_clip_dep_invoke_with_casting)\n",
      "    12000    0.043    0.000    0.043    0.000 {method 'exponential' of 'numpy.random._generator.Generator' objects}\n",
      "     2000    0.007    0.000    0.043    0.000 <__array_function__ internals>:177(concatenate)\n",
      "     2000    0.005    0.000    0.042    0.000 <__array_function__ internals>:177(dot)\n",
      "     2000    0.021    0.000    0.023    0.000 environment.py:366(_get_obs)\n",
      "     6000    0.018    0.000    0.022    0.000 {built-in method builtins.sorted}\n",
      "     5527    0.019    0.000    0.019    0.000 {method 'argmin' of 'numpy.ndarray' objects}\n",
      "     2000    0.019    0.000    0.019    0.000 {built-in method builtins.sum}\n",
      "     8000    0.014    0.000    0.018    0.000 _methods.py:102(_clip_dep_is_byte_swapped)\n",
      "    12000    0.017    0.000    0.017    0.000 {built-in method numpy.asarray}\n",
      "     6000    0.016    0.000    0.016    0.000 {method 'astype' of 'numpy.ndarray' objects}\n",
      "    24000    0.016    0.000    0.016    0.000 space.py:66(np_random)\n",
      "    12000    0.015    0.000    0.015    0.000 fromnumeric.py:70(<dictcomp>)\n",
      "     6000    0.013    0.000    0.013    0.000 {built-in method numpy.empty}\n",
      "    26000    0.010    0.000    0.010    0.000 {built-in method builtins.len}\n",
      "     4000    0.009    0.000    0.009    0.000 {built-in method time.time}\n",
      "     2000    0.003    0.000    0.008    0.000 shape_base.py:348(_stack_dispatcher)\n",
      "    24002    0.008    0.000    0.008    0.000 {method 'append' of 'list' objects}\n",
      "     9527    0.007    0.000    0.007    0.000 {built-in method builtins.getattr}\n",
      "     2000    0.005    0.000    0.007    0.000 shape_base.py:420(<listcomp>)\n",
      "    12000    0.007    0.000    0.007    0.000 {built-in method builtins.isinstance}\n",
      "    12000    0.006    0.000    0.006    0.000 multiarray.py:341(where)\n",
      "     2000    0.006    0.000    0.006    0.000 shape_base.py:432(<listcomp>)\n",
      "     2000    0.006    0.000    0.006    0.000 shape_base.py:424(<setcomp>)\n",
      "     6000    0.006    0.000    0.006    0.000 box.py:149(shape)\n",
      "    12000    0.005    0.000    0.005    0.000 {method 'items' of 'dict' objects}\n",
      "     2000    0.003    0.000    0.005    0.000 shape_base.py:207(_arrays_for_stack_dispatcher)\n",
      "     2000    0.005    0.000    0.005    0.000 {built-in method numpy.zeros}\n",
      "     8233    0.004    0.000    0.004    0.000 environment.py:356(<lambda>)\n",
      "     4000    0.004    0.000    0.004    0.000 {method 'conj' of 'numpy.ndarray' objects}\n",
      "     6000    0.004    0.000    0.004    0.000 fromnumeric.py:2401(_all_dispatcher)\n",
      "     8000    0.003    0.000    0.003    0.000 fromnumeric.py:3117(_ndim_dispatcher)\n",
      "     6000    0.003    0.000    0.003    0.000 fromnumeric.py:2302(_any_dispatcher)\n",
      "     5527    0.003    0.000    0.003    0.000 fromnumeric.py:1219(_argmin_dispatcher)\n",
      "     4000    0.003    0.000    0.003    0.000 {built-in method builtins.issubclass}\n",
      "     2000    0.003    0.000    0.003    0.000 {built-in method builtins.hasattr}\n",
      "     2000    0.002    0.000    0.002    0.000 environment.py:363(_get_info)\n",
      "     4000    0.002    0.000    0.002    0.000 linalg.py:2353(_norm_dispatcher)\n",
      "     2000    0.002    0.000    0.002    0.000 {built-in method numpy.core._multiarray_umath.normalize_axis_index}\n",
      "     4000    0.002    0.000    0.002    0.000 fromnumeric.py:2081(_clip_dispatcher)\n",
      "     4000    0.002    0.000    0.002    0.000 {built-in method numpy.asanyarray}\n",
      "     2000    0.002    0.000    0.002    0.000 multiarray.py:148(concatenate)\n",
      "     2000    0.001    0.000    0.001    0.000 multiarray.py:736(dot)\n",
      "        1    0.000    0.000    0.000    0.000 {method 'disable' of '_lsprof.Profiler' objects}\n",
      "\n",
      "\n"
     ]
    }
   ],
   "source": [
    "import cProfile\n",
    "cProfile.run('profile()', sort='cumtime')"
   ]
  },
  {
   "cell_type": "markdown",
   "metadata": {},
   "source": [
    "## Load Controller "
   ]
  },
  {
   "cell_type": "code",
   "execution_count": 2,
   "metadata": {},
   "outputs": [],
   "source": [
    "import pickle\n",
    "import os\n",
    "import neat\n",
    "# TODO we might dont need this see notebook load"
   ]
  },
  {
   "cell_type": "code",
   "execution_count": 75,
   "metadata": {},
   "outputs": [
    {
     "name": "stdout",
     "output_type": "stream",
     "text": [
      ". . . . . . . . . . . . . . . . . . . .\n",
      ". . . . . . . . . . . . . . . . . . . .\n",
      ". . . . . 1 . . . . 0 . . . . 2 . . . .\n",
      ". . . . . . . . . . . . . . . . . . . .\n",
      ". . . . . . . . . . . . . . . . . . . .\n",
      ". . . . . . . . . . . . . . . . . . . .\n",
      ". . . . . . . . . . . . . . . . . . . .\n",
      ". . . . . . . . . . . . . . . . . . . .\n",
      ". . . . . . . . . . . . . . . . . . . .\n",
      ". . . . . . . . . . . . . . . . . . . .\n",
      ". . \u001b[94mO\u001b[0m . . . . . . . . . . . . . . . . .\n",
      ". . . . . . . . . \u001b[92mO\u001b[0m . . . . . . \u001b[91mO\u001b[0m . . .\n",
      ". . . . . . . . . . . . . . . . . . . .\n",
      ". . . . . \u001b[91mO\u001b[0m . . . . . . . . . . . . . .\n",
      ". . . . . . . . . . . . . . . . . . . .\n",
      ". . . . . . . . . . . . \u001b[91mO\u001b[0m . . . . . . .\n",
      ". . . . . . . \u001b[92mO\u001b[0m . . . . . . . . \u001b[94mO\u001b[0m . . .\n",
      ". . . . . . . . . . . . . . . . . . . .\n",
      ". . . . . . . . . . . . . . . . . . . .\n",
      ". . . . . . . . . . . . . . . . . . . .\n"
     ]
    },
    {
     "data": {
      "image/png": "[encoded data removed]",
      "text/plain": [
       "<PIL.Image.Image image mode=RGB size=400x400>"
      ]
     },
     "execution_count": 75,
     "metadata": {},
     "output_type": "execute_result"
    }
   ],
   "source": [
    "size = 16\n",
    "sensor_range = 3.5 # should be 4 but 3 to be sure\n",
    "sensitivity = 1.4\n",
    "max_wheel_speed = 0.4\n",
    "\n",
    "initial_setting = {}\n",
    "initial_setting['agents'] =  np.array([\n",
    "    [1.5, 8.0], # Agent 0\n",
    "    [1.5, 4.0], # Agent 1\n",
    "    [1.5, 12.0] # Agent 2\n",
    "    ])[:3]\n",
    "initial_setting['headings'] = np.array([176 , 181, 178])[:3]\n",
    "initial_setting['blocks'] = np.array([\n",
    "        [10.5, 4.2], # Carrier 100\n",
    "        [12.0, 10.0], # Carrier 101\n",
    "        [9.0, 13.0], # Carrier 102\n",
    "        [8.0, 2.0],  # Carrier 103\n",
    "        [12.4, 12.8], # Carrier 104\n",
    "        [13.0, 5.5], # Carrier 105\n",
    "        [8.5, 7.0] # Carrier 106\n",
    "    ])\n",
    "initial_setting['colors'] = np.array([3, 3, 3, 4, 4, 5, 5])\n",
    "n_colors = len(np.unique(initial_setting['colors']))\n",
    "\n",
    "env = environment.SwarmForagingEnv(n_agents = len(initial_setting['agents']), \n",
    "                        n_blocks = len(initial_setting['blocks']), \n",
    "                        target_color = 3, # RED\n",
    "                        duration=1000, size = size, max_retrieves=3,\n",
    "                        sensor_range = sensor_range,\n",
    "                        sensitivity = sensitivity,\n",
    "                        max_wheel_velocity = max_wheel_speed,\n",
    "                        n_colors = n_colors,\n",
    "                        repositioning=False,\n",
    "                        efficency_reward=True,\n",
    "                        see_other_agents=False)\n",
    "                           \n",
    "env.reset(initial_state = initial_setting)\n",
    "env.render()\n",
    "# env = environment.SwarmForagingEnv(target_color= environment.BLUE, n_agents = 3, n_blocks = 6, distribution=\"uniform\", size = 12)"
   ]
  },
  {
   "cell_type": "code",
   "execution_count": 13,
   "metadata": {},
   "outputs": [],
   "source": [
    "# Load a controller\n",
    "results_path = os.path.abspath(\"/Users/lorenzoleuzzi/Library/CloudStorage/OneDrive-UniversityofPisa/lifelong evolutionary swarms/results\")\n",
    "\n",
    "path = f\"{results_path}/results/bristol_noagents/neat_1000_500_300_3_7_u/seed69/static3\"\n",
    "with open(f\"{path}/best_genome.pkl\", \"rb\") as f:\n",
    "    controller = pickle.load(f)\n",
    "# Set configuration file\n",
    "with open(f\"{path}/neat_config.pkl\", \"rb\") as f:\n",
    "    config = pickle.load(f)\n",
    "\n",
    "net = neat.nn.FeedForwardNetwork.create(controller, config)"
   ]
  },
  {
   "cell_type": "code",
   "execution_count": 14,
   "metadata": {},
   "outputs": [],
   "source": [
    "obs, _ = env.reset(initial_state=initial_setting)\n",
    "fitness = 0  "
   ]
  },
  {
   "cell_type": "code",
   "execution_count": 37,
   "metadata": {},
   "outputs": [
    {
     "name": "stdout",
     "output_type": "stream",
     "text": [
      "[{'neighbors': array([[  4.        ,   2.41676095, 280.51938022],\n",
      "       [  5.        ,   2.46368851,  79.68320568],\n",
      "       [  3.        ,   3.18109302, 186.79072967]]), 'heading': 176.00293487202072, 'carrying': -1}, {'neighbors': array([[  1.        ,   2.00012896,  90.        ],\n",
      "       [  5.        ,   2.0094887 , 275.60793383],\n",
      "       [  3.        ,   2.72372719, 197.07767145]]), 'heading': 181.00378941061314, 'carrying': -1}, {'neighbors': array([[  4.        ,   2.69981086,  77.88362883],\n",
      "       [  5.        ,   3.35407554, 310.23961779],\n",
      "       [  0.        ,   0.        ,   0.        ]]), 'heading': 177.99956852148372, 'carrying': 3}]\n",
      "[[5.53135402e-05 9.99994427e-01 9.99999093e-01]\n",
      " [1.32993290e-04 9.77039415e-05 9.99999093e-01]\n",
      " [9.96351318e-01 1.00000000e+00 3.09700025e-05]]\n",
      "[[ 8.44122345  6.42385704]\n",
      " [ 8.19636866  2.00012896]\n",
      " [ 8.56668473 11.43966799]]\n",
      "[{'neighbors': array([[  5.        ,   2.42865737,  78.97820814],\n",
      "       [  4.        ,   2.46035035, 280.8780721 ],\n",
      "       [  3.        ,   3.16317634, 187.55961755]]), 'heading': 176.00294484726226, 'carrying': -1}, {'neighbors': array([[  5.        ,   1.97779439, 277.71888269],\n",
      "       [  1.        ,   2.04012643,  90.        ],\n",
      "       [  3.        ,   2.6458218 , 196.6902523 ]]), 'heading': 181.00381362816455, 'carrying': -1}, {'neighbors': array([[  4.        ,   2.64669921,  79.16590185],\n",
      "       [  5.        ,   3.34094893, 308.8889079 ],\n",
      "       [  0.        ,   0.        ,   0.        ]]), 'heading': 177.99890522661786, 'carrying': 3}]\n",
      "[[5.53135402e-05 9.40030796e-04 9.99999093e-01]\n",
      " [5.53135402e-05 1.00000000e+00 9.99999093e-01]\n",
      " [9.96351318e-01 1.00000000e+00 3.09700025e-05]]\n",
      "[[ 8.46431638  6.38385966]\n",
      " [ 8.26564305  2.04012643]\n",
      " [ 8.49748911 11.39952328]]\n",
      "[{'neighbors': array([[  4.        ,   2.43537871, 282.65526527],\n",
      "       [  5.        ,   2.48181812,  77.585353  ],\n",
      "       [  3.        ,   3.08943841, 186.99449791]]), 'heading': 176.0029548225038, 'carrying': -1}, {'neighbors': array([[  1.        ,   2.00012861,  90.        ],\n",
      "       [  5.        ,   2.02060731, 278.21543187],\n",
      "       [  3.        ,   2.63557253, 197.66737569]]), 'heading': 181.0038236034061, 'carrying': -1}, {'neighbors': array([[  4.        ,   2.59496705,  80.4999914 ],\n",
      "       [  5.        ,   3.32969308, 307.52830526],\n",
      "       [  0.        ,   0.        ,   0.        ]]), 'heading': 177.998241931752, 'carrying': 3}]\n",
      "[[5.53135402e-05 9.99998285e-01 9.99999093e-01]\n",
      " [1.32993290e-04 1.29517062e-04 9.99999093e-01]\n",
      " [9.96351318e-01 1.00000000e+00 3.09700025e-05]]\n",
      "[[ 8.53355366  6.42378664]\n",
      " [ 8.28873572  2.00012861]\n",
      " [ 8.42829348 11.35937857]]\n",
      "[{'neighbors': array([[  5.        ,   2.4479185 ,  76.85619961],\n",
      "       [  4.        ,   2.47950218, 282.97343462],\n",
      "       [  3.        ,   3.0716824 , 187.78749739]]), 'heading': 176.00296479774534, 'carrying': -1}, {'neighbors': array([[  5.        ,   1.9923067 , 280.3520265 ],\n",
      "       [  1.        ,   2.04012353,  90.        ],\n",
      "       [  3.        ,   2.55748589, 197.28461783]]), 'heading': 181.0038478209575, 'carrying': -1}, {'neighbors': array([[  4.        ,   2.54469851,  81.88756634],\n",
      "       [  5.        ,   3.32032702, 306.15925059],\n",
      "       [  0.        ,   0.        ,   0.        ]]), 'heading': 177.99757863688615, 'carrying': 3}]\n",
      "[[5.53135402e-05 3.25912319e-03 9.99999093e-01]\n",
      " [5.53135402e-05 1.00000000e+00 9.99999093e-01]\n",
      " [9.96351318e-01 1.00000000e+00 3.09700025e-05]]\n",
      "[[ 8.5566464   6.38378895]\n",
      " [ 8.35800863  2.04012353]\n",
      " [ 8.35909786 11.31923386]]\n",
      "[{'neighbors': array([[  4.        ,   2.45747921, 284.75235234],\n",
      "       [  5.        ,   2.50301736,  75.52196239],\n",
      "       [  3.        ,   2.99795504, 187.21398946]]), 'heading': 176.00297477298687, 'carrying': -1}, {'neighbors': array([[  1.        ,   2.0001257 ,  90.        ],\n",
      "       [  5.        ,   2.03586232, 280.78907691],\n",
      "       [  3.        ,   2.54771855, 198.29786563]]), 'heading': 181.00385779619904, 'carrying': -1}, {'neighbors': array([[  4.        ,   2.49598204,  83.33018076],\n",
      "       [  5.        ,   3.31286678, 304.78324104],\n",
      "       [  0.        ,   0.        ,   0.        ]]), 'heading': 177.9969153420203, 'carrying': 3}]\n",
      "[[5.53135402e-05 9.99999458e-01 9.99999093e-01]\n",
      " [1.32993290e-04 1.71829076e-04 9.99999093e-01]\n",
      " [9.96351318e-01 1.00000000e+00 3.09700025e-05]]\n",
      "[[ 8.62577656  6.4235304 ]\n",
      " [ 8.3811013   2.0001257 ]\n",
      " [ 8.28990224 11.27908915]]\n",
      "[{'neighbors': array([[  5.        ,   2.4702751 ,  74.77139986],\n",
      "       [  4.        ,   2.50206833, 285.03049726],\n",
      "       [  3.        ,   2.98037208, 188.03261097]]), 'heading': 176.0029847482284, 'carrying': -1}, {'neighbors': array([[  5.        ,   2.01096385, 282.9416364 ],\n",
      "       [  1.        ,   2.04011724,  90.        ],\n",
      "       [  3.        ,   2.46944777, 197.92149761]]), 'heading': 181.00388201375046, 'carrying': -1}, {'neighbors': array([[  4.        ,   2.44891025,  84.82923518],\n",
      "       [  5.        ,   3.30732525, 303.40182108],\n",
      "       [  0.        ,   0.        ,   0.        ]]), 'heading': 177.99625204715443, 'carrying': 3}]\n",
      "[[5.53135402e-05 1.10797729e-02 9.99999093e-01]\n",
      " [5.53135402e-05 1.00000000e+00 9.99999093e-01]\n",
      " [9.96351318e-01 1.00000000e+00 3.09700025e-05]]\n",
      "[[ 8.64886926  6.38353262]\n",
      " [ 8.45037226  2.04011724]\n",
      " [ 8.22070661 11.23894445]]\n",
      "[{'neighbors': array([[  4.        ,   2.48330529, 286.7972045 ],\n",
      "       [  5.        ,   2.52670337,  73.4996294 ],\n",
      "       [  3.        ,   2.90695782, 187.45860104]]), 'heading': 176.00299472346995, 'carrying': -1}, {'neighbors': array([[  1.        ,   2.00011942,  90.        ],\n",
      "       [  5.        ,   2.05516213, 283.31934988],\n",
      "       [  3.        ,   2.46019803, 198.97336244]]), 'heading': 181.003891988992, 'carrying': -1}, {'neighbors': array([[  4.        ,   2.40357978,  86.38593257],\n",
      "       [  5.        ,   3.3037121 , 302.01657242],\n",
      "       [  0.        ,   0.        ,   0.        ]]), 'heading': 177.99558875228857, 'carrying': 3}]\n",
      "[[5.53135402e-05 9.99999822e-01 9.99999093e-01]\n",
      " [1.32993290e-04 2.27466705e-04 9.99999093e-01]\n",
      " [9.96351318e-01 1.00000000e+00 3.09700025e-05]]\n",
      "[[ 8.7176382   6.42264841]\n",
      " [ 8.47346493  2.00011942]\n",
      " [ 8.15151099 11.19879974]]\n",
      "[{'neighbors': array([[  5.        ,   2.49513649,  72.73030238],\n",
      "       [  4.        ,   2.52829198, 287.0362566 ],\n",
      "       [  3.        ,   2.88956752, 188.30445674]]), 'heading': 176.0030046987115, 'carrying': -1}, {'neighbors': array([[  5.        ,   2.03365237, 285.47846405],\n",
      "       [  1.        ,   2.0401065 ,  90.        ],\n",
      "       [  3.        ,   2.38174116, 198.60545672]]), 'heading': 181.0039162065434, 'carrying': -1}, {'neighbors': array([[  4.        ,   2.36009097,  88.00122971],\n",
      "       [  5.        ,   3.30203365, 300.62910343],\n",
      "       [  0.        ,   0.        ,   0.        ]]), 'heading': 177.9949254574227, 'carrying': 3}]\n",
      "[[5.53135402e-05 3.62291649e-02 9.99999093e-01]\n",
      " [5.53135402e-05 1.00000000e+00 9.99999093e-01]\n",
      " [9.96351318e-01 1.00000000e+00 3.09700025e-05]]\n",
      "[[ 8.74073088  6.3826506 ]\n",
      " [ 8.54273332  2.0401065 ]\n",
      " [ 8.08231536 11.15865503]]\n",
      "[{'neighbors': array([[  4.        ,   2.51375806, 288.75763452],\n",
      "       [  5.        ,   2.55120016,  71.52769345],\n",
      "       [  3.        ,   2.81743894, 187.75638889]]), 'heading': 176.00301467395303, 'carrying': -1}, {'neighbors': array([[  1.        ,   2.00010868,  90.        ],\n",
      "       [  5.        ,   2.07839466, 285.79771331],\n",
      "       [  3.        ,   2.37304859, 199.6986637 ]]), 'heading': 181.00392618178495, 'carrying': -1}, {'neighbors': array([[  4.        ,   2.31854744,  89.67578417],\n",
      "       [  5.        ,   3.30229285, 299.24103802],\n",
      "       [  0.        ,   0.        ,   0.        ]]), 'heading': 177.99426216255685, 'carrying': 3}]\n",
      "[[5.53135402e-05 9.99999938e-01 9.99999093e-01]\n",
      " [1.32993290e-04 2.99589309e-04 9.99999093e-01]\n",
      " [9.96351318e-01 1.00000000e+00 3.09700025e-05]]\n",
      "[[ 8.80833821  6.41975444]\n",
      " [ 8.565826    2.00010868]\n",
      " [ 8.01311974 11.11851032]]\n",
      "[{'neighbors': array([[  5.        ,   2.52081711,  70.74178856],\n",
      "       [  4.        ,   2.55907314, 288.95923317],\n",
      "       [  3.        ,   2.80028203, 188.6310877 ]]), 'heading': 176.00302464919457, 'carrying': -1}, {'neighbors': array([[  1.        ,   2.04009   ,  90.        ],\n",
      "       [  5.        ,   2.06023976, 287.95444647],\n",
      "       [  3.        ,   2.29440492, 199.34170867]]), 'heading': 181.00395039933636, 'carrying': -1}, {'neighbors': array([[  4.        ,   2.27905559,  91.4098979 ],\n",
      "       [  5.        ,   3.30448925, 297.85400429],\n",
      "       [  0.        ,   0.        ,   0.        ]]), 'heading': 177.993598867691, 'carrying': 3}]\n",
      "[[5.53135402e-05 1.08814333e-01 9.99999093e-01]\n",
      " [1.32993290e-04 3.96745503e-04 9.99999093e-01]\n",
      " [9.96351318e-01 1.00000000e+00 3.09700025e-05]]\n",
      "[[ 8.83143089  6.37975663]\n",
      " [ 8.63509106  2.04009   ]\n",
      " [ 7.94392412 11.07836561]]\n"
     ]
    }
   ],
   "source": [
    "for i in range(10):\n",
    "    nn_inputs = env.process_observation(obs)\n",
    "    print(obs)\n",
    "    # print(nn_inputs)\n",
    "    nn_outputs = np.array([net.activate(nn_input) for nn_input in nn_inputs])\n",
    "    print(nn_outputs)\n",
    "    actions = (2 * nn_outputs - 1) * env.max_wheel_velocity # Scale output sigmoid in range of wheel velocity\n",
    "    # env.render()\n",
    "    print(env.agents_location)\n",
    "    obs, reward, done, truncated, _ = env.step(actions)\n",
    "    fitness += reward\n",
    "    if done or truncated:\n",
    "        print(f\"Done: {done}, Truncated: {truncated}, Fitness: {fitness}\")\n",
    "        break"
   ]
  },
  {
   "cell_type": "code",
   "execution_count": 38,
   "metadata": {},
   "outputs": [
    {
     "data": {
      "image/png": "[encoded data removed]",
      "text/plain": [
       "<PIL.Image.Image image mode=RGB size=400x400>"
      ]
     },
     "execution_count": 38,
     "metadata": {},
     "output_type": "execute_result"
    }
   ],
   "source": [
    "env.render(False)"
   ]
  }
 ],
 "metadata": {
  "kernelspec": {
   "display_name": "Python 3",
   "language": "python",
   "name": "python3"
  },
  "language_info": {
   "codemirror_mode": {
    "name": "ipython",
    "version": 3
   },
   "file_extension": ".py",
   "mimetype": "text/x-python",
   "name": "python",
   "nbconvert_exporter": "python",
   "pygments_lexer": "ipython3",
   "version": "3.10.7"
  }
 },
 "nbformat": 4,
 "nbformat_minor": 2
}
