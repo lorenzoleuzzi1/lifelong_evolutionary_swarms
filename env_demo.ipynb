{
 "cells": [
  {
   "cell_type": "markdown",
   "metadata": {},
   "source": [
    "# Environment Demo"
   ]
  },
  {
   "cell_type": "code",
   "execution_count": 2,
   "metadata": {},
   "outputs": [
    {
     "data": {
      "text/plain": [
       "(<module 'utils' from '/Users/lorenzoleuzzi/Documents/GitHub/lifelong_evolutionary_swarms/utils.py'>,\n",
       " <module 'environment' from '/Users/lorenzoleuzzi/Documents/GitHub/lifelong_evolutionary_swarms/environment.py'>)"
      ]
     },
     "execution_count": 2,
     "metadata": {},
     "output_type": "execute_result"
    }
   ],
   "source": [
    "import sys\n",
    "import os\n",
    "import importlib\n",
    "import numpy as np\n",
    "import time\n",
    "import pickle\n",
    "import json\n",
    "\n",
    "# Add the parent directory to the Python path\n",
    "sys.path.append(os.path.abspath('../'))\n",
    "import environment \n",
    "import utils\n",
    "importlib.reload(utils), importlib.reload(environment)"
   ]
  },
  {
   "cell_type": "markdown",
   "metadata": {},
   "source": [
    "## Robot features\n",
    "\n",
    "- 25 cm diameter\n",
    "- compass\n",
    "- 360 vision sensor and object reconition in range 100cm\n",
    "- comunication between others robots\n",
    "- ability to pick up stuff (in they're in the same position of the object)\n",
    "- holonomic motion (every directions)\n",
    "- maximum velocity: 200 cm/s\n",
    "- maximum acceleration: 400 cm/s²\n",
    "- maximum distance covered in a single move: 1/2 acceleration * tstep, 8cm with tstep = 200 ms "
   ]
  },
  {
   "cell_type": "markdown",
   "metadata": {},
   "source": [
    "Simulation measurements: everything is divide by the agent size which is reperesented as point in the arena"
   ]
  },
  {
   "cell_type": "code",
   "execution_count": 2,
   "metadata": {},
   "outputs": [
    {
     "data": {
      "text/plain": [
       "'1.0, 4.0, 0.1, 2.0'"
      ]
     },
     "execution_count": 2,
     "metadata": {},
     "output_type": "execute_result"
    }
   ],
   "source": [
    "f\"{environment.SIMULATION_ROBOT_SIZE}, {environment.SIMULATION_SENSOR_RANGE}, {environment.TIME_STEP}, {environment.SIMULATION_MAX_WHEEL_VELOCITY}\""
   ]
  },
  {
   "cell_type": "markdown",
   "metadata": {},
   "source": [
    "We are in a continuous 2D environment (no physics), a robot possesses the capability to navigate in any direction, covering any distance up to a defined maximum per step. Additionally, the robot can pick up and deposit an object objects when is underneath or when it reached an edge, resepctively."
   ]
  },
  {
   "cell_type": "markdown",
   "metadata": {},
   "source": [
    "The robots are equipped with sensory equipment capable of identifying nearby entities. A \"neighbor\" is characterized by a tuple comprising the type of object, the distance to it, and its relative direction. Accordingly, each robot maintains a list of such tuples for a predefined fixed number of neighboring entities."
   ]
  },
  {
   "cell_type": "markdown",
   "metadata": {},
   "source": [
    "## Arena\n",
    "\n",
    "5m x 5m with robots and colored objects "
   ]
  },
  {
   "cell_type": "code",
   "execution_count": 3,
   "metadata": {},
   "outputs": [
    {
     "data": {
      "text/plain": [
       "20.0"
      ]
     },
     "execution_count": 3,
     "metadata": {},
     "output_type": "execute_result"
    }
   ],
   "source": [
    "environment.SIMULATION_ARENA_SIZE "
   ]
  },
  {
   "cell_type": "markdown",
   "metadata": {},
   "source": [
    "## Target\n",
    "A target color. The robots must pick up the objects of that color and deposit them in right position. The deposit area is in an edge of the arena (top edge)."
   ]
  },
  {
   "cell_type": "code",
   "execution_count": 4,
   "metadata": {},
   "outputs": [
    {
     "data": {
      "text/plain": [
       "3"
      ]
     },
     "execution_count": 4,
     "metadata": {},
     "output_type": "execute_result"
    }
   ],
   "source": [
    "environment.RED"
   ]
  },
  {
   "cell_type": "code",
   "execution_count": 5,
   "metadata": {},
   "outputs": [
    {
     "data": {
      "text/plain": [
       "(1, 2)"
      ]
     },
     "execution_count": 5,
     "metadata": {},
     "output_type": "execute_result"
    }
   ],
   "source": [
    "environment.REWARD_PICK, environment.REWARD_DROP"
   ]
  },
  {
   "cell_type": "markdown",
   "metadata": {},
   "source": [
    "## Environment initialization"
   ]
  },
  {
   "cell_type": "code",
   "execution_count": 23,
   "metadata": {},
   "outputs": [
    {
     "data": {
      "image/png": "[encoded data removed]",
      "text/plain": [
       "<PIL.Image.Image image mode=RGB size=420x420>"
      ]
     },
     "execution_count": 23,
     "metadata": {},
     "output_type": "execute_result"
    }
   ],
   "source": [
    "env = environment.SwarmForagingEnv(target_color=environment.RED, \n",
    "                                   n_agents=3, \n",
    "                                   n_blocks=20,\n",
    "                                   rate_target_block=0.5, \n",
    "                                   blocks_in_line=False, \n",
    "                                   colors=[environment.RED, environment.BLUE],)\n",
    "initial_obs, _ = env.reset() \n",
    "env.render(False)"
   ]
  },
  {
   "cell_type": "code",
   "execution_count": 22,
   "metadata": {},
   "outputs": [
    {
     "data": {
      "image/png": "[encoded data removed]",
      "text/plain": [
       "<PIL.Image.Image image mode=RGB size=420x420>"
      ]
     },
     "execution_count": 22,
     "metadata": {},
     "output_type": "execute_result"
    }
   ],
   "source": [
    "env.agents_location[0] = [10.5,13]\n",
    "env.render(False)"
   ]
  },
  {
   "cell_type": "code",
   "execution_count": 24,
   "metadata": {},
   "outputs": [
    {
     "data": {
      "text/plain": [
       "5"
      ]
     },
     "execution_count": 24,
     "metadata": {},
     "output_type": "execute_result"
    }
   ],
   "source": [
    "env.n_types"
   ]
  },
  {
   "cell_type": "code",
   "execution_count": 25,
   "metadata": {},
   "outputs": [
    {
     "data": {
      "text/plain": [
       "array([[ 0.        ,  1.        ,  0.        ,  0.        ,  0.        ,\n",
       "         0.        ,  0.        ,  0.        ,  0.        ,  1.        ,\n",
       "         1.        ,  0.        ,  0.        ,  0.        ,  0.        ,\n",
       "         0.60025895,  0.93171667,  0.        ,  0.        ,  0.25973115,\n",
       "         0.        ,  1.        , -0.96568097,  0.        , -0.16212312,\n",
       "        -0.98677054,  1.        ,  0.        ,  0.        ,  1.        ,\n",
       "         0.        ],\n",
       "       [ 0.        ,  1.        ,  0.        ,  0.        ,  0.        ,\n",
       "         1.        ,  0.        ,  0.        ,  0.        ,  0.        ,\n",
       "         1.        ,  0.        ,  0.        ,  0.        ,  0.        ,\n",
       "         0.37347259,  0.        ,  0.        ,  0.        ,  0.        ,\n",
       "         0.        ,  1.        ,  0.        ,  0.        , -0.09107603,\n",
       "        -0.99584394,  1.        ,  0.        ,  0.        ,  1.        ,\n",
       "         0.        ],\n",
       "       [ 0.        ,  1.        ,  0.        ,  0.        ,  0.        ,\n",
       "         0.        ,  0.        ,  0.        ,  1.        ,  0.        ,\n",
       "         1.        ,  0.        ,  0.        ,  0.        ,  0.        ,\n",
       "         0.63393276,  0.86614054,  0.        ,  0.        , -0.01300915,\n",
       "         0.        ,  1.        , -0.99991538,  0.        , -0.10701768,\n",
       "        -0.99425712,  1.        ,  0.        ,  0.        ,  1.        ,\n",
       "         0.        ]])"
      ]
     },
     "execution_count": 25,
     "metadata": {},
     "output_type": "execute_result"
    }
   ],
   "source": [
    "env.process_observation(initial_obs, one_hot=True)"
   ]
  },
  {
   "cell_type": "code",
   "execution_count": 26,
   "metadata": {},
   "outputs": [
    {
     "data": {
      "text/plain": [
       "([{'neighbors': array([[  1.        ,   2.40103578,   0.        ],\n",
       "          [  4.        ,   3.72686668, 164.94588962],\n",
       "          [  0.        ,   0.        ,   0.        ]]),\n",
       "   'heading': 189.33015106402848,\n",
       "   'carrying': -1},\n",
       "  {'neighbors': array([[1.        , 1.49389036, 0.        ],\n",
       "          [0.        , 0.        , 0.        ],\n",
       "          [0.        , 0.        , 0.        ]]),\n",
       "   'heading': 185.22551343009383,\n",
       "   'carrying': -1},\n",
       "  {'neighbors': array([[  1.        ,   2.53573103,   0.        ],\n",
       "          [  3.        ,   3.46456215, 180.74539056],\n",
       "          [  0.        ,   0.        ,   0.        ]]),\n",
       "   'heading': 186.1434262918298,\n",
       "   'carrying': -1}],\n",
       " array([[ 0.        ,  1.        ,  0.        ,  0.        ,  0.        ,\n",
       "          0.        ,  0.        ,  0.        ,  0.        ,  1.        ,\n",
       "          1.        ,  0.        ,  0.        ,  0.        ,  0.        ,\n",
       "          0.60025895,  0.93171667,  0.        ,  0.        ,  0.25973115,\n",
       "          0.        ,  1.        , -0.96568097,  0.        , -0.16212312,\n",
       "         -0.98677054,  1.        ,  0.        ,  0.        ,  1.        ,\n",
       "          0.        ],\n",
       "        [ 0.        ,  1.        ,  0.        ,  0.        ,  0.        ,\n",
       "          1.        ,  0.        ,  0.        ,  0.        ,  0.        ,\n",
       "          1.        ,  0.        ,  0.        ,  0.        ,  0.        ,\n",
       "          0.37347259,  0.        ,  0.        ,  0.        ,  0.        ,\n",
       "          0.        ,  1.        ,  0.        ,  0.        , -0.09107603,\n",
       "         -0.99584394,  1.        ,  0.        ,  0.        ,  1.        ,\n",
       "          0.        ],\n",
       "        [ 0.        ,  1.        ,  0.        ,  0.        ,  0.        ,\n",
       "          0.        ,  0.        ,  0.        ,  1.        ,  0.        ,\n",
       "          1.        ,  0.        ,  0.        ,  0.        ,  0.        ,\n",
       "          0.63393276,  0.86614054,  0.        ,  0.        , -0.01300915,\n",
       "          0.        ,  1.        , -0.99991538,  0.        , -0.10701768,\n",
       "         -0.99425712,  1.        ,  0.        ,  0.        ,  1.        ,\n",
       "          0.        ]]))"
      ]
     },
     "execution_count": 26,
     "metadata": {},
     "output_type": "execute_result"
    }
   ],
   "source": [
    "initial_obs, env.process_observation(initial_obs)"
   ]
  },
  {
   "cell_type": "code",
   "execution_count": 15,
   "metadata": {},
   "outputs": [
    {
     "data": {
      "text/plain": [
       "(array([ 1.48870411, -0.74078643, -1.34366745]),\n",
       " array([-0.40716756,  0.09974027, -1.82387127]),\n",
       " array([ 1.24791367,  1.69690379, -0.16896223]))"
      ]
     },
     "execution_count": 15,
     "metadata": {},
     "output_type": "execute_result"
    }
   ],
   "source": [
    "env.action_space.sample()"
   ]
  },
  {
   "cell_type": "code",
   "execution_count": 32,
   "metadata": {},
   "outputs": [
    {
     "name": "stdout",
     "output_type": "stream",
     "text": [
      ". . . . . . . . . . . . . . . . . . . .\n",
      ". . . . . . . . . . . . . . . . . . . .\n",
      ". . . . . 0 . . . . 1 . . . . 2 . . . .\n",
      ". . . . . . . . . . . . . . . . . . . .\n",
      ". . . . . . . . . . . . . . . . . . . .\n",
      ". . . . . . . . . . . . . . . . . . . .\n",
      ". . . . . . . . . . . . . . . . . . . .\n",
      ". . . . \u001b[91mO\u001b[0m . . . . . . . \u001b[94mO\u001b[0m . . . . . . .\n",
      ". . . . . . . \u001b[94mO\u001b[0m . . . . . . . \u001b[92mO\u001b[0m . . . .\n",
      ". . . . . . . . . . . . . . . . . . . .\n",
      ". . . . . . . . . . . . . . . . . . . .\n",
      ". . \u001b[91mO\u001b[0m . . . . . . . . . . . . . . . . .\n",
      ". . . . . . . . . . . . . . . . . . . .\n",
      ". . . . \u001b[93mO\u001b[0m . . . . . . . . \u001b[95mO\u001b[0m . . . . . .\n",
      ". . . . . . . . . . . . . . . . . . . .\n",
      ". . . . . . . . . \u001b[91mO\u001b[0m . . . . . . . . . .\n",
      ". . . . . . . . . . . . . . . . . . . .\n",
      ". . . . . . . . . . . . . . . . \u001b[92mO\u001b[0m . . .\n",
      ". . . . . . . . \u001b[93mO\u001b[0m . . . . . . . . . . .\n",
      ". . . . . . . . . . . . . . . . . . . .\n"
     ]
    },
    {
     "data": {
      "image/png": "[encoded data removed]",
      "text/plain": [
       "<PIL.Image.Image image mode=RGB size=400x400>"
      ]
     },
     "execution_count": 32,
     "metadata": {},
     "output_type": "execute_result"
    }
   ],
   "source": [
    "initial_state = {}\n",
    "initial_state['blocks'] = np.array([\n",
    "    [10.6, 2.4],\n",
    "    [8.1, 14.9],  \n",
    "    [14.6, 9.0],  \n",
    "    [6.6, 11.6],  \n",
    "    [8.1, 6.9],  \n",
    "    [16.9, 16.2], \n",
    "    [6.9, 4.5],\n",
    "    [13.2, 4.2],\n",
    "    [13.2, 12.8],\n",
    "    [17.5, 7.5]  \n",
    "])\n",
    "initial_state['colors'] = np.array([3, 5, 3, 4, 4, 5, 3, 6, 7, 6])\n",
    "initial_state['agents'] =  np.array([\n",
    "    [1.5, 5.0],  # Agent 0\n",
    "    [1.5, 10.0],  # Agent 1\n",
    "    [1.5, 15.0]   # Agent 2\n",
    "])\n",
    "initial_state['headings'] = np.array([180, 180, 180])\n",
    "env.reset(initial_state = initial_state)\n",
    "env.render()"
   ]
  },
  {
   "cell_type": "markdown",
   "metadata": {},
   "source": [
    "## Testing"
   ]
  },
  {
   "cell_type": "code",
   "execution_count": 83,
   "metadata": {},
   "outputs": [],
   "source": [
    "cumulative_reward = 0"
   ]
  },
  {
   "cell_type": "code",
   "execution_count": 17,
   "metadata": {},
   "outputs": [
    {
     "data": {
      "text/plain": [
       "[{'neighbors': array([[  3.        ,   2.21155181, 255.89535391],\n",
       "         [  3.        ,   2.4103559 , 129.67786323],\n",
       "         [  4.        ,   2.60538738,  19.16033543]]),\n",
       "  'heading': 177.7071938612088,\n",
       "  'carrying': -1},\n",
       " {'neighbors': array([[1.       , 2.5935753, 0.       ],\n",
       "         [0.       , 0.       , 0.       ],\n",
       "         [0.       , 0.       , 0.       ]]),\n",
       "  'heading': 172.15061242794377,\n",
       "  'carrying': -1},\n",
       " {'neighbors': array([[  1.        ,   1.29056828,   0.        ],\n",
       "         [  1.        ,   3.42703967, 270.        ],\n",
       "         [  0.        ,   0.        ,   0.        ]]),\n",
       "  'heading': 176.649275175025,\n",
       "  'carrying': -1}]"
      ]
     },
     "execution_count": 17,
     "metadata": {},
     "output_type": "execute_result"
    }
   ],
   "source": [
    "action = env.action_space.sample()\n",
    "next_state, reward, done, _, _ = env.step(action)\n",
    "next_state"
   ]
  },
  {
   "cell_type": "code",
   "execution_count": 84,
   "metadata": {},
   "outputs": [
    {
     "data": {
      "image/png": "[encoded data removed]",
      "text/plain": [
       "<PIL.Image.Image image mode=RGB size=420x420>"
      ]
     },
     "execution_count": 84,
     "metadata": {},
     "output_type": "execute_result"
    }
   ],
   "source": [
    "action = env.action_space.sample()\n",
    "action = [environment.MOVE_RIGHT * np.array([5]), environment.MOVE_RIGHT * np.array([5]), environment.MOVE_RIGHT* np.array([5])]\n",
    "next_state, reward, done, _, _ = env.step(action)\n",
    "env.render(False)"
   ]
  },
  {
   "cell_type": "code",
   "execution_count": 85,
   "metadata": {},
   "outputs": [
    {
     "name": "stdout",
     "output_type": "stream",
     "text": [
      "(3, 3) (3, 3) (3, 3) (3, 3) (3,) (3,) (3,) (3,)\n"
     ]
    },
    {
     "data": {
      "text/plain": [
       "([{'neighbors': array([[  3.        ,   3.5       ,  89.99999996],\n",
       "          [  5.        ,   3.90512484, 140.19442888],\n",
       "          [  0.        ,   0.        ,   0.        ]]),\n",
       "   'heading': 184.66872004894483,\n",
       "   'carrying': -1},\n",
       "  {'neighbors': array([[1.        , 1.76116996, 0.        ],\n",
       "          [0.        , 0.        , 0.        ],\n",
       "          [0.        , 0.        , 0.        ]]),\n",
       "   'heading': 181.34507075585424,\n",
       "   'carrying': -1},\n",
       "  {'neighbors': array([[  1.        ,   1.82430003,   0.        ],\n",
       "          [  1.        ,   2.92575363, 270.        ],\n",
       "          [  0.        ,   0.        ,   0.        ]]),\n",
       "   'heading': 179.04902338968967,\n",
       "   'carrying': -1}],\n",
       " array([[ 3.00000000e+00,  5.00000000e+00,  0.00000000e+00,\n",
       "          8.75000000e-01,  9.76281209e-01,  0.00000000e+00,\n",
       "          1.00000000e+00,  6.40184400e-01,  0.00000000e+00,\n",
       "          7.14285803e-10, -7.68221279e-01,  0.00000000e+00,\n",
       "         -8.13943941e-02, -9.96681972e-01,  0.00000000e+00,\n",
       "          5.00000000e+00],\n",
       "        [ 1.00000000e+00,  0.00000000e+00,  0.00000000e+00,\n",
       "          4.40292490e-01,  0.00000000e+00,  0.00000000e+00,\n",
       "          0.00000000e+00,  0.00000000e+00,  0.00000000e+00,\n",
       "          1.00000000e+00,  0.00000000e+00,  0.00000000e+00,\n",
       "         -2.34737571e-02, -9.99724453e-01,  0.00000000e+00,\n",
       "          5.00000000e+00],\n",
       "        [ 1.00000000e+00,  1.00000000e+00,  0.00000000e+00,\n",
       "          4.56075008e-01,  7.31438408e-01,  0.00000000e+00,\n",
       "          0.00000000e+00, -1.00000000e+00,  0.00000000e+00,\n",
       "          1.00000000e+00, -1.83697020e-16,  0.00000000e+00,\n",
       "          1.65969109e-02, -9.99862262e-01,  0.00000000e+00,\n",
       "          5.00000000e+00]]))"
      ]
     },
     "execution_count": 85,
     "metadata": {},
     "output_type": "execute_result"
    }
   ],
   "source": [
    "next_state, env.process_observation(next_state)"
   ]
  },
  {
   "cell_type": "markdown",
   "metadata": {},
   "source": [
    "## Profiling"
   ]
  },
  {
   "cell_type": "markdown",
   "metadata": {},
   "source": [
    "about 2000 steps per second"
   ]
  },
  {
   "cell_type": "code",
   "execution_count": 19,
   "metadata": {},
   "outputs": [
    {
     "data": {
      "text/plain": [
       "1.1703405380249023"
      ]
     },
     "execution_count": 19,
     "metadata": {},
     "output_type": "execute_result"
    }
   ],
   "source": [
    "def profile():\n",
    "    total_time = 0\n",
    "    for i in range(2000):\n",
    "        action = env.action_space.sample()\n",
    "        start = time.time()\n",
    "        next_state, reward, done, _, _ = env.step(action)\n",
    "        end = time.time()\n",
    "        total_time += end - start\n",
    "    return total_time\n",
    "profile()"
   ]
  },
  {
   "cell_type": "code",
   "execution_count": 20,
   "metadata": {},
   "outputs": [
    {
     "name": "stdout",
     "output_type": "stream",
     "text": [
      "         508928 function calls (498928 primitive calls) in 3.044 seconds\n",
      "\n",
      "   Ordered by: cumulative time\n",
      "\n",
      "   ncalls  tottime  percall  cumtime  percall filename:lineno(function)\n",
      "        1    0.000    0.000    3.044    3.044 {built-in method builtins.exec}\n",
      "        1    0.000    0.000    3.044    3.044 <string>:1(<module>)\n",
      "        1    0.031    0.031    3.044    3.044 1416959497.py:1(profile)\n",
      "     2000    0.263    0.000    1.856    0.001 environment.py:410(step)\n",
      "     2000    0.016    0.000    1.148    0.001 tuple.py:87(sample)\n",
      "     8000    0.024    0.000    1.132    0.000 tuple.py:112(<genexpr>)\n",
      "     6000    0.387    0.000    1.108    0.000 box.py:184(sample)\n",
      "51527/41527    0.210    0.000    0.985    0.000 {built-in method numpy.core._multiarray_umath.implement_array_function}\n",
      "     2000    0.460    0.000    0.560    0.000 environment.py:320(_detect)\n",
      "     6000    0.232    0.000    0.559    0.000 {method 'uniform' of 'numpy.random._generator.Generator' objects}\n",
      "     4000    0.009    0.000    0.323    0.000 <__array_function__ internals>:177(clip)\n",
      "     9527    0.024    0.000    0.319    0.000 fromnumeric.py:51(_wrapfunc)\n",
      "     4000    0.014    0.000    0.299    0.000 fromnumeric.py:2085(clip)\n",
      "     4000    0.010    0.000    0.269    0.000 {method 'clip' of 'numpy.ndarray' objects}\n",
      "     4000    0.029    0.000    0.260    0.000 _methods.py:126(_clip)\n",
      "     2000    0.068    0.000    0.226    0.000 environment.py:311(_update_distance_matrix)\n",
      "    12000    0.065    0.000    0.199    0.000 fromnumeric.py:69(_wrapreduction)\n",
      "     2000    0.198    0.000    0.198    0.000 environment.py:296(_update_directions_matrix)\n",
      "    16000    0.168    0.000    0.168    0.000 {method 'reduce' of 'numpy.ufunc' objects}\n",
      "     8000    0.084    0.000    0.166    0.000 _methods.py:92(_clip_dep_is_scalar_nan)\n",
      "     6000    0.014    0.000    0.164    0.000 <__array_function__ internals>:177(any)\n",
      "     6000    0.016    0.000    0.162    0.000 <__array_function__ internals>:177(all)\n",
      "     4000    0.011    0.000    0.158    0.000 <__array_function__ internals>:177(norm)\n",
      "     4000    0.068    0.000    0.135    0.000 linalg.py:2357(norm)\n",
      "     6000    0.020    0.000    0.130    0.000 fromnumeric.py:2406(all)\n",
      "     2000    0.006    0.000    0.120    0.000 <__array_function__ internals>:177(stack)\n",
      "     6000    0.016    0.000    0.104    0.000 fromnumeric.py:2307(any)\n",
      "     2000    0.034    0.000    0.098    0.000 shape_base.py:357(stack)\n",
      "     8000    0.017    0.000    0.082    0.000 <__array_function__ internals>:177(ndim)\n",
      "     5527    0.011    0.000    0.074    0.000 <__array_function__ internals>:177(argmin)\n",
      "     6000    0.069    0.000    0.069    0.000 {method 'normal' of 'numpy.random._generator.Generator' objects}\n",
      "    12000    0.024    0.000    0.065    0.000 <__array_function__ internals>:177(where)\n",
      "     5527    0.019    0.000    0.052    0.000 fromnumeric.py:1223(argmin)\n",
      "     8000    0.037    0.000    0.052    0.000 fromnumeric.py:3121(ndim)\n",
      "     4000    0.047    0.000    0.047    0.000 _methods.py:107(_clip_dep_invoke_with_casting)\n",
      "    12000    0.043    0.000    0.043    0.000 {method 'exponential' of 'numpy.random._generator.Generator' objects}\n",
      "     2000    0.007    0.000    0.043    0.000 <__array_function__ internals>:177(concatenate)\n",
      "     2000    0.005    0.000    0.042    0.000 <__array_function__ internals>:177(dot)\n",
      "     2000    0.021    0.000    0.023    0.000 environment.py:366(_get_obs)\n",
      "     6000    0.018    0.000    0.022    0.000 {built-in method builtins.sorted}\n",
      "     5527    0.019    0.000    0.019    0.000 {method 'argmin' of 'numpy.ndarray' objects}\n",
      "     2000    0.019    0.000    0.019    0.000 {built-in method builtins.sum}\n",
      "     8000    0.014    0.000    0.018    0.000 _methods.py:102(_clip_dep_is_byte_swapped)\n",
      "    12000    0.017    0.000    0.017    0.000 {built-in method numpy.asarray}\n",
      "     6000    0.016    0.000    0.016    0.000 {method 'astype' of 'numpy.ndarray' objects}\n",
      "    24000    0.016    0.000    0.016    0.000 space.py:66(np_random)\n",
      "    12000    0.015    0.000    0.015    0.000 fromnumeric.py:70(<dictcomp>)\n",
      "     6000    0.013    0.000    0.013    0.000 {built-in method numpy.empty}\n",
      "    26000    0.010    0.000    0.010    0.000 {built-in method builtins.len}\n",
      "     4000    0.009    0.000    0.009    0.000 {built-in method time.time}\n",
      "     2000    0.003    0.000    0.008    0.000 shape_base.py:348(_stack_dispatcher)\n",
      "    24002    0.008    0.000    0.008    0.000 {method 'append' of 'list' objects}\n",
      "     9527    0.007    0.000    0.007    0.000 {built-in method builtins.getattr}\n",
      "     2000    0.005    0.000    0.007    0.000 shape_base.py:420(<listcomp>)\n",
      "    12000    0.007    0.000    0.007    0.000 {built-in method builtins.isinstance}\n",
      "    12000    0.006    0.000    0.006    0.000 multiarray.py:341(where)\n",
      "     2000    0.006    0.000    0.006    0.000 shape_base.py:432(<listcomp>)\n",
      "     2000    0.006    0.000    0.006    0.000 shape_base.py:424(<setcomp>)\n",
      "     6000    0.006    0.000    0.006    0.000 box.py:149(shape)\n",
      "    12000    0.005    0.000    0.005    0.000 {method 'items' of 'dict' objects}\n",
      "     2000    0.003    0.000    0.005    0.000 shape_base.py:207(_arrays_for_stack_dispatcher)\n",
      "     2000    0.005    0.000    0.005    0.000 {built-in method numpy.zeros}\n",
      "     8233    0.004    0.000    0.004    0.000 environment.py:356(<lambda>)\n",
      "     4000    0.004    0.000    0.004    0.000 {method 'conj' of 'numpy.ndarray' objects}\n",
      "     6000    0.004    0.000    0.004    0.000 fromnumeric.py:2401(_all_dispatcher)\n",
      "     8000    0.003    0.000    0.003    0.000 fromnumeric.py:3117(_ndim_dispatcher)\n",
      "     6000    0.003    0.000    0.003    0.000 fromnumeric.py:2302(_any_dispatcher)\n",
      "     5527    0.003    0.000    0.003    0.000 fromnumeric.py:1219(_argmin_dispatcher)\n",
      "     4000    0.003    0.000    0.003    0.000 {built-in method builtins.issubclass}\n",
      "     2000    0.003    0.000    0.003    0.000 {built-in method builtins.hasattr}\n",
      "     2000    0.002    0.000    0.002    0.000 environment.py:363(_get_info)\n",
      "     4000    0.002    0.000    0.002    0.000 linalg.py:2353(_norm_dispatcher)\n",
      "     2000    0.002    0.000    0.002    0.000 {built-in method numpy.core._multiarray_umath.normalize_axis_index}\n",
      "     4000    0.002    0.000    0.002    0.000 fromnumeric.py:2081(_clip_dispatcher)\n",
      "     4000    0.002    0.000    0.002    0.000 {built-in method numpy.asanyarray}\n",
      "     2000    0.002    0.000    0.002    0.000 multiarray.py:148(concatenate)\n",
      "     2000    0.001    0.000    0.001    0.000 multiarray.py:736(dot)\n",
      "        1    0.000    0.000    0.000    0.000 {method 'disable' of '_lsprof.Profiler' objects}\n",
      "\n",
      "\n"
     ]
    }
   ],
   "source": [
    "import cProfile\n",
    "cProfile.run('profile()', sort='cumtime')"
   ]
  },
  {
   "cell_type": "markdown",
   "metadata": {},
   "source": [
    "## Load Controller "
   ]
  },
  {
   "cell_type": "code",
   "execution_count": 9,
   "metadata": {},
   "outputs": [],
   "source": [
    "import pickle\n",
    "import os\n",
    "import neat\n",
    "# TODO we might dont need this see notebook load"
   ]
  },
  {
   "cell_type": "code",
   "execution_count": 75,
   "metadata": {},
   "outputs": [
    {
     "name": "stdout",
     "output_type": "stream",
     "text": [
      ". . . . . . . . . . . . . . . . . . . .\n",
      ". . . . . . . . . . . . . . . . . . . .\n",
      ". . . . . 1 . . . . 0 . . . . 2 . . . .\n",
      ". . . . . . . . . . . . . . . . . . . .\n",
      ". . . . . . . . . . . . . . . . . . . .\n",
      ". . . . . . . . . . . . . . . . . . . .\n",
      ". . . . . . . . . . . . . . . . . . . .\n",
      ". . . . . . . . . . . . . . . . . . . .\n",
      ". . . . . . . . . . . . . . . . . . . .\n",
      ". . . . . . . . . . . . . . . . . . . .\n",
      ". . \u001b[94mO\u001b[0m . . . . . . . . . . . . . . . . .\n",
      ". . . . . . . . . \u001b[92mO\u001b[0m . . . . . . \u001b[91mO\u001b[0m . . .\n",
      ". . . . . . . . . . . . . . . . . . . .\n",
      ". . . . . \u001b[91mO\u001b[0m . . . . . . . . . . . . . .\n",
      ". . . . . . . . . . . . . . . . . . . .\n",
      ". . . . . . . . . . . . \u001b[91mO\u001b[0m . . . . . . .\n",
      ". . . . . . . \u001b[92mO\u001b[0m . . . . . . . . \u001b[94mO\u001b[0m . . .\n",
      ". . . . . . . . . . . . . . . . . . . .\n",
      ". . . . . . . . . . . . . . . . . . . .\n",
      ". . . . . . . . . . . . . . . . . . . .\n"
     ]
    },
    {
     "data": {
      "image/png": "[encoded data removed]",
      "text/plain": [
       "<PIL.Image.Image image mode=RGB size=400x400>"
      ]
     },
     "execution_count": 75,
     "metadata": {},
     "output_type": "execute_result"
    }
   ],
   "source": [
    "size = 16\n",
    "sensor_range = 3.5 # should be 4 but 3 to be sure\n",
    "sensitivity = 1.4\n",
    "max_wheel_speed = 0.4\n",
    "\n",
    "initial_setting = {}\n",
    "initial_setting['agents'] =  np.array([\n",
    "    [1.5, 8.0], # Agent 0\n",
    "    [1.5, 4.0], # Agent 1\n",
    "    [1.5, 12.0] # Agent 2\n",
    "    ])[:3]\n",
    "initial_setting['headings'] = np.array([176 , 181, 178])[:3]\n",
    "initial_setting['blocks'] = np.array([\n",
    "        [10.5, 4.2], # Carrier 100\n",
    "        [12.0, 10.0], # Carrier 101\n",
    "        [9.0, 13.0], # Carrier 102\n",
    "        [8.0, 2.0],  # Carrier 103\n",
    "        [12.4, 12.8], # Carrier 104\n",
    "        [13.0, 5.5], # Carrier 105\n",
    "        [8.5, 7.0] # Carrier 106\n",
    "    ])\n",
    "initial_setting['colors'] = np.array([3, 3, 3, 4, 4, 5, 5])\n",
    "n_colors = len(np.unique(initial_setting['colors']))\n",
    "\n",
    "env = environment.SwarmForagingEnv(n_agents = len(initial_setting['agents']), \n",
    "                        n_blocks = len(initial_setting['blocks']), \n",
    "                        target_color = 3, # RED\n",
    "                        duration=1000, size = size, max_retrieves=3,\n",
    "                        sensor_range = sensor_range,\n",
    "                        sensitivity = sensitivity,\n",
    "                        max_wheel_velocity = max_wheel_speed,\n",
    "                        n_colors = n_colors,\n",
    "                        repositioning=False,\n",
    "                        efficency_reward=True,\n",
    "                        see_other_agents=False)\n",
    "                           \n",
    "env.reset(initial_state = initial_setting)\n",
    "env.render()\n",
    "# env = environment.SwarmForagingEnv(target_color= environment.BLUE, n_agents = 3, n_blocks = 6, distribution=\"uniform\", size = 12)"
   ]
  },
  {
   "cell_type": "code",
   "execution_count": 7,
   "metadata": {},
   "outputs": [],
   "source": [
    "import neat"
   ]
  },
  {
   "cell_type": "code",
   "execution_count": 19,
   "metadata": {},
   "outputs": [],
   "source": [
    "# Load a controller\n",
    "path = f\"/Users/lorenzoleuzzi/Library/CloudStorage/OneDrive-UniversityofPisa/lifelong_evolutionary_swarms/results_gecco4/reg_gd_snz_best/diff_lambdas/seed13/static3\"\n",
    "with open(f\"{path}/best_genome.pkl\", \"rb\") as f:\n",
    "    controller = pickle.load(f)\n",
    "# Set configuration file\n",
    "with open(f\"{path}/neat_config.pkl\", \"rb\") as f:\n",
    "    config_neat = pickle.load(f)\n",
    "with open(f\"{path}/info.json\", \"r\") as f:\n",
    "    info_exp = json.load(f)\n",
    "# load env\n",
    "# with open(f\"{path}/env.pkl\", \"rb\") as f:\n",
    "#     env = pickle.load(f)\n",
    "# DOES NOT WORK BECAUSE DIFFERENT VERSIONS OF PYTHON BETWEEN LOCAL AND REMOTE\n",
    "# load info json\n",
    "env = environment.SwarmForagingEnv(n_agents = info_exp[\"n_agents\"], n_blocks = info_exp[\"n_blocks\"], colors=[3, 4, 5, 6],\n",
    "                                   season_colors=[3,4],\n",
    "                           target_color=3, duration=info_exp[\"episode_duration\"])"
   ]
  },
  {
   "cell_type": "code",
   "execution_count": 20,
   "metadata": {},
   "outputs": [],
   "source": [
    "net = neat.nn.FeedForwardNetwork.create(controller, config_neat)"
   ]
  },
  {
   "cell_type": "code",
   "execution_count": 24,
   "metadata": {},
   "outputs": [],
   "source": [
    "env.change_season([5,6], 5)"
   ]
  },
  {
   "cell_type": "code",
   "execution_count": 25,
   "metadata": {},
   "outputs": [
    {
     "name": "stdout",
     "output_type": "stream",
     "text": [
      "Done: False, Truncated: True, Fitness: 26.0, correct: 10, wrong: 4\n",
      "Done: False, Truncated: True, Fitness: 48.0, correct: 18, wrong: 5\n",
      "Done: False, Truncated: True, Fitness: 28.0, correct: 11, wrong: 6\n",
      "Done: False, Truncated: True, Fitness: 47.0, correct: 18, wrong: 7\n",
      "Done: False, Truncated: True, Fitness: 5.0, correct: 2, wrong: 1\n",
      "Done: False, Truncated: True, Fitness: 41.0, correct: 16, wrong: 6\n",
      "Done: False, Truncated: True, Fitness: 35.0, correct: 13, wrong: 4\n",
      "Done: False, Truncated: True, Fitness: 26.0, correct: 12, wrong: 10\n",
      "Done: False, Truncated: True, Fitness: 14.0, correct: 6, wrong: 4\n",
      "Done: False, Truncated: True, Fitness: 20.0, correct: 9, wrong: 6\n",
      "Done: False, Truncated: True, Fitness: 37.0, correct: 14, wrong: 3\n",
      "Done: False, Truncated: True, Fitness: 6.0, correct: 4, wrong: 6\n",
      "Done: False, Truncated: True, Fitness: 20.0, correct: 7, wrong: 1\n",
      "Done: False, Truncated: True, Fitness: 18.0, correct: 7, wrong: 3\n",
      "Done: False, Truncated: True, Fitness: 43.0, correct: 15, wrong: 2\n",
      "Done: False, Truncated: True, Fitness: 23.0, correct: 9, wrong: 4\n",
      "Done: False, Truncated: True, Fitness: 23.0, correct: 9, wrong: 5\n",
      "Done: False, Truncated: True, Fitness: 11.0, correct: 6, wrong: 7\n",
      "Done: False, Truncated: True, Fitness: 52.0, correct: 19, wrong: 5\n",
      "Done: False, Truncated: True, Fitness: 19.0, correct: 7, wrong: 2\n",
      "Done: False, Truncated: True, Fitness: 35.0, correct: 14, wrong: 8\n",
      "Done: False, Truncated: True, Fitness: 20.0, correct: 7, wrong: 1\n",
      "Done: False, Truncated: True, Fitness: 49.0, correct: 18, wrong: 4\n",
      "Done: False, Truncated: True, Fitness: 36.0, correct: 13, wrong: 4\n",
      "Done: False, Truncated: True, Fitness: 28.0, correct: 12, wrong: 9\n",
      "Done: False, Truncated: True, Fitness: 30.0, correct: 12, wrong: 8\n",
      "Done: False, Truncated: True, Fitness: 38.0, correct: 14, wrong: 5\n",
      "Done: False, Truncated: True, Fitness: 46.0, correct: 17, wrong: 5\n",
      "Max retrieves reached\n",
      "Done: True, Truncated: False, Fitness: 55.0, correct: 20, wrong: 4\n",
      "Done: False, Truncated: True, Fitness: 18.0, correct: 7, wrong: 3\n",
      "Done: False, Truncated: True, Fitness: 24.0, correct: 10, wrong: 7\n",
      "Done: False, Truncated: True, Fitness: 20.0, correct: 8, wrong: 5\n",
      "Done: False, Truncated: True, Fitness: 35.0, correct: 14, wrong: 6\n",
      "Done: False, Truncated: True, Fitness: 21.0, correct: 8, wrong: 4\n",
      "Done: False, Truncated: True, Fitness: 21.0, correct: 8, wrong: 3\n",
      "Done: False, Truncated: True, Fitness: 47.0, correct: 16, wrong: 2\n",
      "Done: False, Truncated: True, Fitness: 34.0, correct: 13, wrong: 6\n",
      "Done: False, Truncated: True, Fitness: 25.0, correct: 9, wrong: 3\n",
      "Done: False, Truncated: True, Fitness: 44.0, correct: 15, wrong: 1\n",
      "Done: False, Truncated: True, Fitness: 32.0, correct: 12, wrong: 5\n",
      "Done: False, Truncated: True, Fitness: 16.0, correct: 7, wrong: 5\n",
      "Done: False, Truncated: True, Fitness: 46.0, correct: 17, wrong: 5\n",
      "Done: False, Truncated: True, Fitness: 39.0, correct: 14, wrong: 3\n",
      "Done: False, Truncated: True, Fitness: 25.0, correct: 10, wrong: 5\n",
      "Done: False, Truncated: True, Fitness: 16.0, correct: 7, wrong: 5\n",
      "Done: False, Truncated: True, Fitness: 19.0, correct: 8, wrong: 5\n",
      "Done: False, Truncated: True, Fitness: 25.0, correct: 10, wrong: 5\n",
      "Done: False, Truncated: True, Fitness: 20.0, correct: 10, wrong: 10\n",
      "Done: False, Truncated: True, Fitness: 28.0, correct: 10, wrong: 3\n",
      "Done: False, Truncated: True, Fitness: 33.0, correct: 12, wrong: 3\n",
      "Done: False, Truncated: True, Fitness: 44.0, correct: 16, wrong: 4\n",
      "Done: False, Truncated: True, Fitness: 39.0, correct: 15, wrong: 6\n",
      "Done: False, Truncated: True, Fitness: 17.0, correct: 9, wrong: 10\n",
      "Done: False, Truncated: True, Fitness: 17.0, correct: 7, wrong: 5\n",
      "Done: False, Truncated: True, Fitness: 28.0, correct: 10, wrong: 2\n",
      "Done: False, Truncated: True, Fitness: 23.0, correct: 9, wrong: 4\n",
      "Done: False, Truncated: True, Fitness: 13.0, correct: 6, wrong: 6\n",
      "Max retrieves reached\n",
      "Done: True, Truncated: False, Fitness: 57.0, correct: 20, wrong: 4\n",
      "Done: False, Truncated: True, Fitness: 40.0, correct: 15, wrong: 5\n",
      "Done: False, Truncated: True, Fitness: 8.0, correct: 7, wrong: 13\n",
      "Done: False, Truncated: True, Fitness: 21.0, correct: 9, wrong: 6\n",
      "Done: False, Truncated: True, Fitness: 22.0, correct: 8, wrong: 2\n",
      "Done: False, Truncated: True, Fitness: 27.0, correct: 11, wrong: 6\n",
      "Done: False, Truncated: True, Fitness: 36.0, correct: 15, wrong: 9\n",
      "Done: False, Truncated: True, Fitness: 20.0, correct: 8, wrong: 3\n",
      "Done: False, Truncated: True, Fitness: 47.0, correct: 16, wrong: 2\n",
      "Done: False, Truncated: True, Fitness: 34.0, correct: 13, wrong: 6\n",
      "Done: False, Truncated: True, Fitness: 33.0, correct: 13, wrong: 7\n",
      "Done: False, Truncated: True, Fitness: 29.0, correct: 10, wrong: 2\n",
      "Done: False, Truncated: True, Fitness: 21.0, correct: 8, wrong: 3\n",
      "Done: False, Truncated: True, Fitness: 44.0, correct: 17, wrong: 7\n",
      "Done: False, Truncated: True, Fitness: 25.0, correct: 11, wrong: 6\n",
      "Done: False, Truncated: True, Fitness: 43.0, correct: 17, wrong: 9\n",
      "Done: False, Truncated: True, Fitness: 25.0, correct: 10, wrong: 5\n",
      "Done: False, Truncated: True, Fitness: 44.0, correct: 17, wrong: 6\n",
      "Done: False, Truncated: True, Fitness: 30.0, correct: 11, wrong: 3\n",
      "Done: False, Truncated: True, Fitness: 18.0, correct: 8, wrong: 7\n",
      "Done: False, Truncated: True, Fitness: 20.0, correct: 8, wrong: 3\n",
      "Done: False, Truncated: True, Fitness: 32.0, correct: 12, wrong: 4\n",
      "Done: False, Truncated: True, Fitness: 27.0, correct: 12, wrong: 7\n",
      "Done: False, Truncated: True, Fitness: 16.0, correct: 7, wrong: 5\n",
      "Done: False, Truncated: True, Fitness: 17.0, correct: 8, wrong: 7\n",
      "Done: False, Truncated: True, Fitness: 38.0, correct: 14, wrong: 4\n",
      "Done: False, Truncated: True, Fitness: 40.0, correct: 14, wrong: 2\n",
      "Done: False, Truncated: True, Fitness: 25.0, correct: 9, wrong: 2\n",
      "Done: False, Truncated: True, Fitness: 5.0, correct: 5, wrong: 10\n",
      "Done: False, Truncated: True, Fitness: 30.0, correct: 12, wrong: 6\n",
      "Done: False, Truncated: True, Fitness: 20.0, correct: 9, wrong: 7\n",
      "Done: False, Truncated: True, Fitness: 36.0, correct: 13, wrong: 3\n",
      "Done: False, Truncated: True, Fitness: 33.0, correct: 11, wrong: 1\n",
      "Done: False, Truncated: True, Fitness: 32.0, correct: 11, wrong: 2\n",
      "Done: False, Truncated: True, Fitness: 22.0, correct: 9, wrong: 6\n",
      "Done: False, Truncated: True, Fitness: 23.0, correct: 9, wrong: 4\n",
      "Done: False, Truncated: True, Fitness: 25.0, correct: 10, wrong: 5\n",
      "Done: False, Truncated: True, Fitness: 35.0, correct: 15, wrong: 11\n",
      "Done: False, Truncated: True, Fitness: 14.0, correct: 7, wrong: 7\n",
      "Done: False, Truncated: True, Fitness: 25.0, correct: 10, wrong: 5\n",
      "Done: False, Truncated: True, Fitness: 22.0, correct: 8, wrong: 3\n",
      "Done: False, Truncated: True, Fitness: 21.0, correct: 8, wrong: 3\n",
      "Done: False, Truncated: True, Fitness: 25.0, correct: 10, wrong: 6\n",
      "28.55 11.11 4.94\n"
     ]
    }
   ],
   "source": [
    "fitnesses = []\n",
    "corrects = []\n",
    "wrongs = []\n",
    "\n",
    "for i in range(100):\n",
    "    \n",
    "    obs, _ = env.reset(seed=None)\n",
    "    fitness = 0\n",
    "    \n",
    "    while True:\n",
    "        \n",
    "        nn_inputs = env.process_observation(obs)\n",
    "        \n",
    "        nn_outputs = np.array([net.activate(nn_input) for nn_input in nn_inputs])\n",
    "        actions = (2 * nn_outputs - 1) * env.max_wheel_velocity # Scale output sigmoid in range of wheel velocity\n",
    "\n",
    "        obs, reward, done, truncated, info = env.step(actions)\n",
    "        fitness += reward\n",
    "        if done or truncated:\n",
    "            print(f\"Done: {done}, Truncated: {truncated}, Fitness: {fitness}, correct: {len(info['correct_retrieves'])}, wrong: {len(info['wrong_retrieves'])}\")\n",
    "            break\n",
    "\n",
    "        # if (env.current_step % 100) == 0:\n",
    "        #     env.render(True)\n",
    "    \n",
    "    fitnesses.append(fitness)\n",
    "    corrects.append(len(info['correct_retrieves']))\n",
    "    wrongs.append(len(info['wrong_retrieves']))\n",
    "\n",
    "print(np.mean(fitnesses), np.mean(corrects), np.mean(wrongs))"
   ]
  },
  {
   "cell_type": "code",
   "execution_count": 34,
   "metadata": {},
   "outputs": [
    {
     "data": {
      "image/png": "[encoded data removed]",
      "text/plain": [
       "<PIL.Image.Image image mode=RGB size=420x420>"
      ]
     },
     "execution_count": 34,
     "metadata": {},
     "output_type": "execute_result"
    }
   ],
   "source": [
    "env.render(False)"
   ]
  }
 ],
 "metadata": {
  "kernelspec": {
   "display_name": "Python 3",
   "language": "python",
   "name": "python3"
  },
  "language_info": {
   "codemirror_mode": {
    "name": "ipython",
    "version": 3
   },
   "file_extension": ".py",
   "mimetype": "text/x-python",
   "name": "python",
   "nbconvert_exporter": "python",
   "pygments_lexer": "ipython3",
   "version": "3.10.7"
  }
 },
 "nbformat": 4,
 "nbformat_minor": 2
}
