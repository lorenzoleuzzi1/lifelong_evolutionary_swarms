{
 "cells": [
  {
   "cell_type": "markdown",
   "metadata": {},
   "source": [
    "# Environment Demo"
   ]
  },
  {
   "cell_type": "code",
   "execution_count": 2,
   "metadata": {},
   "outputs": [
    {
     "data": {
      "text/plain": [
       "(<module 'utils' from '/Users/lorenzoleuzzi/Documents/GitHub/lifelong_evolutionary_swarms/utils.py'>,\n",
       " <module 'environment' from '/Users/lorenzoleuzzi/Documents/GitHub/lifelong_evolutionary_swarms/environment.py'>)"
      ]
     },
     "execution_count": 2,
     "metadata": {},
     "output_type": "execute_result"
    }
   ],
   "source": [
    "import sys\n",
    "import os\n",
    "import importlib\n",
    "import numpy as np\n",
    "import time\n",
    "\n",
    "# Add the parent directory to the Python path\n",
    "sys.path.append(os.path.abspath('../'))\n",
    "import environment \n",
    "import utils\n",
    "importlib.reload(utils), importlib.reload(environment)"
   ]
  },
  {
   "cell_type": "markdown",
   "metadata": {},
   "source": [
    "## Robot features\n",
    "\n",
    "- 25 cm diameter\n",
    "- compass\n",
    "- 360 vision sensor and object reconition in range 100cm\n",
    "- comunication between others robots\n",
    "- ability to pick up stuff (in they're in the same position of the object)\n",
    "- holonomic motion (every directions)\n",
    "- maximum velocity: 200 cm/s\n",
    "- maximum acceleration: 400 cm/s²\n",
    "- maximum distance covered in a single move: 1/2 acceleration * tstep, 8cm with tstep = 200 ms "
   ]
  },
  {
   "cell_type": "markdown",
   "metadata": {},
   "source": [
    "Simulation measurements: everything is divide by the agent size which is reperesented as point in the arena"
   ]
  },
  {
   "cell_type": "code",
   "execution_count": 2,
   "metadata": {},
   "outputs": [
    {
     "data": {
      "text/plain": [
       "'1.0, 4.0, 0.1, 2.0'"
      ]
     },
     "execution_count": 2,
     "metadata": {},
     "output_type": "execute_result"
    }
   ],
   "source": [
    "f\"{environment.SIMULATION_ROBOT_SIZE}, {environment.SIMULATION_SENSOR_RANGE}, {environment.TIME_STEP}, {environment.SIMULATION_MAX_WHEEL_VELOCITY}\""
   ]
  },
  {
   "cell_type": "markdown",
   "metadata": {},
   "source": [
    "We are in a continuous 2D environment (no physics), a robot possesses the capability to navigate in any direction, covering any distance up to a defined maximum per step. Additionally, the robot can pick up and deposit an object objects when is underneath or when it reached an edge, resepctively."
   ]
  },
  {
   "cell_type": "markdown",
   "metadata": {},
   "source": [
    "The robots are equipped with sensory equipment capable of identifying nearby entities. A \"neighbor\" is characterized by a tuple comprising the type of object, the distance to it, and its relative direction. Accordingly, each robot maintains a list of such tuples for a predefined fixed number of neighboring entities."
   ]
  },
  {
   "cell_type": "markdown",
   "metadata": {},
   "source": [
    "## Arena\n",
    "\n",
    "5m x 5m with robots and colored objects "
   ]
  },
  {
   "cell_type": "code",
   "execution_count": 3,
   "metadata": {},
   "outputs": [
    {
     "data": {
      "text/plain": [
       "20.0"
      ]
     },
     "execution_count": 3,
     "metadata": {},
     "output_type": "execute_result"
    }
   ],
   "source": [
    "environment.SIMULATION_ARENA_SIZE "
   ]
  },
  {
   "cell_type": "markdown",
   "metadata": {},
   "source": [
    "## Target\n",
    "A target color. The robots must pick up the objects of that color and deposit them in right position. The deposit area is in an edge of the arena (top edge)."
   ]
  },
  {
   "cell_type": "code",
   "execution_count": 4,
   "metadata": {},
   "outputs": [
    {
     "data": {
      "text/plain": [
       "3"
      ]
     },
     "execution_count": 4,
     "metadata": {},
     "output_type": "execute_result"
    }
   ],
   "source": [
    "environment.RED"
   ]
  },
  {
   "cell_type": "code",
   "execution_count": 5,
   "metadata": {},
   "outputs": [
    {
     "data": {
      "text/plain": [
       "(1, 2)"
      ]
     },
     "execution_count": 5,
     "metadata": {},
     "output_type": "execute_result"
    }
   ],
   "source": [
    "environment.REWARD_PICK, environment.REWARD_DROP"
   ]
  },
  {
   "cell_type": "markdown",
   "metadata": {},
   "source": [
    "## Environment initialization"
   ]
  },
  {
   "cell_type": "code",
   "execution_count": 15,
   "metadata": {},
   "outputs": [
    {
     "name": "stdout",
     "output_type": "stream",
     "text": [
      ". . . . . . . . . . . . . . . . . . . .\n",
      ". . . . . . . . . . . . . . . . . . . .\n",
      ". . . . . 0 . . . 1 . . . . . 2 . . . .\n",
      ". . . . . . . . . . . . . . . . . . . .\n",
      ". . . . . . . . . . . . . . . . . . . .\n",
      ". . . . . . . . . . . . . . . . . . . .\n",
      ". . . . . . . \u001b[91mO\u001b[0m . . . . . . . . . . . .\n",
      ". . . . . . . . . . . . . . . . . . . .\n",
      ". . . . . . . . . . . . . . . . . . . .\n",
      ". . . . . . . . . . . . \u001b[94mO\u001b[0m . . . . . . .\n",
      ". . . . . . . . . . . . . . \u001b[91mO\u001b[0m . . . . .\n",
      ". . . . . . . . . \u001b[93mO\u001b[0m . . . . . . . . . .\n",
      ". . \u001b[95mO\u001b[0m . . . . . . . . . . . . . . . . .\n",
      ". . . . . . . . . . . . . . . . \u001b[94mO\u001b[0m . . .\n",
      ". . . . . . . . . . \u001b[95mO\u001b[0m . . . . . . . . .\n",
      ". . . . . \u001b[93mO\u001b[0m . . . . . . \u001b[92mO\u001b[0m . . . . . . .\n",
      ". . . . . . . . . . \u001b[92mO\u001b[0m . . . . . . . . .\n",
      ". . . . . . . . . . . . . . . . . . . .\n",
      ". . . . . . . . . . . . . . . . . . . .\n",
      ". . . . . . . . . . . . . . . . . . . .\n"
     ]
    },
    {
     "data": {
      "image/png": "[encoded data removed]",
      "text/plain": [
       "<PIL.Image.Image image mode=RGB size=400x400>"
      ]
     },
     "execution_count": 15,
     "metadata": {},
     "output_type": "execute_result"
    }
   ],
   "source": [
    "env = environment.SwarmForagingEnv(target_color= environment.GREEN, n_agents = 3, n_blocks = 10, distribution=\"uniform\")\n",
    "initial_obs, _ = env.reset(seed = 3) \n",
    "env.render()"
   ]
  },
  {
   "cell_type": "code",
   "execution_count": 7,
   "metadata": {},
   "outputs": [
    {
     "data": {
      "text/plain": [
       "([{'neighbors': array([[  1.        ,   2.23496302,   0.        ],\n",
       "          [  2.        ,   3.37583453, 290.61956502],\n",
       "          [  1.        ,   3.55663965,  90.        ]]),\n",
       "   'heading': 170.14132610439435,\n",
       "   'carrying': -1},\n",
       "  {'neighbors': array([[  1.        ,   1.04612485,   0.        ],\n",
       "          [  2.        ,   3.37583453, 110.61956502],\n",
       "          [  0.        ,   0.        ,   0.        ]]),\n",
       "   'heading': 177.99721943430512,\n",
       "   'carrying': -1},\n",
       "  {'neighbors': array([[  1.        ,   1.09333133,   0.        ],\n",
       "          [  2.        ,   2.62406633, 268.08077137],\n",
       "          [  0.        ,   0.        ,   0.        ]]),\n",
       "   'heading': 174.65542680860608,\n",
       "   'carrying': -1},\n",
       "  {'neighbors': array([[  1.        ,   1.18121287,   0.        ],\n",
       "          [  2.        ,   2.62406633,  88.08077137],\n",
       "          [  2.        ,   3.51689373, 239.49450866]]),\n",
       "   'heading': 177.64923982534324,\n",
       "   'carrying': -1},\n",
       "  {'neighbors': array([[  1.        ,   2.39980755, 270.        ],\n",
       "          [  1.        ,   2.96646177,   0.        ],\n",
       "          [  2.        ,   3.51689373,  59.49450866]]),\n",
       "   'heading': 187.19880813472642,\n",
       "   'carrying': -1}],\n",
       " array([[ 0.00000000e+00,  1.00000000e+00,  0.00000000e+00,\n",
       "          0.00000000e+00,  0.00000000e+00,  0.00000000e+00,\n",
       "          0.00000000e+00,  0.00000000e+00,  0.00000000e+00,\n",
       "          0.00000000e+00,  1.00000000e+00,  0.00000000e+00,\n",
       "          0.00000000e+00,  0.00000000e+00,  0.00000000e+00,\n",
       "          0.00000000e+00,  0.00000000e+00,  1.00000000e+00,\n",
       "          0.00000000e+00,  0.00000000e+00,  0.00000000e+00,\n",
       "          0.00000000e+00,  0.00000000e+00,  0.00000000e+00,\n",
       "          5.58740755e-01,  8.43958633e-01,  8.89159914e-01,\n",
       "          0.00000000e+00, -9.35939336e-01,  1.00000000e+00,\n",
       "          1.00000000e+00,  3.52161268e-01,  6.12323400e-17,\n",
       "          1.71218519e-01, -9.85233078e-01,  1.00000000e+00,\n",
       "          0.00000000e+00,  0.00000000e+00,  0.00000000e+00,\n",
       "          0.00000000e+00,  0.00000000e+00,  0.00000000e+00,\n",
       "          0.00000000e+00,  1.00000000e+00,  0.00000000e+00,\n",
       "          0.00000000e+00],\n",
       "        [ 0.00000000e+00,  1.00000000e+00,  0.00000000e+00,\n",
       "          0.00000000e+00,  0.00000000e+00,  0.00000000e+00,\n",
       "          0.00000000e+00,  0.00000000e+00,  0.00000000e+00,\n",
       "          0.00000000e+00,  1.00000000e+00,  0.00000000e+00,\n",
       "          0.00000000e+00,  0.00000000e+00,  0.00000000e+00,\n",
       "          0.00000000e+00,  1.00000000e+00,  0.00000000e+00,\n",
       "          0.00000000e+00,  0.00000000e+00,  0.00000000e+00,\n",
       "          0.00000000e+00,  0.00000000e+00,  0.00000000e+00,\n",
       "          2.61531213e-01,  8.43958633e-01,  0.00000000e+00,\n",
       "          0.00000000e+00,  9.35939336e-01,  0.00000000e+00,\n",
       "          1.00000000e+00, -3.52161268e-01,  0.00000000e+00,\n",
       "          3.49479971e-02, -9.99389132e-01,  1.00000000e+00,\n",
       "          0.00000000e+00,  0.00000000e+00,  0.00000000e+00,\n",
       "          0.00000000e+00,  0.00000000e+00,  0.00000000e+00,\n",
       "          0.00000000e+00,  1.00000000e+00,  0.00000000e+00,\n",
       "          0.00000000e+00],\n",
       "        [ 0.00000000e+00,  1.00000000e+00,  0.00000000e+00,\n",
       "          0.00000000e+00,  0.00000000e+00,  0.00000000e+00,\n",
       "          0.00000000e+00,  0.00000000e+00,  0.00000000e+00,\n",
       "          0.00000000e+00,  1.00000000e+00,  0.00000000e+00,\n",
       "          0.00000000e+00,  0.00000000e+00,  0.00000000e+00,\n",
       "          0.00000000e+00,  1.00000000e+00,  0.00000000e+00,\n",
       "          0.00000000e+00,  0.00000000e+00,  0.00000000e+00,\n",
       "          0.00000000e+00,  0.00000000e+00,  0.00000000e+00,\n",
       "          2.73332832e-01,  6.56016582e-01,  0.00000000e+00,\n",
       "          0.00000000e+00, -9.99439033e-01,  0.00000000e+00,\n",
       "          1.00000000e+00, -3.34905950e-02,  0.00000000e+00,\n",
       "          9.31451824e-02, -9.95652537e-01,  1.00000000e+00,\n",
       "          0.00000000e+00,  0.00000000e+00,  0.00000000e+00,\n",
       "          0.00000000e+00,  0.00000000e+00,  0.00000000e+00,\n",
       "          0.00000000e+00,  1.00000000e+00,  0.00000000e+00,\n",
       "          0.00000000e+00],\n",
       "        [ 0.00000000e+00,  1.00000000e+00,  0.00000000e+00,\n",
       "          0.00000000e+00,  0.00000000e+00,  0.00000000e+00,\n",
       "          0.00000000e+00,  0.00000000e+00,  0.00000000e+00,\n",
       "          0.00000000e+00,  1.00000000e+00,  0.00000000e+00,\n",
       "          0.00000000e+00,  0.00000000e+00,  0.00000000e+00,\n",
       "          0.00000000e+00,  0.00000000e+00,  0.00000000e+00,\n",
       "          1.00000000e+00,  0.00000000e+00,  0.00000000e+00,\n",
       "          0.00000000e+00,  0.00000000e+00,  0.00000000e+00,\n",
       "          2.95303217e-01,  6.56016582e-01,  8.79223432e-01,\n",
       "          0.00000000e+00,  9.99439033e-01, -8.61580513e-01,\n",
       "          1.00000000e+00,  3.34905950e-02, -5.07620941e-01,\n",
       "          4.10169951e-02, -9.99158449e-01,  1.00000000e+00,\n",
       "          0.00000000e+00,  0.00000000e+00,  0.00000000e+00,\n",
       "          0.00000000e+00,  0.00000000e+00,  0.00000000e+00,\n",
       "          0.00000000e+00,  1.00000000e+00,  0.00000000e+00,\n",
       "          0.00000000e+00],\n",
       "        [ 0.00000000e+00,  1.00000000e+00,  0.00000000e+00,\n",
       "          0.00000000e+00,  0.00000000e+00,  0.00000000e+00,\n",
       "          0.00000000e+00,  0.00000000e+00,  0.00000000e+00,\n",
       "          1.00000000e+00,  0.00000000e+00,  0.00000000e+00,\n",
       "          0.00000000e+00,  0.00000000e+00,  0.00000000e+00,\n",
       "          0.00000000e+00,  0.00000000e+00,  0.00000000e+00,\n",
       "          1.00000000e+00,  0.00000000e+00,  0.00000000e+00,\n",
       "          0.00000000e+00,  0.00000000e+00,  0.00000000e+00,\n",
       "          5.99951887e-01,  7.41615443e-01,  8.79223432e-01,\n",
       "         -1.00000000e+00,  0.00000000e+00,  8.61580513e-01,\n",
       "         -1.83697020e-16,  1.00000000e+00,  5.07620941e-01,\n",
       "         -1.25312596e-01, -9.92117308e-01,  1.00000000e+00,\n",
       "          0.00000000e+00,  0.00000000e+00,  0.00000000e+00,\n",
       "          0.00000000e+00,  0.00000000e+00,  0.00000000e+00,\n",
       "          0.00000000e+00,  1.00000000e+00,  0.00000000e+00,\n",
       "          0.00000000e+00]]))"
      ]
     },
     "execution_count": 7,
     "metadata": {},
     "output_type": "execute_result"
    }
   ],
   "source": [
    "initial_obs, env.process_observation(initial_obs)"
   ]
  },
  {
   "cell_type": "code",
   "execution_count": 15,
   "metadata": {},
   "outputs": [
    {
     "data": {
      "text/plain": [
       "(array([ 1.48870411, -0.74078643, -1.34366745]),\n",
       " array([-0.40716756,  0.09974027, -1.82387127]),\n",
       " array([ 1.24791367,  1.69690379, -0.16896223]))"
      ]
     },
     "execution_count": 15,
     "metadata": {},
     "output_type": "execute_result"
    }
   ],
   "source": [
    "env.action_space.sample()"
   ]
  },
  {
   "cell_type": "code",
   "execution_count": 32,
   "metadata": {},
   "outputs": [
    {
     "name": "stdout",
     "output_type": "stream",
     "text": [
      ". . . . . . . . . . . . . . . . . . . .\n",
      ". . . . . . . . . . . . . . . . . . . .\n",
      ". . . . . 0 . . . . 1 . . . . 2 . . . .\n",
      ". . . . . . . . . . . . . . . . . . . .\n",
      ". . . . . . . . . . . . . . . . . . . .\n",
      ". . . . . . . . . . . . . . . . . . . .\n",
      ". . . . . . . . . . . . . . . . . . . .\n",
      ". . . . \u001b[91mO\u001b[0m . . . . . . . \u001b[94mO\u001b[0m . . . . . . .\n",
      ". . . . . . . \u001b[94mO\u001b[0m . . . . . . . \u001b[92mO\u001b[0m . . . .\n",
      ". . . . . . . . . . . . . . . . . . . .\n",
      ". . . . . . . . . . . . . . . . . . . .\n",
      ". . \u001b[91mO\u001b[0m . . . . . . . . . . . . . . . . .\n",
      ". . . . . . . . . . . . . . . . . . . .\n",
      ". . . . \u001b[93mO\u001b[0m . . . . . . . . \u001b[95mO\u001b[0m . . . . . .\n",
      ". . . . . . . . . . . . . . . . . . . .\n",
      ". . . . . . . . . \u001b[91mO\u001b[0m . . . . . . . . . .\n",
      ". . . . . . . . . . . . . . . . . . . .\n",
      ". . . . . . . . . . . . . . . . \u001b[92mO\u001b[0m . . .\n",
      ". . . . . . . . \u001b[93mO\u001b[0m . . . . . . . . . . .\n",
      ". . . . . . . . . . . . . . . . . . . .\n"
     ]
    },
    {
     "data": {
      "image/png": "[encoded data removed]",
      "text/plain": [
       "<PIL.Image.Image image mode=RGB size=400x400>"
      ]
     },
     "execution_count": 32,
     "metadata": {},
     "output_type": "execute_result"
    }
   ],
   "source": [
    "initial_state = {}\n",
    "initial_state['blocks'] = np.array([\n",
    "    [10.6, 2.4],\n",
    "    [8.1, 14.9],  \n",
    "    [14.6, 9.0],  \n",
    "    [6.6, 11.6],  \n",
    "    [8.1, 6.9],  \n",
    "    [16.9, 16.2], \n",
    "    [6.9, 4.5],\n",
    "    [13.2, 4.2],\n",
    "    [13.2, 12.8],\n",
    "    [17.5, 7.5]  \n",
    "])\n",
    "initial_state['colors'] = np.array([3, 5, 3, 4, 4, 5, 3, 6, 7, 6])\n",
    "initial_state['agents'] =  np.array([\n",
    "    [1.5, 5.0],  # Agent 0\n",
    "    [1.5, 10.0],  # Agent 1\n",
    "    [1.5, 15.0]   # Agent 2\n",
    "])\n",
    "initial_state['headings'] = np.array([180, 180, 180])\n",
    "env.reset(initial_state = initial_state)\n",
    "env.render()"
   ]
  },
  {
   "cell_type": "markdown",
   "metadata": {},
   "source": [
    "## Testing"
   ]
  },
  {
   "cell_type": "code",
   "execution_count": 16,
   "metadata": {},
   "outputs": [],
   "source": [
    "cumulative_reward = 0"
   ]
  },
  {
   "cell_type": "code",
   "execution_count": 33,
   "metadata": {},
   "outputs": [
    {
     "name": "stdout",
     "output_type": "stream",
     "text": [
      ". . . . . . . . . . . . . . . . . . . .\n",
      ". . . . . . . . . . . . . . . . . . . .\n",
      ". . . . . 0 . . . . 1 . . . . 2 . . . .\n",
      ". . . . . . . . . . . . . . . . . . . .\n",
      ". . . . . . . . . . . . . . . . . . . .\n",
      ". . . . . . . . . . . . . . . . . . . .\n",
      ". . . . . . . . . . . . . . . . . . . .\n",
      ". . . . \u001b[91mO\u001b[0m . . . . . . . \u001b[94mO\u001b[0m . . . . . . .\n",
      ". . . . . . . \u001b[94mO\u001b[0m . . . . . . . \u001b[92mO\u001b[0m . . . .\n",
      ". . . . . . . . . . . . . . . . . . . .\n",
      ". . . . . . . . . . . . . . . . . . . .\n",
      ". . \u001b[91mO\u001b[0m . . . . . . . . . . . . . . . . .\n",
      ". . . . . . . . . . . . . . . . . . . .\n",
      ". . . . \u001b[93mO\u001b[0m . . . . . . . . \u001b[95mO\u001b[0m . . . . . .\n",
      ". . . . . . . . . . . . . . . . . . . .\n",
      ". . . . . . . . . \u001b[91mO\u001b[0m . . . . . . . . . .\n",
      ". . . . . . . . . . . . . . . . . . . .\n",
      ". . . . . . . . . . . . . . . . \u001b[92mO\u001b[0m . . .\n",
      ". . . . . . . . \u001b[93mO\u001b[0m . . . . . . . . . . .\n",
      ". . . . . . . . . . . . . . . . . . . .\n"
     ]
    }
   ],
   "source": [
    "action = env.action_space.sample()\n",
    "action = [environment.MOVE_DOWN * np.array([5]), environment.MOVE_DOWN * np.array([5]), environment.MOVE_DOWN* np.array([5])]\n",
    "next_state, reward, done, _, _ = env.step(action)\n",
    "env.render()\n",
    "cumulative_reward += reward"
   ]
  },
  {
   "cell_type": "markdown",
   "metadata": {},
   "source": [
    "## Profiling"
   ]
  },
  {
   "cell_type": "markdown",
   "metadata": {},
   "source": [
    "about 2000 steps per second"
   ]
  },
  {
   "cell_type": "code",
   "execution_count": 19,
   "metadata": {},
   "outputs": [
    {
     "data": {
      "text/plain": [
       "1.1703405380249023"
      ]
     },
     "execution_count": 19,
     "metadata": {},
     "output_type": "execute_result"
    }
   ],
   "source": [
    "def profile():\n",
    "    total_time = 0\n",
    "    for i in range(2000):\n",
    "        action = env.action_space.sample()\n",
    "        start = time.time()\n",
    "        next_state, reward, done, _, _ = env.step(action)\n",
    "        end = time.time()\n",
    "        total_time += end - start\n",
    "    return total_time\n",
    "profile()"
   ]
  },
  {
   "cell_type": "code",
   "execution_count": 20,
   "metadata": {},
   "outputs": [
    {
     "name": "stdout",
     "output_type": "stream",
     "text": [
      "         508928 function calls (498928 primitive calls) in 3.044 seconds\n",
      "\n",
      "   Ordered by: cumulative time\n",
      "\n",
      "   ncalls  tottime  percall  cumtime  percall filename:lineno(function)\n",
      "        1    0.000    0.000    3.044    3.044 {built-in method builtins.exec}\n",
      "        1    0.000    0.000    3.044    3.044 <string>:1(<module>)\n",
      "        1    0.031    0.031    3.044    3.044 1416959497.py:1(profile)\n",
      "     2000    0.263    0.000    1.856    0.001 environment.py:410(step)\n",
      "     2000    0.016    0.000    1.148    0.001 tuple.py:87(sample)\n",
      "     8000    0.024    0.000    1.132    0.000 tuple.py:112(<genexpr>)\n",
      "     6000    0.387    0.000    1.108    0.000 box.py:184(sample)\n",
      "51527/41527    0.210    0.000    0.985    0.000 {built-in method numpy.core._multiarray_umath.implement_array_function}\n",
      "     2000    0.460    0.000    0.560    0.000 environment.py:320(_detect)\n",
      "     6000    0.232    0.000    0.559    0.000 {method 'uniform' of 'numpy.random._generator.Generator' objects}\n",
      "     4000    0.009    0.000    0.323    0.000 <__array_function__ internals>:177(clip)\n",
      "     9527    0.024    0.000    0.319    0.000 fromnumeric.py:51(_wrapfunc)\n",
      "     4000    0.014    0.000    0.299    0.000 fromnumeric.py:2085(clip)\n",
      "     4000    0.010    0.000    0.269    0.000 {method 'clip' of 'numpy.ndarray' objects}\n",
      "     4000    0.029    0.000    0.260    0.000 _methods.py:126(_clip)\n",
      "     2000    0.068    0.000    0.226    0.000 environment.py:311(_update_distance_matrix)\n",
      "    12000    0.065    0.000    0.199    0.000 fromnumeric.py:69(_wrapreduction)\n",
      "     2000    0.198    0.000    0.198    0.000 environment.py:296(_update_directions_matrix)\n",
      "    16000    0.168    0.000    0.168    0.000 {method 'reduce' of 'numpy.ufunc' objects}\n",
      "     8000    0.084    0.000    0.166    0.000 _methods.py:92(_clip_dep_is_scalar_nan)\n",
      "     6000    0.014    0.000    0.164    0.000 <__array_function__ internals>:177(any)\n",
      "     6000    0.016    0.000    0.162    0.000 <__array_function__ internals>:177(all)\n",
      "     4000    0.011    0.000    0.158    0.000 <__array_function__ internals>:177(norm)\n",
      "     4000    0.068    0.000    0.135    0.000 linalg.py:2357(norm)\n",
      "     6000    0.020    0.000    0.130    0.000 fromnumeric.py:2406(all)\n",
      "     2000    0.006    0.000    0.120    0.000 <__array_function__ internals>:177(stack)\n",
      "     6000    0.016    0.000    0.104    0.000 fromnumeric.py:2307(any)\n",
      "     2000    0.034    0.000    0.098    0.000 shape_base.py:357(stack)\n",
      "     8000    0.017    0.000    0.082    0.000 <__array_function__ internals>:177(ndim)\n",
      "     5527    0.011    0.000    0.074    0.000 <__array_function__ internals>:177(argmin)\n",
      "     6000    0.069    0.000    0.069    0.000 {method 'normal' of 'numpy.random._generator.Generator' objects}\n",
      "    12000    0.024    0.000    0.065    0.000 <__array_function__ internals>:177(where)\n",
      "     5527    0.019    0.000    0.052    0.000 fromnumeric.py:1223(argmin)\n",
      "     8000    0.037    0.000    0.052    0.000 fromnumeric.py:3121(ndim)\n",
      "     4000    0.047    0.000    0.047    0.000 _methods.py:107(_clip_dep_invoke_with_casting)\n",
      "    12000    0.043    0.000    0.043    0.000 {method 'exponential' of 'numpy.random._generator.Generator' objects}\n",
      "     2000    0.007    0.000    0.043    0.000 <__array_function__ internals>:177(concatenate)\n",
      "     2000    0.005    0.000    0.042    0.000 <__array_function__ internals>:177(dot)\n",
      "     2000    0.021    0.000    0.023    0.000 environment.py:366(_get_obs)\n",
      "     6000    0.018    0.000    0.022    0.000 {built-in method builtins.sorted}\n",
      "     5527    0.019    0.000    0.019    0.000 {method 'argmin' of 'numpy.ndarray' objects}\n",
      "     2000    0.019    0.000    0.019    0.000 {built-in method builtins.sum}\n",
      "     8000    0.014    0.000    0.018    0.000 _methods.py:102(_clip_dep_is_byte_swapped)\n",
      "    12000    0.017    0.000    0.017    0.000 {built-in method numpy.asarray}\n",
      "     6000    0.016    0.000    0.016    0.000 {method 'astype' of 'numpy.ndarray' objects}\n",
      "    24000    0.016    0.000    0.016    0.000 space.py:66(np_random)\n",
      "    12000    0.015    0.000    0.015    0.000 fromnumeric.py:70(<dictcomp>)\n",
      "     6000    0.013    0.000    0.013    0.000 {built-in method numpy.empty}\n",
      "    26000    0.010    0.000    0.010    0.000 {built-in method builtins.len}\n",
      "     4000    0.009    0.000    0.009    0.000 {built-in method time.time}\n",
      "     2000    0.003    0.000    0.008    0.000 shape_base.py:348(_stack_dispatcher)\n",
      "    24002    0.008    0.000    0.008    0.000 {method 'append' of 'list' objects}\n",
      "     9527    0.007    0.000    0.007    0.000 {built-in method builtins.getattr}\n",
      "     2000    0.005    0.000    0.007    0.000 shape_base.py:420(<listcomp>)\n",
      "    12000    0.007    0.000    0.007    0.000 {built-in method builtins.isinstance}\n",
      "    12000    0.006    0.000    0.006    0.000 multiarray.py:341(where)\n",
      "     2000    0.006    0.000    0.006    0.000 shape_base.py:432(<listcomp>)\n",
      "     2000    0.006    0.000    0.006    0.000 shape_base.py:424(<setcomp>)\n",
      "     6000    0.006    0.000    0.006    0.000 box.py:149(shape)\n",
      "    12000    0.005    0.000    0.005    0.000 {method 'items' of 'dict' objects}\n",
      "     2000    0.003    0.000    0.005    0.000 shape_base.py:207(_arrays_for_stack_dispatcher)\n",
      "     2000    0.005    0.000    0.005    0.000 {built-in method numpy.zeros}\n",
      "     8233    0.004    0.000    0.004    0.000 environment.py:356(<lambda>)\n",
      "     4000    0.004    0.000    0.004    0.000 {method 'conj' of 'numpy.ndarray' objects}\n",
      "     6000    0.004    0.000    0.004    0.000 fromnumeric.py:2401(_all_dispatcher)\n",
      "     8000    0.003    0.000    0.003    0.000 fromnumeric.py:3117(_ndim_dispatcher)\n",
      "     6000    0.003    0.000    0.003    0.000 fromnumeric.py:2302(_any_dispatcher)\n",
      "     5527    0.003    0.000    0.003    0.000 fromnumeric.py:1219(_argmin_dispatcher)\n",
      "     4000    0.003    0.000    0.003    0.000 {built-in method builtins.issubclass}\n",
      "     2000    0.003    0.000    0.003    0.000 {built-in method builtins.hasattr}\n",
      "     2000    0.002    0.000    0.002    0.000 environment.py:363(_get_info)\n",
      "     4000    0.002    0.000    0.002    0.000 linalg.py:2353(_norm_dispatcher)\n",
      "     2000    0.002    0.000    0.002    0.000 {built-in method numpy.core._multiarray_umath.normalize_axis_index}\n",
      "     4000    0.002    0.000    0.002    0.000 fromnumeric.py:2081(_clip_dispatcher)\n",
      "     4000    0.002    0.000    0.002    0.000 {built-in method numpy.asanyarray}\n",
      "     2000    0.002    0.000    0.002    0.000 multiarray.py:148(concatenate)\n",
      "     2000    0.001    0.000    0.001    0.000 multiarray.py:736(dot)\n",
      "        1    0.000    0.000    0.000    0.000 {method 'disable' of '_lsprof.Profiler' objects}\n",
      "\n",
      "\n"
     ]
    }
   ],
   "source": [
    "import cProfile\n",
    "cProfile.run('profile()', sort='cumtime')"
   ]
  },
  {
   "cell_type": "markdown",
   "metadata": {},
   "source": [
    "## Load Controller "
   ]
  },
  {
   "cell_type": "code",
   "execution_count": null,
   "metadata": {},
   "outputs": [],
   "source": [
    "import pickle\n",
    "import os\n",
    "import neat"
   ]
  },
  {
   "cell_type": "code",
   "execution_count": null,
   "metadata": {},
   "outputs": [
    {
     "name": "stdout",
     "output_type": "stream",
     "text": [
      ". . . . . . . . . . . . . . . . . . . .\n",
      ". . . . . . . . . . . . . . . . . . . .\n",
      ". . . . . . . . . . 0 . . . . . . . . .\n",
      ". . . . . . . . . . . . . . . . . . . .\n",
      ". . . . . . . . . . . . . . . . . . . .\n",
      ". . . . . . . . . . . . . . . . . . . .\n",
      ". . . . . . . . . . . . . . . . . . . .\n",
      ". . . . . . . . . . . . . . . . . . . .\n",
      ". . . . . . . . . . . . . . . . . \u001b[92mO\u001b[0m . .\n",
      ". . . . . . . . . . . . . . . . . . . .\n",
      ". . . . . \u001b[92mO\u001b[0m . . . . \u001b[94mO\u001b[0m . . . . . . . . .\n",
      ". . . . . . . . . . . . . . . . . . . .\n",
      ". . . . . . . . . . . . . \u001b[91mO\u001b[0m . . . . . .\n",
      ". . . \u001b[91mO\u001b[0m . . . . . . . . . . . . . . . .\n",
      ". . . . . . . . \u001b[91mO\u001b[0m . . . . . . . . . . .\n",
      ". . . . . . . . . . . . . . . \u001b[94mO\u001b[0m . . . .\n",
      ". . . . . . . . . . . . . . . . . . . .\n",
      ". . . . . . . . . . . . . . . . . . . .\n",
      ". . . . . . . . . . . . . . . . . . . .\n",
      ". . . . . . . . . . . . . . . . . . . .\n"
     ]
    },
    {
     "data": {
      "image/png": "[encoded data removed]",
      "text/plain": [
       "<PIL.Image.Image image mode=RGB size=400x400>"
      ]
     },
     "metadata": {},
     "output_type": "display_data"
    }
   ],
   "source": [
    "initial_setting_bristol = {}\n",
    "initial_setting_bristol['blocks'] = np.array([\n",
    "    [6.6, 2.4],  # Carrier 100\n",
    "    [5.1, 6.9],  # Carrier 101\n",
    "    [6.6, 9.0],  # Carrier 102\n",
    "    [9.6, 9.6],  # Carrier 103\n",
    "    [8.1, 6.9],  # Carrier 104\n",
    "    [9.9, 4.2],  # Carrier 105\n",
    "    [6.9, 4.5]   # Carrier 106\n",
    "])\n",
    "initial_setting_bristol['colors'] = np.array([3, 5, 3, 4, 4, 5, 3])\n",
    "initial_setting_bristol['agents'] =  np.array([\n",
    "    [1.5, 3.0],  # Agent 0\n",
    "    [1.5, 6.0],  # Agent 1\n",
    "    [1.5, 9.0]   # Agent 2\n",
    "])\n",
    "initial_setting_bristol['headings'] = np.array([180, 180, 180])\n",
    "initial_setting_bristol['agents'] =  np.array([\n",
    "   # [1.5, 3.0],  # Agent 0\n",
    "    [1.5, 8],  # Agent 1\n",
    "   # [1.5, 9.0]   # Agent 2\n",
    "])\n",
    "initial_setting_bristol['headings'] = np.array([180]) #, 180, 180])\n",
    "initial_setting_bristol['blocks'] = np.array([\n",
    "        [10.8, 2.8],  # Carrier 100\n",
    "        [8, 4],  # Carrier 101\n",
    "        [11.6, 6.8],  # Carrier 102\n",
    "        [8, 8.8],  # Carrier 103\n",
    "        [12.4, 12.8],  # Carrier 104\n",
    "        [6.4, 14],  # Carrier 105\n",
    "        [10, 10.8]   # Carrier 106\n",
    "    ])\n",
    "# initial_setting_bristol['agents'] = np.array([[6.0, 6.0]])\n",
    "# initial_setting_bristol['headings'] = np.array([312])\n",
    "# initial_setting_bristol['blocks'] = np.array([\n",
    "#     [7.0, 7.0],  # Carrier 100\n",
    "#     [5.0, 5.0],  # Carrier 101\n",
    "#     [5.0, 7.0],  # Carrier 102\n",
    "#     [7.0, 5.0]  # Carrier 103\n",
    "# ])\n",
    "# initial_setting_bristol['colors'] = np.array([3, 4, 5, 6])\n",
    "env = environment.SwarmForagingEnv(n_agents = 1, n_blocks = 7, target_color=environment.RED,\n",
    "                           duration=500, size = 17, max_retrieves=3,\n",
    "                           repositioning=False,\n",
    "                           sensor_range=2)\n",
    "                           \n",
    "env.reset(initial_state = initial_setting_bristol)\n",
    "env.render()\n",
    "# env = environment.SwarmForagingEnv(target_color= environment.BLUE, n_agents = 3, n_blocks = 6, distribution=\"uniform\", size = 12)"
   ]
  },
  {
   "cell_type": "code",
   "execution_count": null,
   "metadata": {},
   "outputs": [],
   "source": [
    "# Load a controller\n",
    "results_path = os.path.abspath(\"/Users/lorenzoleuzzi/Library/CloudStorage/OneDrive-UniversityofPisa/lifelong evolutionary swarms/results\")\n",
    "\n",
    "path = f\"{results_path}/bristol_single_neat_500_200_300_1_7_u_0_drift34_drift43\"\n",
    "with open(f\"{path}/best_genome.pkl\", \"rb\") as f:\n",
    "    controller = pickle.load(f)\n",
    "# Set configuration file\n",
    "config = neat.config.Config(neat.DefaultGenome, neat.DefaultReproduction,\n",
    "                            neat.DefaultSpeciesSet, neat.DefaultStagnation, \"../config-feedforward.txt\")\n",
    "config.genome_config.add_activation('neat_sigmoid', utils.neat_sigmoid)\n",
    "\n",
    "net = neat.nn.FeedForwardNetwork.create(controller, config)"
   ]
  },
  {
   "cell_type": "code",
   "execution_count": null,
   "metadata": {},
   "outputs": [
    {
     "name": "stdout",
     "output_type": "stream",
     "text": [
      "[{'neighbors': array([[1. , 1.5, 0. ],\n",
      "       [0. , 0. , 0. ],\n",
      "       [0. , 0. , 0. ]]), 'heading': 180, 'carrying': -1}]\n",
      "[[ 0.0000000e+00  1.0000000e+00  0.0000000e+00  0.0000000e+00\n",
      "   0.0000000e+00  0.0000000e+00  0.0000000e+00  0.0000000e+00\n",
      "   1.0000000e+00  0.0000000e+00  0.0000000e+00  0.0000000e+00\n",
      "   0.0000000e+00  0.0000000e+00  0.0000000e+00  0.0000000e+00\n",
      "   1.0000000e+00  0.0000000e+00  0.0000000e+00  0.0000000e+00\n",
      "   0.0000000e+00  0.0000000e+00  0.0000000e+00  0.0000000e+00\n",
      "   7.5000000e-01  0.0000000e+00  0.0000000e+00  0.0000000e+00\n",
      "   0.0000000e+00  0.0000000e+00  1.0000000e+00  1.0000000e+00\n",
      "   1.0000000e+00  1.2246468e-16 -1.0000000e+00  1.0000000e+00\n",
      "   0.0000000e+00  0.0000000e+00  0.0000000e+00  0.0000000e+00\n",
      "   0.0000000e+00  1.0000000e+00  0.0000000e+00  0.0000000e+00\n",
      "   0.0000000e+00  0.0000000e+00]]\n",
      "[[3.31419556e-09 9.98918324e-01 1.00000000e+00]]\n",
      ". . . . . . . . . . . . . . . . . . . .\n",
      ". . . . . . . . . . . . . . . . . . . .\n",
      ". . . . . . . . . . . . . . . . . . . .\n",
      ". . . . . . . . . . 0 . . . . . . . . .\n",
      ". . . . . . . . . . . . . . . . . . . .\n",
      ". . . . . . . . . . . . . . . . . . . .\n",
      ". . . . . . . . . . . . . . . . . . . .\n",
      ". . . . . . . . . . . . . . . . . . . .\n",
      ". . . . . . . . . . . . . . . . . . . .\n",
      ". . . . . . . . . . . . \u001b[91mO\u001b[0m . . . . . . .\n",
      ". . . . . . . . . . . . . . . . . . . .\n",
      ". . . . \u001b[91mO\u001b[0m . . . . . . . . . . . \u001b[92mO\u001b[0m . . .\n",
      ". . . . . . . . \u001b[94mO\u001b[0m . . . . . . . . . . .\n",
      ". . . . . . . . . . . . . . . . . . . .\n",
      ". . . . . . . . . . . . \u001b[91mO\u001b[0m . . . . . . .\n",
      ". . . . . . . . . . . . . . . . . . . .\n",
      ". . . . . . . . . . . . . . . . . . . .\n",
      ". . . . . . . \u001b[92mO\u001b[0m . . . . . . . . . \u001b[94mO\u001b[0m . .\n",
      ". . . . . . . . . . . . . . . . . . . .\n",
      ". . . . . . . . . . . . . . . . . . . .\n",
      "[[1.5 6. ]]\n",
      "[{'neighbors': array([[1.        , 1.61571985, 0.        ],\n",
      "       [0.        , 0.        , 0.        ],\n",
      "       [0.        , 0.        , 0.        ]]), 'heading': 180.00000000301253, 'carrying': -1}]\n",
      "[[ 0.00000000e+00  1.00000000e+00  0.00000000e+00  0.00000000e+00\n",
      "   0.00000000e+00  0.00000000e+00  0.00000000e+00  0.00000000e+00\n",
      "   1.00000000e+00  0.00000000e+00  0.00000000e+00  0.00000000e+00\n",
      "   0.00000000e+00  0.00000000e+00  0.00000000e+00  0.00000000e+00\n",
      "   1.00000000e+00  0.00000000e+00  0.00000000e+00  0.00000000e+00\n",
      "   0.00000000e+00  0.00000000e+00  0.00000000e+00  0.00000000e+00\n",
      "   8.07859927e-01  0.00000000e+00  0.00000000e+00  0.00000000e+00\n",
      "   0.00000000e+00  0.00000000e+00  1.00000000e+00  1.00000000e+00\n",
      "   1.00000000e+00 -5.25787077e-11 -1.00000000e+00  1.00000000e+00\n",
      "   0.00000000e+00  0.00000000e+00  0.00000000e+00  0.00000000e+00\n",
      "   0.00000000e+00  1.00000000e+00  0.00000000e+00  0.00000000e+00\n",
      "   0.00000000e+00  0.00000000e+00]]\n",
      "[[3.31419556e-09 9.99548948e-01 1.00000000e+00]]\n",
      ". . . . . . . . . . . . . . . . . . . .\n",
      ". . . . . . . . . . . . . . . . . . . .\n",
      ". . . . . . . . . . . . . . . . . . . .\n",
      ". . . . . . . . . . 0 . . . . . . . . .\n",
      ". . . . . . . . . . . . . . . . . . . .\n",
      ". . . . . . . . . . . . . . . . . . . .\n",
      ". . . . . . . . . . . . . . . . . . . .\n",
      ". . . . . . . . . . . . . . . . . . . .\n",
      ". . . . . . . . . . . . . . . . . . . .\n",
      ". . . . . . . . . . . . \u001b[91mO\u001b[0m . . . . . . .\n",
      ". . . . . . . . . . . . . . . . . . . .\n",
      ". . . . \u001b[91mO\u001b[0m . . . . . . . . . . . \u001b[92mO\u001b[0m . . .\n",
      ". . . . . . . . \u001b[94mO\u001b[0m . . . . . . . . . . .\n",
      ". . . . . . . . . . . . . . . . . . . .\n",
      ". . . . . . . . . . . . \u001b[91mO\u001b[0m . . . . . . .\n",
      ". . . . . . . . . . . . . . . . . . . .\n",
      ". . . . . . . . . . . . . . . . . . . .\n",
      ". . . . . . . \u001b[92mO\u001b[0m . . . . . . . . . \u001b[94mO\u001b[0m . .\n",
      ". . . . . . . . . . . . . . . . . . . .\n",
      ". . . . . . . . . . . . . . . . . . . .\n",
      "[[1.61571985 5.80043267]]\n"
     ]
    }
   ],
   "source": [
    "obs, _ = env.reset(initial_state=initial_setting_bristol)\n",
    "fitness = 0            \n",
    "for i in range(2):\n",
    "    nn_inputs = env.process_observation(obs)\n",
    "    print(obs)\n",
    "    print(nn_inputs)\n",
    "    nn_outputs = np.array([net.activate(nn_input) for nn_input in nn_inputs])\n",
    "    print(nn_outputs)\n",
    "    actions = (2 * nn_outputs - 1) * env.max_wheel_velocity # Scale output sigmoid in range of wheel velocity\n",
    "    env.render()\n",
    "    print(env.agents_location)\n",
    "    obs, reward, done, truncated, _ = env.step(actions)\n",
    "    fitness += reward\n",
    "    if done or truncated:\n",
    "        print(f\"Done: {done}, Truncated: {truncated}, Fitness: {fitness}\")\n",
    "        break"
   ]
  }
 ],
 "metadata": {
  "kernelspec": {
   "display_name": "Python 3",
   "language": "python",
   "name": "python3"
  },
  "language_info": {
   "codemirror_mode": {
    "name": "ipython",
    "version": 3
   },
   "file_extension": ".py",
   "mimetype": "text/x-python",
   "name": "python",
   "nbconvert_exporter": "python",
   "pygments_lexer": "ipython3",
   "version": "3.10.7"
  }
 },
 "nbformat": 4,
 "nbformat_minor": 2
}
