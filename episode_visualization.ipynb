{
 "cells": [
  {
   "cell_type": "code",
   "execution_count": 26,
   "metadata": {},
   "outputs": [
    {
     "data": {
      "text/plain": [
       "(<module 'utils' from '/Users/lorenzoleuzzi/Documents/GitHub/lifelong_evolutionary_swarms/utils.py'>,\n",
       " <module 'environment' from '/Users/lorenzoleuzzi/Documents/GitHub/lifelong_evolutionary_swarms/environment.py'>)"
      ]
     },
     "execution_count": 26,
     "metadata": {},
     "output_type": "execute_result"
    }
   ],
   "source": [
    "import sys\n",
    "import os\n",
    "import importlib\n",
    "import numpy as np\n",
    "import time\n",
    "import pickle\n",
    "import json\n",
    "import neat\n",
    "import imageio\n",
    "\n",
    "# Add the parent directory to the Python path\n",
    "sys.path.append(os.path.abspath('../'))\n",
    "import environment \n",
    "import utils\n",
    "importlib.reload(utils), importlib.reload(environment)"
   ]
  },
  {
   "cell_type": "code",
   "execution_count": 122,
   "metadata": {},
   "outputs": [],
   "source": [
    "SAVE = True\n",
    "NAME = \"population\"\n",
    "FPS = 30\n",
    "POP = True\n",
    "COLOR_MAP = {\n",
    "    3: \"red\",\n",
    "    4: \"blue\",\n",
    "    5: \"green\",\n",
    "    6: \"yellow\",\n",
    "    7: \"purple\",\n",
    "    8: \"white\",\n",
    "    9: \"#0072BD\", # cyan\n",
    "    10: \"black\"\n",
    "}"
   ]
  },
  {
   "cell_type": "code",
   "execution_count": 138,
   "metadata": {},
   "outputs": [],
   "source": [
    "# Load a controller\n",
    "path = f\"/Users/lorenzoleuzzi/Library/CloudStorage/OneDrive-UniversityofPisa/lifelong_evolutionary_swarms/results_gecco4/snz_baselines/neat_500_200_300_5_20_10/seed17/static3_drift55\"\n",
    "with open(f\"{path}/best_genome.pkl\", \"rb\") as f:\n",
    "    controller = pickle.load(f)\n",
    "with open(f\"{path}/neat_config.pkl\", \"rb\") as f:\n",
    "    config_neat = pickle.load(f)\n",
    "with open(f\"{path}/info.json\", \"r\") as f:\n",
    "    info_exp = json.load(f)\n",
    "with open(f\"{path}/population.pkl\", \"rb\") as f:\n",
    "    population = pickle.load(f)\n",
    "# with open(f\"{path}/env.pkl\", \"rb\") as f:\n",
    "#     env = pickle.load(f) # does not work because different versions of Python between local and remote\n",
    "env = environment.SwarmForagingEnv(n_agents = info_exp[\"n_agents\"], n_blocks = info_exp[\"n_blocks\"], colors=[3, 4, 5, 6],\n",
    "                                   season_colors=info_exp[\"season_colors\"],\n",
    "                           target_color=info_exp[\"target_color\"], duration=info_exp[\"episode_duration\"])\n",
    "if POP:\n",
    "    id_ret_pop = 0\n",
    "    prev_target = info_exp[\"prev_target_colors\"][-1]\n",
    "    controller = population.population[info_exp[f\"id_retention_pop_{prev_target}\"]]\n",
    "\n",
    "net = neat.nn.FeedForwardNetwork.create(controller, config_neat)"
   ]
  },
  {
   "cell_type": "code",
   "execution_count": 127,
   "metadata": {},
   "outputs": [],
   "source": [
    "env.change_season([5,6], 5)"
   ]
  },
  {
   "cell_type": "code",
   "execution_count": 139,
   "metadata": {},
   "outputs": [],
   "source": [
    "env.change_season([3,4], 3)"
   ]
  },
  {
   "cell_type": "code",
   "execution_count": 141,
   "metadata": {},
   "outputs": [
    {
     "name": "stdout",
     "output_type": "stream",
     "text": [
      "Done: False, Truncated: True, Fitness: 13.0, correct: 5, wrong: 2\n",
      "Done: False, Truncated: True, Fitness: 19.0, correct: 7, wrong: 2\n",
      "Done: False, Truncated: True, Fitness: 5.0, correct: 2, wrong: 1\n",
      "12.333333333333334 4.666666666666667 1.6666666666666667\n"
     ]
    }
   ],
   "source": [
    "fitnesses = []\n",
    "corrects = []\n",
    "wrongs = []\n",
    "\n",
    "episodes_info = {}\n",
    "for i in range(3):\n",
    "    \n",
    "    frames = []\n",
    "    obs, _ = env.reset(seed=None)\n",
    "    fitness = 0\n",
    "    frames.append(env.render(True, False))\n",
    "    while True:\n",
    "        \n",
    "        nn_inputs = env.process_observation(obs)\n",
    "        \n",
    "        nn_outputs = np.array([net.activate(nn_input) for nn_input in nn_inputs])\n",
    "        actions = (2 * nn_outputs - 1) * env.max_wheel_velocity # Scale output sigmoid in range of wheel velocity\n",
    "\n",
    "        obs, reward, done, truncated, info = env.step(actions)\n",
    "        \n",
    "        frames.append(env.render(True, False))\n",
    "        \n",
    "        fitness += reward\n",
    "        if done or truncated:\n",
    "            print(f\"Done: {done}, Truncated: {truncated}, Fitness: {fitness}, correct: {len(info['correct_retrieves'])}, wrong: {len(info['wrong_retrieves'])}\")\n",
    "            episodes_info[i] = ((fitness, len(info['correct_retrieves']), len(info['wrong_retrieves'])))\n",
    "            break\n",
    "    \n",
    "    if SAVE == True:\n",
    "        # Create folder if it does not exist\n",
    "        if not os.path.exists(f\"episodes/{NAME}\"):\n",
    "            os.makedirs(f\"episodes/{NAME}\")\n",
    "        imageio.mimsave(f\"episodes/{NAME}/target_{COLOR_MAP[env.target_color]}_{i}.gif\", frames, fps = FPS)\n",
    "    \n",
    "    fitnesses.append(fitness)\n",
    "    corrects.append(len(info['correct_retrieves']))\n",
    "    wrongs.append(len(info['wrong_retrieves']))\n",
    "\n",
    "episodes_info[\"mean\"] = (np.mean(fitnesses), np.mean(corrects), np.mean(wrongs))\n",
    "if SAVE == True:\n",
    "    with open(f\"episodes/{NAME}/episodes_info_{COLOR_MAP[env.target_color]}.json\", \"w\") as f:\n",
    "        json.dump(episodes_info, f, indent=4)\n",
    "print(np.mean(fitnesses), np.mean(corrects), np.mean(wrongs))"
   ]
  }
 ],
 "metadata": {
  "kernelspec": {
   "display_name": "Python 3",
   "language": "python",
   "name": "python3"
  },
  "language_info": {
   "codemirror_mode": {
    "name": "ipython",
    "version": 3
   },
   "file_extension": ".py",
   "mimetype": "text/x-python",
   "name": "python",
   "nbconvert_exporter": "python",
   "pygments_lexer": "ipython3",
   "version": "3.10.7"
  }
 },
 "nbformat": 4,
 "nbformat_minor": 2
}
